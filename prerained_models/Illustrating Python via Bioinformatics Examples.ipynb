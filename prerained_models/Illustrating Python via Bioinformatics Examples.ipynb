{
 "cells": [
  {
   "cell_type": "markdown",
   "metadata": {},
   "source": [
    "http://hplgit.github.io/bioinf-py/doc/pub/bioinf-py.html"
   ]
  },
  {
   "cell_type": "markdown",
   "metadata": {},
   "source": [
    "# Basic Bioinformatics Examples in Python\n",
    "The leading Python software for bioinformatics applications is BioPython and for real-world problem solving one should rather utilize BioPython instead of home-made solutions. "
   ]
  },
  {
   "cell_type": "markdown",
   "metadata": {},
   "source": [
    "## Counting Letters in DNA Strings"
   ]
  },
  {
   "cell_type": "markdown",
   "metadata": {},
   "source": [
    "### List Iteration"
   ]
  },
  {
   "cell_type": "code",
   "execution_count": 1,
   "metadata": {},
   "outputs": [
    {
     "data": {
      "text/plain": [
       "['A', 'T', 'C', 'G']"
      ]
     },
     "execution_count": 1,
     "metadata": {},
     "output_type": "execute_result"
    }
   ],
   "source": [
    "list('ATCG')"
   ]
  },
  {
   "cell_type": "code",
   "execution_count": 3,
   "metadata": {},
   "outputs": [
    {
     "name": "stdout",
     "output_type": "stream",
     "text": [
      "3\n"
     ]
    }
   ],
   "source": [
    "def count_v1(dna, base):\n",
    "    i = 0\n",
    "    for k in list(dna):\n",
    "        if k == base:\n",
    "            i += 1\n",
    "    return i\n",
    "\n",
    "dna = 'ATGCGGACCTAT'\n",
    "base = 'C'\n",
    "print(count_v1(dna, base))"
   ]
  },
  {
   "cell_type": "markdown",
   "metadata": {},
   "source": [
    "### String Iteration"
   ]
  },
  {
   "cell_type": "code",
   "execution_count": 4,
   "metadata": {},
   "outputs": [
    {
     "name": "stdout",
     "output_type": "stream",
     "text": [
      "A\n",
      "T\n",
      "C\n",
      "G\n"
     ]
    }
   ],
   "source": [
    "for c in 'ATCG':\n",
    "    print(c)"
   ]
  },
  {
   "cell_type": "code",
   "execution_count": 5,
   "metadata": {},
   "outputs": [
    {
     "name": "stdout",
     "output_type": "stream",
     "text": [
      "C appears 3 times in ATGCGGACCTAT\n",
      "C appears 3 times in ATGCGGACCTAT\n"
     ]
    }
   ],
   "source": [
    "def count_v2(dna, base):\n",
    "    i = 0\n",
    "    for k in dna:\n",
    "        if k == base:\n",
    "            i += 1\n",
    "    return i\n",
    "dna = 'ATGCGGACCTAT'\n",
    "base = 'C'\n",
    "n = count_v2(dna, base)\n",
    "\n",
    "# printf-style formatting\n",
    "print(\"%s appears %d times in %s\"%(base, n, dna))\n",
    "\n",
    "# or (new) format string syntax\n",
    "print(\"{base} appears {n} times in {dna}\".format(dna=dna, base=base, n=n))"
   ]
  },
  {
   "cell_type": "markdown",
   "metadata": {},
   "source": [
    "### Program Flow\n",
    "- printing variables and messages,\n",
    "- using a debugger,\n",
    "- using the Online Python Tutor."
   ]
  },
  {
   "cell_type": "code",
   "execution_count": 6,
   "metadata": {},
   "outputs": [
    {
     "name": "stdout",
     "output_type": "stream",
     "text": [
      "dna: ATGCGGACCTAT\n",
      "base: C\n",
      "c: A\n",
      "c: T\n",
      "c: G\n",
      "c: C\n",
      "True if test\n",
      "c: G\n",
      "c: G\n",
      "c: A\n",
      "c: C\n",
      "True if test\n",
      "c: C\n",
      "True if test\n",
      "c: T\n",
      "c: A\n",
      "c: T\n"
     ]
    }
   ],
   "source": [
    "def count_v2_demo(dna, base):\n",
    "    print( 'dna:', dna)\n",
    "    print ('base:', base)\n",
    "    i = 0 # counter\n",
    "    for c in dna:\n",
    "        print ('c:', c)\n",
    "        if c == base:\n",
    "            print ('True if test')\n",
    "            i += 1\n",
    "    return i\n",
    "\n",
    "n = count_v2_demo('ATGCGGACCTAT', 'C')"
   ]
  },
  {
   "cell_type": "markdown",
   "metadata": {},
   "source": [
    "### Index Iteration"
   ]
  },
  {
   "cell_type": "code",
   "execution_count": 7,
   "metadata": {},
   "outputs": [
    {
     "name": "stdout",
     "output_type": "stream",
     "text": [
      "3\n"
     ]
    }
   ],
   "source": [
    "def count_v3(dna, base):\n",
    "    i = 0 # counter\n",
    "    for j in range(len(dna)):\n",
    "        if dna[j] == base:\n",
    "            i += 1\n",
    "    return i\n",
    "dna = 'ATGCGGACCTAT'\n",
    "base = 'C'\n",
    "print(count_v3(dna, base))"
   ]
  },
  {
   "cell_type": "markdown",
   "metadata": {},
   "source": [
    "### While Loops"
   ]
  },
  {
   "cell_type": "code",
   "execution_count": 8,
   "metadata": {},
   "outputs": [
    {
     "name": "stdout",
     "output_type": "stream",
     "text": [
      "3\n"
     ]
    }
   ],
   "source": [
    "def count_v4(dna, base):\n",
    "    i=0\n",
    "    j=0\n",
    "    while(i<len(dna)):\n",
    "        if dna[i]==base:\n",
    "            j+=1\n",
    "        i+=1\n",
    "    return j\n",
    "\n",
    "dna = 'ATGCGGACCTAT'\n",
    "base = 'C'\n",
    "print(count_v4(dna, base))"
   ]
  },
  {
   "cell_type": "markdown",
   "metadata": {},
   "source": [
    "### Summing a Boolean List"
   ]
  },
  {
   "cell_type": "code",
   "execution_count": 9,
   "metadata": {},
   "outputs": [
    {
     "name": "stdout",
     "output_type": "stream",
     "text": [
      "3\n"
     ]
    }
   ],
   "source": [
    "def count_v5(dna, base):\n",
    "    bool_list = []\n",
    "    for i in dna:\n",
    "        if i==base:\n",
    "            bool_list.append(True)\n",
    "        else:\n",
    "            bool_list.append(False)\n",
    "    return sum(bool_list)\n",
    "\n",
    "dna = 'ATGCGGACCTAT'\n",
    "base = 'C'\n",
    "print(count_v5(dna, base))"
   ]
  },
  {
   "cell_type": "markdown",
   "metadata": {},
   "source": [
    "### Inline If Test"
   ]
  },
  {
   "cell_type": "code",
   "execution_count": 10,
   "metadata": {},
   "outputs": [
    {
     "name": "stdout",
     "output_type": "stream",
     "text": [
      "3\n"
     ]
    }
   ],
   "source": [
    "def count_v6(dna, base):\n",
    "    bool_list = []\n",
    "    for i in dna:\n",
    "        bool_list.append(True if i==base else False)\n",
    "    return sum(bool_list)\n",
    "\n",
    "dna = 'ATGCGGACCTAT'\n",
    "base = 'C'\n",
    "print(count_v6(dna, base))"
   ]
  },
  {
   "cell_type": "markdown",
   "metadata": {},
   "source": [
    "### Using Boolean Values Directly"
   ]
  },
  {
   "cell_type": "code",
   "execution_count": 11,
   "metadata": {},
   "outputs": [
    {
     "name": "stdout",
     "output_type": "stream",
     "text": [
      "3\n"
     ]
    }
   ],
   "source": [
    "def count_v7(dna, base):\n",
    "    bool_list = []\n",
    "    for i in dna:\n",
    "        bool_list.append(i==base)\n",
    "    return sum(bool_list)\n",
    "\n",
    "dna = 'ATGCGGACCTAT'\n",
    "base = 'C'\n",
    "print(count_v7(dna, base))"
   ]
  },
  {
   "cell_type": "markdown",
   "metadata": {},
   "source": [
    "### List Comprehensions"
   ]
  },
  {
   "cell_type": "code",
   "execution_count": 12,
   "metadata": {},
   "outputs": [
    {
     "name": "stdout",
     "output_type": "stream",
     "text": [
      "3\n"
     ]
    }
   ],
   "source": [
    "def count_v8(dna, base):\n",
    "    bool_list = [i==base for i in dna]\n",
    "    return sum(bool_list)\n",
    "\n",
    "dna = 'ATGCGGACCTAT'\n",
    "base = 'C'\n",
    "print(count_v8(dna, base))"
   ]
  },
  {
   "cell_type": "code",
   "execution_count": 13,
   "metadata": {},
   "outputs": [
    {
     "name": "stdout",
     "output_type": "stream",
     "text": [
      "3\n"
     ]
    }
   ],
   "source": [
    "def count_v9(dna, base):\n",
    "    return sum([i==base for i in dna])\n",
    "\n",
    "dna = 'ATGCGGACCTAT'\n",
    "base = 'C'\n",
    "print(count_v9(dna, base))"
   ]
  },
  {
   "cell_type": "markdown",
   "metadata": {},
   "source": [
    "### Using a Sum Iterator\n",
    "Summing without actually storing an extra list is desirable."
   ]
  },
  {
   "cell_type": "code",
   "execution_count": 14,
   "metadata": {},
   "outputs": [
    {
     "name": "stdout",
     "output_type": "stream",
     "text": [
      "3\n"
     ]
    }
   ],
   "source": [
    "def count_v10(dna, base):\n",
    "    return sum(i==base for i in dna)\n",
    "\n",
    "dna = 'ATGCGGACCTAT'\n",
    "base = 'C'\n",
    "print(count_v10(dna, base))"
   ]
  },
  {
   "cell_type": "markdown",
   "metadata": {},
   "source": [
    "### Extracting Indices\n",
    "Instead of making a boolean list with elements expressing whether a letter matches the given base or not, we may collect all the indices of the matches. This can be done by adding an if test to the list comprehension:"
   ]
  },
  {
   "cell_type": "code",
   "execution_count": 15,
   "metadata": {},
   "outputs": [
    {
     "name": "stdout",
     "output_type": "stream",
     "text": [
      "[3, 7, 8]\n"
     ]
    }
   ],
   "source": [
    "def count_v11(dna, base):\n",
    "    index_list = [i for i in range(len(dna)) if dna[i]==base]\n",
    "    return index_list\n",
    "\n",
    "dna = 'ATGCGGACCTAT'\n",
    "base = 'C'\n",
    "print(count_v11(dna, base))"
   ]
  },
  {
   "cell_type": "markdown",
   "metadata": {},
   "source": [
    "### Using Python's Library\n",
    "dna.count(base)"
   ]
  },
  {
   "cell_type": "code",
   "execution_count": 16,
   "metadata": {},
   "outputs": [
    {
     "name": "stdout",
     "output_type": "stream",
     "text": [
      "3\n"
     ]
    }
   ],
   "source": [
    "def count_v12(dna, base):\n",
    "    return dna.count(base)\n",
    "\n",
    "dna = 'ATGCGGACCTAT'\n",
    "base = 'C'\n",
    "print(count_v12(dna, base))"
   ]
  },
  {
   "cell_type": "markdown",
   "metadata": {},
   "source": [
    "## Efficiency Assessment\n",
    "Now we have 11 different versions of how to count the occurrences of a letter in a string. Which one of these implementations is the fastest? To answer the question we need some test data, which should be a huge string dna."
   ]
  },
  {
   "cell_type": "markdown",
   "metadata": {},
   "source": [
    "### Generating Random DNA Strings"
   ]
  },
  {
   "cell_type": "code",
   "execution_count": 17,
   "metadata": {},
   "outputs": [],
   "source": [
    "N = 1000000\n",
    "dna = 'A'*N"
   ]
  },
  {
   "cell_type": "code",
   "execution_count": 18,
   "metadata": {},
   "outputs": [],
   "source": [
    "# Generating dna via using all nucleotides\n",
    "import random\n",
    "\n",
    "alphabet = list('ACGT')\n",
    "dna = [random.choice(alphabet) for i in range(N)]\n",
    "dna = ''.join(dna)"
   ]
  },
  {
   "cell_type": "code",
   "execution_count": 19,
   "metadata": {},
   "outputs": [],
   "source": [
    "import random\n",
    "def generate_string(N, alphabet = 'ACGT'):\n",
    "    return ''.join([random.choice(list(alphabet)) for i in range(N)])\n",
    "dna = generate_string(600000)"
   ]
  },
  {
   "cell_type": "markdown",
   "metadata": {},
   "source": [
    "### Measuring CPU Time\n",
    "Our next goal is to see how much time the various count_v* functions spend on counting letters in a huge string, which is to be generated as shown above. Measuring the time spent in a program can be done by the time module:"
   ]
  },
  {
   "cell_type": "markdown",
   "metadata": {},
   "source": [
    "perf_counter() should measure the real amount of time for a process to take, as if you used a stop watch.\n",
    "\n",
    "process_time() will give you the time spent by the computer for the current process, a computer with an OS usually won’t spend 100% of the time on any given process."
   ]
  },
  {
   "cell_type": "code",
   "execution_count": 20,
   "metadata": {},
   "outputs": [
    {
     "data": {
      "text/plain": [
       "2.3399999996343013e-05"
      ]
     },
     "execution_count": 20,
     "metadata": {},
     "output_type": "execute_result"
    }
   ],
   "source": [
    "import time\n",
    "\n",
    "t0 = time.perf_counter()\n",
    "# do stuff\n",
    "t1 = time.perf_counter()\n",
    "cpu_time = t1 - t0\n",
    "cpu_time"
   ]
  },
  {
   "cell_type": "code",
   "execution_count": 21,
   "metadata": {},
   "outputs": [
    {
     "data": {
      "text/plain": [
       "0.0"
      ]
     },
     "execution_count": 21,
     "metadata": {},
     "output_type": "execute_result"
    }
   ],
   "source": [
    "import time\n",
    "\n",
    "t0 = time.process_time()\n",
    "# do stuff\n",
    "t1 = time.process_time()\n",
    "cpu_time = t1 - t0\n",
    "cpu_time"
   ]
  },
  {
   "cell_type": "code",
   "execution_count": 22,
   "metadata": {},
   "outputs": [],
   "source": [
    "import time\n",
    "\n",
    "functions = [count_v1, count_v2, count_v3, count_v4, count_v5, count_v6, count_v7, count_v8, count_v9,\n",
    "            count_v10, count_v11, count_v12]\n",
    "timings = [] # timings[i] holds cpu time for functions[i]\n",
    "\n",
    "for function in functions:\n",
    "    t0 = time.process_time()\n",
    "    function(dna, 'A')\n",
    "    t1 = time.process_time()\n",
    "    cpu_time = t1-t0\n",
    "    timings.append(cpu_time)"
   ]
  },
  {
   "cell_type": "code",
   "execution_count": 23,
   "metadata": {},
   "outputs": [
    {
     "name": "stdout",
     "output_type": "stream",
     "text": [
      "count_v1  : 0.05\n",
      "count_v2  : 0.05\n",
      "count_v3  : 0.06\n",
      "count_v4  : 0.16\n",
      "count_v5  : 0.11\n",
      "count_v6  : 0.09\n",
      "count_v7  : 0.09\n",
      "count_v8  : 0.06\n",
      "count_v9  : 0.08\n",
      "count_v10 : 0.08\n",
      "count_v11 : 0.08\n",
      "count_v12 : 0.00\n"
     ]
    }
   ],
   "source": [
    "for cpu_time, function in zip(timings, functions):\n",
    "    print(\"{f:<9s} : {c:.2f}\".format(f=function.__name__, c=cpu_time))"
   ]
  },
  {
   "cell_type": "markdown",
   "metadata": {},
   "source": [
    "## Verifying the Implementations"
   ]
  },
  {
   "cell_type": "code",
   "execution_count": 24,
   "metadata": {},
   "outputs": [],
   "source": [
    "def test_count_all():\n",
    "    dna = 'ATTTGCGGTCCAAA'\n",
    "    exact = dna.count('A')\n",
    "    for f in functions:\n",
    "        if f(dna, 'A') != exact:\n",
    "            print(f.__name__, 'failed')\n",
    "            "
   ]
  },
  {
   "cell_type": "code",
   "execution_count": 25,
   "metadata": {},
   "outputs": [
    {
     "name": "stdout",
     "output_type": "stream",
     "text": [
      "count_v11 failed\n"
     ]
    }
   ],
   "source": [
    "test_count_all()"
   ]
  },
  {
   "cell_type": "code",
   "execution_count": 26,
   "metadata": {},
   "outputs": [],
   "source": [
    "def test_count_all():\n",
    "    dna = 'ATTTGCGGTCCAAA'\n",
    "    expected = dna.count('A')\n",
    "\n",
    "    unctions = [count_v1, count_v2, count_v3, count_v4,\n",
    "                 count_v5, count_v6, count_v7, count_v8,\n",
    "                 count_v9, count_v10, count_v11, count_v12]\n",
    "    for f in functions:\n",
    "        success = f(dna, 'A') == expected\n",
    "        msg = '%s failed'%f.__name__\n",
    "        assert success, msg"
   ]
  },
  {
   "cell_type": "code",
   "execution_count": 27,
   "metadata": {
    "scrolled": true
   },
   "outputs": [
    {
     "ename": "AssertionError",
     "evalue": "count_v11 failed",
     "output_type": "error",
     "traceback": [
      "\u001b[1;31m---------------------------------------------------------------------------\u001b[0m",
      "\u001b[1;31mAssertionError\u001b[0m                            Traceback (most recent call last)",
      "\u001b[1;32m<ipython-input-27-c011ce5de3c2>\u001b[0m in \u001b[0;36m<module>\u001b[1;34m\u001b[0m\n\u001b[1;32m----> 1\u001b[1;33m \u001b[0mtest_count_all\u001b[0m\u001b[1;33m(\u001b[0m\u001b[1;33m)\u001b[0m\u001b[1;33m\u001b[0m\u001b[1;33m\u001b[0m\u001b[0m\n\u001b[0m",
      "\u001b[1;32m<ipython-input-26-1b915cf9685b>\u001b[0m in \u001b[0;36mtest_count_all\u001b[1;34m()\u001b[0m\n\u001b[0;32m      9\u001b[0m         \u001b[0msuccess\u001b[0m \u001b[1;33m=\u001b[0m \u001b[0mf\u001b[0m\u001b[1;33m(\u001b[0m\u001b[0mdna\u001b[0m\u001b[1;33m,\u001b[0m \u001b[1;34m'A'\u001b[0m\u001b[1;33m)\u001b[0m \u001b[1;33m==\u001b[0m \u001b[0mexpected\u001b[0m\u001b[1;33m\u001b[0m\u001b[1;33m\u001b[0m\u001b[0m\n\u001b[0;32m     10\u001b[0m         \u001b[0mmsg\u001b[0m \u001b[1;33m=\u001b[0m \u001b[1;34m'%s failed'\u001b[0m\u001b[1;33m%\u001b[0m\u001b[0mf\u001b[0m\u001b[1;33m.\u001b[0m\u001b[0m__name__\u001b[0m\u001b[1;33m\u001b[0m\u001b[1;33m\u001b[0m\u001b[0m\n\u001b[1;32m---> 11\u001b[1;33m         \u001b[1;32massert\u001b[0m \u001b[0msuccess\u001b[0m\u001b[1;33m,\u001b[0m \u001b[0mmsg\u001b[0m\u001b[1;33m\u001b[0m\u001b[1;33m\u001b[0m\u001b[0m\n\u001b[0m",
      "\u001b[1;31mAssertionError\u001b[0m: count_v11 failed"
     ]
    }
   ],
   "source": [
    "test_count_all()"
   ]
  },
  {
   "cell_type": "markdown",
   "metadata": {},
   "source": [
    "## Computing Frequencies"
   ]
  },
  {
   "cell_type": "code",
   "execution_count": null,
   "metadata": {},
   "outputs": [],
   "source": []
  }
 ],
 "metadata": {
  "kernelspec": {
   "display_name": "Python 3",
   "language": "python",
   "name": "python3"
  },
  "language_info": {
   "codemirror_mode": {
    "name": "ipython",
    "version": 3
   },
   "file_extension": ".py",
   "mimetype": "text/x-python",
   "name": "python",
   "nbconvert_exporter": "python",
   "pygments_lexer": "ipython3",
   "version": "3.8.5"
  }
 },
 "nbformat": 4,
 "nbformat_minor": 4
}
