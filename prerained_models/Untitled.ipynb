{
 "cells": [
  {
   "cell_type": "code",
   "execution_count": 16,
   "id": "bac666d4",
   "metadata": {},
   "outputs": [],
   "source": [
    "from Bio import SeqIO\n",
    "from tqdm import tqdm, tqdm_notebook"
   ]
  },
  {
   "cell_type": "code",
   "execution_count": 17,
   "id": "97871b20",
   "metadata": {},
   "outputs": [
    {
     "data": {
      "text/plain": [
       "(28224, 28224)"
      ]
     },
     "execution_count": 17,
     "metadata": {},
     "output_type": "execute_result"
    }
   ],
   "source": [
    "random_state = 4\n",
    "\n",
    "sg_reads_seq = []\n",
    "sg_reads_tax = []\n",
    "\n",
    "for seq_record in SeqIO.parse('data/16S-SG-reads.fa/16S-reads.fa', \"fasta\"):\n",
    "    sg_reads_seq.append(seq_record.seq)\n",
    "    sg_reads_tax.append(seq_record.description[seq_record.description.find('description=')+12+1:-1].split())\n",
    "    \n",
    "len(sg_reads_seq), len(sg_reads_tax)"
   ]
  },
  {
   "cell_type": "code",
   "execution_count": 18,
   "id": "c25b275a",
   "metadata": {},
   "outputs": [
    {
     "data": {
      "image/png": "[encoded data removed]",
      "text/plain": [
       "<Figure size 432x288 with 1 Axes>"
      ]
     },
     "metadata": {
      "needs_background": "light"
     },
     "output_type": "display_data"
    }
   ],
   "source": [
    "sg_lens = []\n",
    "for i in sg_reads_seq:\n",
    "    sg_lens.append(len(i))\n",
    "    \n",
    "from matplotlib import pyplot as plt\n",
    "\n",
    "plt.hist(sg_lens)\n",
    "plt.xlabel('Sequence Lenght in Shotgun Sequencing')\n",
    "plt.show()"
   ]
  },
  {
   "cell_type": "code",
   "execution_count": 19,
   "id": "5688f566",
   "metadata": {},
   "outputs": [
    {
     "name": "stdout",
     "output_type": "stream",
     "text": [
      "[23, 72, 80, 143, 168, 193, 230, 253, 272, 338]\n",
      "1006 / 28224\n"
     ]
    }
   ],
   "source": [
    "k = []\n",
    "for i,j in enumerate(sg_reads_seq):\n",
    "    #print(i, set(j))\n",
    "    if len( set(j))>4:\n",
    "        k.append(i)\n",
    "print(k[:10])\n",
    "print(len(k), '/', len(sg_reads_seq))"
   ]
  },
  {
   "cell_type": "code",
   "execution_count": 20,
   "id": "ab26863c",
   "metadata": {},
   "outputs": [],
   "source": [
    "indexes = k\n",
    "for index in sorted(indexes, reverse=True):\n",
    "    del sg_reads_seq[index]\n",
    "    del sg_reads_tax[index]"
   ]
  },
  {
   "cell_type": "code",
   "execution_count": 21,
   "id": "d1ae1b92",
   "metadata": {},
   "outputs": [
    {
     "name": "stdout",
     "output_type": "stream",
     "text": [
      "[]\n",
      "0 / 27218\n"
     ]
    }
   ],
   "source": [
    "k = []\n",
    "for i,j in enumerate(sg_reads_seq):\n",
    "    #print(i, set(j))\n",
    "    if len( set(j))>4:\n",
    "        k.append(i)\n",
    "print(k[:10])\n",
    "print(len(k), '/', len(sg_reads_seq))"
   ]
  },
  {
   "cell_type": "code",
   "execution_count": 22,
   "id": "087bb3bb",
   "metadata": {
    "scrolled": true
   },
   "outputs": [
    {
     "data": {
      "text/html": [
       "<div>\n",
       "<style scoped>\n",
       "    .dataframe tbody tr th:only-of-type {\n",
       "        vertical-align: middle;\n",
       "    }\n",
       "\n",
       "    .dataframe tbody tr th {\n",
       "        vertical-align: top;\n",
       "    }\n",
       "\n",
       "    .dataframe thead th {\n",
       "        text-align: right;\n",
       "    }\n",
       "</style>\n",
       "<table border=\"1\" class=\"dataframe\">\n",
       "  <thead>\n",
       "    <tr style=\"text-align: right;\">\n",
       "      <th></th>\n",
       "      <th>Class_Alphaproteobacteria</th>\n",
       "      <th>Class_Betaproteobacteria</th>\n",
       "      <th>Class_Gammaproteobacteria</th>\n",
       "    </tr>\n",
       "  </thead>\n",
       "  <tbody>\n",
       "    <tr>\n",
       "      <th>0</th>\n",
       "      <td>0</td>\n",
       "      <td>0</td>\n",
       "      <td>1</td>\n",
       "    </tr>\n",
       "    <tr>\n",
       "      <th>1</th>\n",
       "      <td>1</td>\n",
       "      <td>0</td>\n",
       "      <td>0</td>\n",
       "    </tr>\n",
       "    <tr>\n",
       "      <th>2</th>\n",
       "      <td>0</td>\n",
       "      <td>0</td>\n",
       "      <td>1</td>\n",
       "    </tr>\n",
       "    <tr>\n",
       "      <th>3</th>\n",
       "      <td>1</td>\n",
       "      <td>0</td>\n",
       "      <td>0</td>\n",
       "    </tr>\n",
       "    <tr>\n",
       "      <th>4</th>\n",
       "      <td>0</td>\n",
       "      <td>0</td>\n",
       "      <td>1</td>\n",
       "    </tr>\n",
       "    <tr>\n",
       "      <th>...</th>\n",
       "      <td>...</td>\n",
       "      <td>...</td>\n",
       "      <td>...</td>\n",
       "    </tr>\n",
       "    <tr>\n",
       "      <th>27213</th>\n",
       "      <td>0</td>\n",
       "      <td>0</td>\n",
       "      <td>1</td>\n",
       "    </tr>\n",
       "    <tr>\n",
       "      <th>27214</th>\n",
       "      <td>0</td>\n",
       "      <td>0</td>\n",
       "      <td>1</td>\n",
       "    </tr>\n",
       "    <tr>\n",
       "      <th>27215</th>\n",
       "      <td>1</td>\n",
       "      <td>0</td>\n",
       "      <td>0</td>\n",
       "    </tr>\n",
       "    <tr>\n",
       "      <th>27216</th>\n",
       "      <td>1</td>\n",
       "      <td>0</td>\n",
       "      <td>0</td>\n",
       "    </tr>\n",
       "    <tr>\n",
       "      <th>27217</th>\n",
       "      <td>0</td>\n",
       "      <td>0</td>\n",
       "      <td>1</td>\n",
       "    </tr>\n",
       "  </tbody>\n",
       "</table>\n",
       "<p>27218 rows × 3 columns</p>\n",
       "</div>"
      ],
      "text/plain": [
       "       Class_Alphaproteobacteria  Class_Betaproteobacteria  \\\n",
       "0                              0                         0   \n",
       "1                              1                         0   \n",
       "2                              0                         0   \n",
       "3                              1                         0   \n",
       "4                              0                         0   \n",
       "...                          ...                       ...   \n",
       "27213                          0                         0   \n",
       "27214                          0                         0   \n",
       "27215                          1                         0   \n",
       "27216                          1                         0   \n",
       "27217                          0                         0   \n",
       "\n",
       "       Class_Gammaproteobacteria  \n",
       "0                              1  \n",
       "1                              0  \n",
       "2                              1  \n",
       "3                              0  \n",
       "4                              1  \n",
       "...                          ...  \n",
       "27213                          1  \n",
       "27214                          1  \n",
       "27215                          0  \n",
       "27216                          0  \n",
       "27217                          1  \n",
       "\n",
       "[27218 rows x 3 columns]"
      ]
     },
     "execution_count": 22,
     "metadata": {},
     "output_type": "execute_result"
    }
   ],
   "source": [
    "import numpy as np\n",
    "import pandas as pd\n",
    "\n",
    "tax = [\"Class\", \"Order\", \"Family\", \"Genus\"]\n",
    "\n",
    "sg = pd.DataFrame()\n",
    "\n",
    "col = []\n",
    "for j in sg_reads_tax:\n",
    "    col.append(j[0])\n",
    "sg[tax[0]] = col\n",
    "\n",
    "#pd.get_dummies() always arrange the different categories in alphabetical order and then assign values\n",
    "pd.get_dummies(sg)"
   ]
  },
  {
   "cell_type": "code",
   "execution_count": 23,
   "id": "a93f6cc8",
   "metadata": {
    "scrolled": true
   },
   "outputs": [
    {
     "name": "stdout",
     "output_type": "stream",
     "text": [
      "229 274\n"
     ]
    },
    {
     "data": {
      "text/plain": [
       "(array([2, 0, 2, ..., 0, 0, 2], dtype=int64), 27218)"
      ]
     },
     "execution_count": 23,
     "metadata": {},
     "output_type": "execute_result"
    }
   ],
   "source": [
    "classes = list(pd.get_dummies(sg).columns)\n",
    "labels = np.argmax(np.array(pd.get_dummies(sg)), axis=1)\n",
    "print(min([len(k) for k in sg_reads_seq]), max([len(k) for k in sg_reads_seq]))\n",
    "\n",
    "labels, len(labels)\n"
   ]
  },
  {
   "cell_type": "code",
   "execution_count": null,
   "id": "bf3d2b3f",
   "metadata": {},
   "outputs": [],
   "source": [
    "X = PyDNA.select_df_column(df_genomics, “dna_sequence”)\n",
    "dna_is_same_length = PyDNA.dna_sequence_is_equal_length(X) \n",
    "print(dna_is_same_length)"
   ]
  }
 ],
 "metadata": {
  "kernelspec": {
   "display_name": "Python 3",
   "language": "python",
   "name": "python3"
  },
  "language_info": {
   "codemirror_mode": {
    "name": "ipython",
    "version": 3
   },
   "file_extension": ".py",
   "mimetype": "text/x-python",
   "name": "python",
   "nbconvert_exporter": "python",
   "pygments_lexer": "ipython3",
   "version": "3.8.8"
  }
 },
 "nbformat": 4,
 "nbformat_minor": 5
}
