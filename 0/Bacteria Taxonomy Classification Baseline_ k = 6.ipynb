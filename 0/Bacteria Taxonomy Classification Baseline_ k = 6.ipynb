{
 "cells": [
  {
   "cell_type": "code",
   "execution_count": 22,
   "id": "68392820",
   "metadata": {},
   "outputs": [
    {
     "data": {
      "text/plain": [
       "device(type='cuda')"
      ]
     },
     "execution_count": 22,
     "metadata": {},
     "output_type": "execute_result"
    }
   ],
   "source": [
    "from Bio import SeqIO\n",
    "from tqdm import tqdm, tqdm_notebook\n",
    "import numpy as np\n",
    "\n",
    "from pathlib import Path\n",
    "\n",
    "import pandas as pd\n",
    "import torch\n",
    "import torch.nn.functional as F\n",
    "import torch.nn as nn\n",
    "import torch.optim as optim\n",
    "from google_drive_downloader import GoogleDriveDownloader as gdd\n",
    "from sklearn.feature_extraction.text import CountVectorizer\n",
    "from torch.nn.utils.rnn import pack_padded_sequence, pad_packed_sequence\n",
    "from torch.utils.data import DataLoader, Dataset\n",
    "from tqdm import tqdm, tqdm_notebook\n",
    "\n",
    "device = torch.device('cuda' if torch.cuda.is_available() else 'cpu')\n",
    "random_state = 4\n",
    "device"
   ]
  },
  {
   "cell_type": "code",
   "execution_count": 2,
   "id": "8eebeaa1",
   "metadata": {},
   "outputs": [
    {
     "data": {
      "text/plain": [
       "(28224, 28224)"
      ]
     },
     "execution_count": 2,
     "metadata": {},
     "output_type": "execute_result"
    }
   ],
   "source": [
    "sg_reads_seq = []\n",
    "sg_reads_tax = []\n",
    "\n",
    "for seq_record in SeqIO.parse('data/16S-SG-reads.fa/16S-reads.fa', \"fasta\"):\n",
    "    sg_reads_seq.append(seq_record.seq)\n",
    "    sg_reads_tax.append(seq_record.description[seq_record.description.find('description=')+12+1:-1].split())\n",
    "    \n",
    "len(sg_reads_seq), len(sg_reads_tax)"
   ]
  },
  {
   "cell_type": "code",
   "execution_count": 3,
   "id": "8ba596bc",
   "metadata": {},
   "outputs": [
    {
     "data": {
      "text/plain": [
       "Bio.Seq.Seq"
      ]
     },
     "execution_count": 3,
     "metadata": {},
     "output_type": "execute_result"
    }
   ],
   "source": [
    "type(sg_reads_seq[0])"
   ]
  },
  {
   "cell_type": "code",
   "execution_count": 4,
   "id": "c064795b",
   "metadata": {},
   "outputs": [
    {
     "name": "stdout",
     "output_type": "stream",
     "text": [
      "GCCCCGGGCTCAACCTGGGAACTGCATTTCGAACTGGCAAACTAGAGTTCTTGAGAGGGTGGTAGAATTTCAGGTGTAGCGGTGAAATGCGAAGAGATCTGAAGGATTACCAGTGGCGAAGGCGGCCTACCGGCAACTATCCGACTCTCGGATGCGAAAGCGAGGTACCGGACGGGATCCGTTGAGCTGTATTTGCCCGCGGTAAATGGATTCCGCTAGCGGGACTCGGAGAGCCTTAGTGGAACCAC\n"
     ]
    }
   ],
   "source": [
    "print(sg_reads_seq[0])"
   ]
  },
  {
   "cell_type": "code",
   "execution_count": 5,
   "id": "1c54caa4",
   "metadata": {},
   "outputs": [
    {
     "name": "stdout",
     "output_type": "stream",
     "text": [
      "['Gammaproteobacteria', 'Alteromonadales', 'Moritellaceae', 'Moritella']\n"
     ]
    }
   ],
   "source": [
    "print(sg_reads_tax[0])"
   ]
  },
  {
   "cell_type": "code",
   "execution_count": 7,
   "id": "0059b2d8",
   "metadata": {},
   "outputs": [],
   "source": [
    "tax = [\"Class\", \"Order\", \"Family\", \"Genus\"]"
   ]
  },
  {
   "cell_type": "code",
   "execution_count": 8,
   "id": "f2627015",
   "metadata": {},
   "outputs": [],
   "source": [
    "sg = pd.DataFrame()\n",
    "for i in range(4):\n",
    "    col = []\n",
    "    for j in sg_reads_tax:\n",
    "        if (len(j))==3:\n",
    "            j.append('Simiduia')\n",
    "        col.append(j[i])\n",
    "    sg[tax[i]] = col"
   ]
  },
  {
   "cell_type": "code",
   "execution_count": 9,
   "id": "64de788c",
   "metadata": {},
   "outputs": [
    {
     "data": {
      "text/html": [
       "<div>\n",
       "<style scoped>\n",
       "    .dataframe tbody tr th:only-of-type {\n",
       "        vertical-align: middle;\n",
       "    }\n",
       "\n",
       "    .dataframe tbody tr th {\n",
       "        vertical-align: top;\n",
       "    }\n",
       "\n",
       "    .dataframe thead th {\n",
       "        text-align: right;\n",
       "    }\n",
       "</style>\n",
       "<table border=\"1\" class=\"dataframe\">\n",
       "  <thead>\n",
       "    <tr style=\"text-align: right;\">\n",
       "      <th></th>\n",
       "      <th>Class</th>\n",
       "      <th>Order</th>\n",
       "      <th>Family</th>\n",
       "      <th>Genus</th>\n",
       "    </tr>\n",
       "  </thead>\n",
       "  <tbody>\n",
       "    <tr>\n",
       "      <th>0</th>\n",
       "      <td>Gammaproteobacteria</td>\n",
       "      <td>Alteromonadales</td>\n",
       "      <td>Moritellaceae</td>\n",
       "      <td>Moritella</td>\n",
       "    </tr>\n",
       "    <tr>\n",
       "      <th>1</th>\n",
       "      <td>Alphaproteobacteria</td>\n",
       "      <td>Rhodobacterales</td>\n",
       "      <td>Rhodobacteraceae</td>\n",
       "      <td>Sagittula</td>\n",
       "    </tr>\n",
       "    <tr>\n",
       "      <th>2</th>\n",
       "      <td>Gammaproteobacteria</td>\n",
       "      <td>\\\"Vibrionales\\\"</td>\n",
       "      <td>Vibrionaceae</td>\n",
       "      <td>Lucibacterium</td>\n",
       "    </tr>\n",
       "    <tr>\n",
       "      <th>3</th>\n",
       "      <td>Alphaproteobacteria</td>\n",
       "      <td>Rhodobacterales</td>\n",
       "      <td>Rhodobacteraceae</td>\n",
       "      <td>Rhodobaca</td>\n",
       "    </tr>\n",
       "    <tr>\n",
       "      <th>4</th>\n",
       "      <td>Gammaproteobacteria</td>\n",
       "      <td>Alteromonadales</td>\n",
       "      <td>Ferrimonadaceae</td>\n",
       "      <td>Ferrimonas</td>\n",
       "    </tr>\n",
       "  </tbody>\n",
       "</table>\n",
       "</div>"
      ],
      "text/plain": [
       "                 Class            Order            Family          Genus\n",
       "0  Gammaproteobacteria  Alteromonadales     Moritellaceae      Moritella\n",
       "1  Alphaproteobacteria  Rhodobacterales  Rhodobacteraceae      Sagittula\n",
       "2  Gammaproteobacteria  \\\"Vibrionales\\\"      Vibrionaceae  Lucibacterium\n",
       "3  Alphaproteobacteria  Rhodobacterales  Rhodobacteraceae      Rhodobaca\n",
       "4  Gammaproteobacteria  Alteromonadales   Ferrimonadaceae     Ferrimonas"
      ]
     },
     "execution_count": 9,
     "metadata": {},
     "output_type": "execute_result"
    }
   ],
   "source": [
    "sg.head()"
   ]
  },
  {
   "cell_type": "markdown",
   "id": "93acb38e",
   "metadata": {},
   "source": [
    "# Word Vectors using  Bag of Words model"
   ]
  },
  {
   "cell_type": "code",
   "execution_count": 105,
   "id": "c201d72f",
   "metadata": {},
   "outputs": [],
   "source": [
    "human = pd.DataFrame()\n",
    "human['sequence'] = [str(i) for i in sg_reads_seq]"
   ]
  },
  {
   "cell_type": "code",
   "execution_count": 106,
   "id": "bfb57015",
   "metadata": {
    "scrolled": true
   },
   "outputs": [
    {
     "data": {
      "text/html": [
       "<div>\n",
       "<style scoped>\n",
       "    .dataframe tbody tr th:only-of-type {\n",
       "        vertical-align: middle;\n",
       "    }\n",
       "\n",
       "    .dataframe tbody tr th {\n",
       "        vertical-align: top;\n",
       "    }\n",
       "\n",
       "    .dataframe thead th {\n",
       "        text-align: right;\n",
       "    }\n",
       "</style>\n",
       "<table border=\"1\" class=\"dataframe\">\n",
       "  <thead>\n",
       "    <tr style=\"text-align: right;\">\n",
       "      <th></th>\n",
       "      <th>sequence</th>\n",
       "    </tr>\n",
       "  </thead>\n",
       "  <tbody>\n",
       "    <tr>\n",
       "      <th>0</th>\n",
       "      <td>GCCCCGGGCTCAACCTGGGAACTGCATTTCGAACTGGCAAACTAGA...</td>\n",
       "    </tr>\n",
       "    <tr>\n",
       "      <th>1</th>\n",
       "      <td>ACTGCCTCCAAAACTATCAGTCTAGAGTTCGAGAGAGGTGAGTGGA...</td>\n",
       "    </tr>\n",
       "    <tr>\n",
       "      <th>2</th>\n",
       "      <td>TAGCGGCGTCGTTTGACGTTAGCGACAGAAGAAGCACCGGCTAACT...</td>\n",
       "    </tr>\n",
       "    <tr>\n",
       "      <th>3</th>\n",
       "      <td>CTAGCGTTGTTCGGAATTACTGGGCGTATAGCGCGCGTTAGGCGGA...</td>\n",
       "    </tr>\n",
       "    <tr>\n",
       "      <th>4</th>\n",
       "      <td>CATGGCTCAGATTGAACGCTGGCGGCAGGCCTAACACATGCAAGTC...</td>\n",
       "    </tr>\n",
       "  </tbody>\n",
       "</table>\n",
       "</div>"
      ],
      "text/plain": [
       "                                            sequence\n",
       "0  GCCCCGGGCTCAACCTGGGAACTGCATTTCGAACTGGCAAACTAGA...\n",
       "1  ACTGCCTCCAAAACTATCAGTCTAGAGTTCGAGAGAGGTGAGTGGA...\n",
       "2  TAGCGGCGTCGTTTGACGTTAGCGACAGAAGAAGCACCGGCTAACT...\n",
       "3  CTAGCGTTGTTCGGAATTACTGGGCGTATAGCGCGCGTTAGGCGGA...\n",
       "4  CATGGCTCAGATTGAACGCTGGCGGCAGGCCTAACACATGCAAGTC..."
      ]
     },
     "execution_count": 106,
     "metadata": {},
     "output_type": "execute_result"
    }
   ],
   "source": [
    "human.head()"
   ]
  },
  {
   "cell_type": "code",
   "execution_count": 107,
   "id": "d5123e09",
   "metadata": {},
   "outputs": [],
   "source": [
    "# function to convert sequence strings into k-mer words, default size = 6 (hexamer words)\n",
    "def getKmers(sequence, size=6):\n",
    "    return [sequence[x:x+size].lower() for x in range(len(sequence) - size + 1)]"
   ]
  },
  {
   "cell_type": "code",
   "execution_count": 108,
   "id": "0a488986",
   "metadata": {},
   "outputs": [],
   "source": [
    "human['words'] = human.apply(lambda x: getKmers(x['sequence'], size=6), axis=1) # default size = 6\n",
    "human = human.drop('sequence', axis=1)"
   ]
  },
  {
   "cell_type": "code",
   "execution_count": 109,
   "id": "fb663ca7",
   "metadata": {},
   "outputs": [
    {
     "data": {
      "text/html": [
       "<div>\n",
       "<style scoped>\n",
       "    .dataframe tbody tr th:only-of-type {\n",
       "        vertical-align: middle;\n",
       "    }\n",
       "\n",
       "    .dataframe tbody tr th {\n",
       "        vertical-align: top;\n",
       "    }\n",
       "\n",
       "    .dataframe thead th {\n",
       "        text-align: right;\n",
       "    }\n",
       "</style>\n",
       "<table border=\"1\" class=\"dataframe\">\n",
       "  <thead>\n",
       "    <tr style=\"text-align: right;\">\n",
       "      <th></th>\n",
       "      <th>words</th>\n",
       "    </tr>\n",
       "  </thead>\n",
       "  <tbody>\n",
       "    <tr>\n",
       "      <th>0</th>\n",
       "      <td>[gccccg, ccccgg, cccggg, ccgggc, cgggct, gggct...</td>\n",
       "    </tr>\n",
       "    <tr>\n",
       "      <th>1</th>\n",
       "      <td>[actgcc, ctgcct, tgcctc, gcctcc, cctcca, ctcca...</td>\n",
       "    </tr>\n",
       "    <tr>\n",
       "      <th>2</th>\n",
       "      <td>[tagcgg, agcggc, gcggcg, cggcgt, ggcgtc, gcgtc...</td>\n",
       "    </tr>\n",
       "    <tr>\n",
       "      <th>3</th>\n",
       "      <td>[ctagcg, tagcgt, agcgtt, gcgttg, cgttgt, gttgt...</td>\n",
       "    </tr>\n",
       "    <tr>\n",
       "      <th>4</th>\n",
       "      <td>[catggc, atggct, tggctc, ggctca, gctcag, ctcag...</td>\n",
       "    </tr>\n",
       "  </tbody>\n",
       "</table>\n",
       "</div>"
      ],
      "text/plain": [
       "                                               words\n",
       "0  [gccccg, ccccgg, cccggg, ccgggc, cgggct, gggct...\n",
       "1  [actgcc, ctgcct, tgcctc, gcctcc, cctcca, ctcca...\n",
       "2  [tagcgg, agcggc, gcggcg, cggcgt, ggcgtc, gcgtc...\n",
       "3  [ctagcg, tagcgt, agcgtt, gcgttg, cgttgt, gttgt...\n",
       "4  [catggc, atggct, tggctc, ggctca, gctcag, ctcag..."
      ]
     },
     "execution_count": 109,
     "metadata": {},
     "output_type": "execute_result"
    }
   ],
   "source": [
    "human.head()"
   ]
  },
  {
   "cell_type": "code",
   "execution_count": 110,
   "id": "a0121660",
   "metadata": {},
   "outputs": [
    {
     "name": "stdout",
     "output_type": "stream",
     "text": [
      "gccccg ccccgg cccggg ccgggc cgggct gggctc ggctca gctcaa ctcaac tcaacc caacct aacctg acctgg cctggg ctggga tgggaa gggaac ggaact gaactg aactgc actgca ctgcat tgcatt gcattt catttc atttcg tttcga ttcgaa tcgaac cgaact gaactg aactgg actggc ctggca tggcaa ggcaaa gcaaac caaact aaacta aactag actaga ctagag tagagt agagtt gagttc agttct gttctt ttcttg tcttga cttgag ttgaga tgagag gagagg agaggg gagggt agggtg gggtgg ggtggt gtggta tggtag ggtaga gtagaa tagaat agaatt gaattt aatttc atttca tttcag ttcagg tcaggt caggtg aggtgt ggtgta gtgtag tgtagc gtagcg tagcgg agcggt gcggtg cggtga ggtgaa gtgaaa tgaaat gaaatg aaatgc aatgcg atgcga tgcgaa gcgaag cgaaga gaagag aagaga agagat gagatc agatct gatctg atctga tctgaa ctgaag tgaagg gaagga aaggat aggatt ggatta gattac attacc ttacca taccag accagt ccagtg cagtgg agtggc gtggcg tggcga ggcgaa gcgaag cgaagg gaaggc aaggcg aggcgg ggcggc gcggcc cggcct ggccta gcctac cctacc ctaccg taccgg accggc ccggca cggcaa ggcaac gcaact caacta aactat actatc ctatcc tatccg atccga tccgac ccgact cgactc gactct actctc ctctcg tctcgg ctcgga tcggat cggatg ggatgc gatgcg atgcga tgcgaa gcgaaa cgaaag gaaagc aaagcg aagcga agcgag gcgagg cgaggt gaggta aggtac ggtacc gtaccg taccgg accgga ccggac cggacg ggacgg gacggg acggga cgggat gggatc ggatcc gatccg atccgt tccgtt ccgttg cgttga gttgag ttgagc tgagct gagctg agctgt gctgta ctgtat tgtatt gtattt tatttg atttgc tttgcc ttgccc tgcccg gcccgc cccgcg ccgcgg cgcggt gcggta cggtaa ggtaaa gtaaat taaatg aaatgg aatgga atggat tggatt ggattc gattcc attccg ttccgc tccgct ccgcta cgctag gctagc ctagcg tagcgg agcggg gcggga cgggac gggact ggactc gactcg actcgg ctcgga tcggag cggaga ggagag gagagc agagcc gagcct agcctt gcctta ccttag cttagt ttagtg tagtgg agtgga gtggaa tggaac ggaacc gaacca aaccac\n"
     ]
    }
   ],
   "source": [
    "human_texts = list(human['words'])\n",
    "for item in range(len(human_texts)):\n",
    "    human_texts[item] = ' '.join(human_texts[item])\n",
    "print(human_texts[0])"
   ]
  },
  {
   "cell_type": "code",
   "execution_count": 111,
   "id": "1c01142e",
   "metadata": {},
   "outputs": [],
   "source": [
    "# Creating the Bag of Words model using CountVectorizer()\n",
    "# This is equivalent to k-mer counting\n",
    "# The n-gram size of 4 was previously determined by testing\n",
    "from sklearn.feature_extraction.text import CountVectorizer\n",
    "cv = CountVectorizer(ngram_range=(4,4)) # initial : (4, 4)\n",
    "X = cv.fit_transform(human_texts)"
   ]
  },
  {
   "cell_type": "code",
   "execution_count": 112,
   "id": "01cfedb4",
   "metadata": {},
   "outputs": [
    {
     "data": {
      "text/plain": [
       "(28224, 272193)"
      ]
     },
     "execution_count": 112,
     "metadata": {},
     "output_type": "execute_result"
    }
   ],
   "source": [
    "X.shape"
   ]
  },
  {
   "cell_type": "code",
   "execution_count": 113,
   "id": "c21221ed",
   "metadata": {},
   "outputs": [
    {
     "data": {
      "text/plain": [
       "{'gccccg ccccgg cccggg ccgggc': 157785,\n",
       " 'ccccgg cccggg ccgggc cgggct': 90258,\n",
       " 'cccggg ccgggc cgggct gggctc': 91289,\n",
       " 'ccgggc cgggct gggctc ggctca': 95447,\n",
       " 'cgggct gggctc ggctca gctcaa': 112143,\n",
       " 'gggctc ggctca gctcaa ctcaac': 179495,\n",
       " 'ggctca gctcaa ctcaac tcaacc': 176760,\n",
       " 'gctcaa ctcaac tcaacc caacct': 165902,\n",
       " 'ctcaac tcaacc caacct aacctg': 122578,\n",
       " 'tcaacc caacct aacctg acctgg': 221661,\n",
       " 'caacct aacctg acctgg cctggg': 69159,\n",
       " 'aacctg acctgg cctggg ctggga': 6164,\n",
       " 'acctgg cctggg ctggga tgggaa': 24805,\n",
       " 'cctggg ctggga tgggaa gggaac': 99683,\n",
       " 'ctggga tgggaa gggaac ggaact': 129250,\n",
       " 'tgggaa gggaac ggaact gaactg': 248516,\n",
       " 'gggaac ggaact gaactg aactgc': 177685,\n",
       " 'ggaact gaactg aactgc actgca': 169578,\n",
       " 'gaactg aactgc actgca ctgcat': 137176,\n",
       " 'aactgc actgca ctgcat tgcatt': 7922,\n",
       " 'actgca ctgcat tgcatt gcattt': 31847,\n",
       " 'ctgcat tgcatt gcattt catttc': 127933,\n",
       " 'tgcatt gcattt catttc atttcg': 243216,\n",
       " 'gcattt catttc atttcg tttcga': 156273,\n",
       " 'catttc atttcg tttcga ttcgaa': 84217,\n",
       " 'atttcg tttcga ttcgaa tcgaac': 66931,\n",
       " 'tttcga ttcgaa tcgaac cgaact': 269317,\n",
       " 'ttcgaa tcgaac cgaact gaactg': 261432,\n",
       " 'tcgaac cgaact gaactg aactgg': 229732,\n",
       " 'cgaact gaactg aactgg actggc': 101676,\n",
       " 'gaactg aactgg actggc ctggca': 137193,\n",
       " 'aactgg actggc ctggca tggcaa': 7989,\n",
       " 'actggc ctggca tggcaa ggcaaa': 32107,\n",
       " 'ctggca tggcaa ggcaaa gcaaac': 128984,\n",
       " 'tggcaa ggcaaa gcaaac caaact': 247440,\n",
       " 'ggcaaa gcaaac caaact aaacta': 173353,\n",
       " 'gcaaac caaact aaacta aactag': 152226,\n",
       " 'caaact aaacta aactag actaga': 68091,\n",
       " 'aaacta aactag actaga ctagag': 1857,\n",
       " 'aactag actaga ctagag tagagt': 7464,\n",
       " 'actaga ctagag tagagt agagtt': 30012,\n",
       " 'ctagag tagagt agagtt gagttc': 120599,\n",
       " 'tagagt agagtt gagttc agttct': 213654,\n",
       " 'agagtt gagttc agttct gttctt': 36752,\n",
       " 'gagttc agttct gttctt ttcttg': 147691,\n",
       " 'agttct gttctt ttcttg tcttga': 50063,\n",
       " 'gttctt ttcttg tcttga cttgag': 201175,\n",
       " 'ttcttg tcttga cttgag ttgaga': 263371,\n",
       " 'tcttga cttgag ttgaga tgagag': 237513,\n",
       " 'cttgag ttgaga tgagag gagagg': 133124,\n",
       " 'ttgaga tgagag gagagg agaggg': 264060,\n",
       " 'tgagag gagagg agaggg gagggt': 240265,\n",
       " 'gagagg agaggg gagggt agggtg': 144296,\n",
       " 'agaggg gagggt agggtg gggtgg': 36449,\n",
       " 'gagggt agggtg gggtgg ggtggt': 146475,\n",
       " 'agggtg gggtgg ggtggt gtggta': 45178,\n",
       " 'gggtgg ggtggt gtggta tggtag': 181525,\n",
       " 'ggtggt gtggta tggtag ggtaga': 184772,\n",
       " 'gtggta tggtag ggtaga gtagaa': 197752,\n",
       " 'tggtag ggtaga gtagaa tagaat': 249708,\n",
       " 'ggtaga gtagaa tagaat agaatt': 182495,\n",
       " 'gtagaa tagaat agaatt gaattt': 188620,\n",
       " 'tagaat agaatt gaattt aatttc': 213142,\n",
       " 'agaatt gaattt aatttc atttca': 34672,\n",
       " 'gaattt aatttc atttca tttcag': 139354,\n",
       " 'aatttc atttca tttcag ttcagg': 16638,\n",
       " 'atttca tttcag ttcagg tcaggt': 66844,\n",
       " 'tttcag ttcagg tcaggt caggtg': 268971,\n",
       " 'ttcagg tcaggt caggtg aggtgt': 260037,\n",
       " 'tcaggt caggtg aggtgt ggtgta': 224121,\n",
       " 'caggtg aggtgt ggtgta gtgtag': 79030,\n",
       " 'aggtgt ggtgta gtgtag tgtagc': 46002,\n",
       " 'ggtgta gtgtag tgtagc gtagcg': 184876,\n",
       " 'gtgtag tgtagc gtagcg tagcgg': 198151,\n",
       " 'tgtagc gtagcg tagcgg agcggt': 251305,\n",
       " 'gtagcg tagcgg agcggt gcggtg': 188991,\n",
       " 'tagcgg agcggt gcggtg cggtga': 214634,\n",
       " 'agcggt gcggtg cggtga ggtgaa': 40724,\n",
       " 'gcggtg cggtga ggtgaa gtgaaa': 163552,\n",
       " 'cggtga ggtgaa gtgaaa tgaaat': 113266,\n",
       " 'ggtgaa gtgaaa tgaaat gaaatg': 184052,\n",
       " 'gtgaaa tgaaat gaaatg aaatgc': 194890,\n",
       " 'tgaaat gaaatg aaatgc aatgcg': 238235,\n",
       " 'gaaatg aaatgc aatgcg atgcga': 136132,\n",
       " 'aaatgc aatgcg atgcga tgcgaa': 3759,\n",
       " 'aatgcg atgcga tgcgaa gcgaag': 15125,\n",
       " 'atgcga tgcgaa gcgaag cgaaga': 60725,\n",
       " 'tgcgaa gcgaag cgaaga gaagag': 244304,\n",
       " 'gcgaag cgaaga gaagag aagaga': 160669,\n",
       " 'cgaaga gaagag aagaga agagat': 101735,\n",
       " 'gaagag aagaga agagat gagatc': 137432,\n",
       " 'aagaga agagat gagatc agatct': 8950,\n",
       " 'agagat gagatc agatct gatctg': 35957,\n",
       " 'gagatc agatct gatctg atctga': 144508,\n",
       " 'agatct gatctg atctga tctgaa': 37292,\n",
       " 'gatctg atctga tctgaa ctgaag': 149845,\n",
       " 'atctga tctgaa ctgaag tgaagg': 58646,\n",
       " 'tctgaa ctgaag tgaagg gaagga': 235950,\n",
       " 'ctgaag tgaagg gaagga aaggat': 126805,\n",
       " 'tgaagg gaagga aaggat aggatt': 238668,\n",
       " 'gaagga aaggat aggatt ggatta': 137877,\n",
       " 'aaggat aggatt ggatta gattac': 10720,\n",
       " 'aggatt ggatta gattac attacc': 43095,\n",
       " 'ggatta gattac attacc ttacca': 173081,\n",
       " 'gattac attacc ttacca taccag': 151135,\n",
       " 'attacc ttacca taccag accagt': 63740,\n",
       " 'ttacca taccag accagt ccagtg': 256502,\n",
       " 'taccag accagt ccagtg cagtgg': 209930,\n",
       " 'accagt ccagtg cagtgg agtggc': 21749,\n",
       " 'ccagtg cagtgg agtggc gtggcg': 87405,\n",
       " 'cagtgg agtggc gtggcg tggcga': 79797,\n",
       " 'agtggc gtggcg tggcga ggcgaa': 49108,\n",
       " 'gtggcg tggcga ggcgaa gcgaag': 197316,\n",
       " 'tggcga ggcgaa gcgaag cgaagg': 247960,\n",
       " 'ggcgaa gcgaag cgaagg gaaggc': 175453,\n",
       " 'gcgaag cgaagg gaaggc aaggcg': 160700,\n",
       " 'cgaagg gaaggc aaggcg aggcgg': 101856,\n",
       " 'gaaggc aaggcg aggcgg ggcggc': 137923,\n",
       " 'aaggcg aggcgg ggcggc gcggcc': 10905,\n",
       " 'aggcgg ggcggc gcggcc cggcct': 43832,\n",
       " 'ggcggc gcggcc cggcct ggccta': 176035,\n",
       " 'gcggcc cggcct ggccta gcctac': 163009,\n",
       " 'cggcct ggccta gcctac cctacc': 111082,\n",
       " 'ggccta gcctac cctacc ctaccg': 175173,\n",
       " 'gcctac cctacc ctaccg taccgg': 159561,\n",
       " 'cctacc ctaccg taccgg accggc': 97330,\n",
       " 'ctaccg taccgg accggc ccggca': 119793,\n",
       " 'taccgg accggc ccggca cggcaa': 210406,\n",
       " 'accggc ccggca cggcaa ggcaac': 23658,\n",
       " 'ccggca cggcaa ggcaac gcaact': 95074,\n",
       " 'cggcaa ggcaac gcaact caacta': 110645,\n",
       " 'ggcaac gcaact caacta aactat': 173440,\n",
       " 'gcaact caacta aactat actatc': 152579,\n",
       " 'caacta aactat actatc ctatcc': 69497,\n",
       " 'aactat actatc ctatcc tatccg': 7541,\n",
       " 'actatc ctatcc tatccg atccga': 30319,\n",
       " 'ctatcc tatccg atccga tccgac': 121808,\n",
       " 'tatccg atccga tccgac ccgact': 218546,\n",
       " 'atccga tccgac ccgact cgactc': 56574,\n",
       " 'tccgac ccgact cgactc gactct': 227637,\n",
       " 'ccgact cgactc gactct actctc': 93192,\n",
       " 'cgactc gactct actctc ctctcg': 103123,\n",
       " 'gactct actctc ctctcg tctcgg': 143028,\n",
       " 'actctc ctctcg tctcgg ctcgga': 31372,\n",
       " 'ctctcg tctcgg ctcgga tcggat': 126031,\n",
       " 'tctcgg ctcgga tcggat cggatg': 235536,\n",
       " 'ctcgga tcggat cggatg ggatgc': 125130,\n",
       " 'tcggat cggatg ggatgc gatgcg': 231929,\n",
       " 'cggatg ggatgc gatgcg atgcga': 110510,\n",
       " 'ggatgc gatgcg atgcga tgcgaa': 172886,\n",
       " 'gatgcg atgcga tgcgaa gcgaaa': 150367,\n",
       " 'atgcga tgcgaa gcgaaa cgaaag': 60719,\n",
       " 'tgcgaa gcgaaa cgaaag gaaagc': 244278,\n",
       " 'gcgaaa cgaaag gaaagc aaagcg': 160567,\n",
       " 'cgaaag gaaagc aaagcg aagcga': 101331,\n",
       " 'gaaagc aaagcg aagcga agcgag': 135812,\n",
       " 'aaagcg aagcga agcgag gcgagg': 2486,\n",
       " 'aagcga agcgag gcgagg cgaggt': 9988,\n",
       " 'agcgag gcgagg cgaggt gaggta': 40144,\n",
       " 'gcgagg cgaggt gaggta aggtac': 161236,\n",
       " 'cgaggt gaggta aggtac ggtacc': 103987,\n",
       " 'gaggta aggtac ggtacc gtaccg': 146523,\n",
       " 'aggtac ggtacc gtaccg taccgg': 45368,\n",
       " 'ggtacc gtaccg taccgg accgga': 182326,\n",
       " 'gtaccg taccgg accgga ccggac': 187935,\n",
       " 'taccgg accgga ccggac cggacg': 210396,\n",
       " 'accgga ccggac cggacg ggacgg': 23619,\n",
       " 'ccggac cggacg ggacgg gacggg': 94914,\n",
       " 'cggacg ggacgg gacggg acggga': 110003,\n",
       " 'ggacgg gacggg acggga cgggat': 170819,\n",
       " 'gacggg acggga cgggat gggatc': 142142,\n",
       " 'acggga cgggat gggatc ggatcc': 27844,\n",
       " 'cgggat gggatc ggatcc gatccg': 111892,\n",
       " 'gggatc ggatcc gatccg atccgt': 178462,\n",
       " 'ggatcc gatccg atccgt tccgtt': 172638,\n",
       " 'gatccg atccgt tccgtt ccgttg': 149380,\n",
       " 'atccgt tccgtt ccgttg cgttga': 56796,\n",
       " 'tccgtt ccgttg cgttga gttgag': 228527,\n",
       " 'ccgttg cgttga gttgag ttgagc': 96782,\n",
       " 'cgttga gttgag ttgagc tgagct': 117553,\n",
       " 'gttgag ttgagc tgagct gagctg': 201368,\n",
       " 'ttgagc tgagct gagctg agctgt': 264141,\n",
       " 'tgagct gagctg agctgt gctgta': 240591,\n",
       " 'gagctg agctgt gctgta ctgtat': 145616,\n",
       " 'agctgt gctgta ctgtat tgtatt': 41775,\n",
       " 'gctgta ctgtat tgtatt gtattt': 167767,\n",
       " 'ctgtat tgtatt gtattt tatttg': 130036,\n",
       " 'tgtatt gtattt tatttg atttgc': 251710,\n",
       " 'gtattt tatttg atttgc tttgcc': 190640,\n",
       " 'tatttg atttgc tttgcc ttgccc': 221167,\n",
       " 'atttgc tttgcc ttgccc tgcccg': 67145,\n",
       " 'tttgcc ttgccc tgcccg gcccgc': 270178,\n",
       " 'ttgccc tgcccg gcccgc cccgcg': 264901,\n",
       " 'tgcccg gcccgc cccgcg ccgcgg': 243642,\n",
       " 'gcccgc cccgcg ccgcgg cgcggt': 157982,\n",
       " 'cccgcg ccgcgg cgcggt gcggta': 91042,\n",
       " 'ccgcgg cgcggt gcggta cggtaa': 94455,\n",
       " 'cgcggt gcggta cggtaa ggtaaa': 108177,\n",
       " 'gcggta cggtaa ggtaaa gtaaat': 163426,\n",
       " 'cggtaa ggtaaa gtaaat taaatg': 112758,\n",
       " 'ggtaaa gtaaat taaatg aaatgg': 182017,\n",
       " 'gtaaat taaatg aaatgg aatgga': 186694,\n",
       " 'taaatg aaatgg aatgga atggat': 205455,\n",
       " 'aaatgg aatgga atggat tggatt': 3807,\n",
       " 'aatgga atggat tggatt ggattc': 15315,\n",
       " 'atggat tggatt ggattc gattcc': 61488,\n",
       " 'tggatt ggattc gattcc attccg': 247390,\n",
       " 'ggattc gattcc attccg ttccgc': 173150,\n",
       " 'gattcc attccg ttccgc tccgct': 151420,\n",
       " 'attccg ttccgc tccgct ccgcta': 64864,\n",
       " 'ttccgc tccgct ccgcta cgctag': 260997,\n",
       " 'tccgct ccgcta cgctag gctagc': 227982,\n",
       " 'ccgcta cgctag gctagc ctagcg': 94583,\n",
       " 'cgctag gctagc ctagcg tagcgg': 108680,\n",
       " 'gctagc ctagcg tagcgg agcggg': 165471,\n",
       " 'ctagcg tagcgg agcggg gcggga': 120839,\n",
       " 'tagcgg agcggg gcggga cgggac': 214611,\n",
       " 'agcggg gcggga cgggac gggact': 40631,\n",
       " 'gcggga cgggac gggact ggactc': 163186,\n",
       " 'cgggac gggact ggactc gactcg': 111787,\n",
       " 'gggact ggactc gactcg actcgg': 178047,\n",
       " 'ggactc gactcg actcgg ctcgga': 171021,\n",
       " 'gactcg actcgg ctcgga tcggag': 142970,\n",
       " 'actcgg ctcgga tcggag cggaga': 31142,\n",
       " 'ctcgga tcggag cggaga ggagag': 125106,\n",
       " 'tcggag cggaga ggagag gagagc': 231834,\n",
       " 'cggaga ggagag gagagc agagcc': 110130,\n",
       " 'ggagag gagagc agagcc gagcct': 171338,\n",
       " 'gagagc agagcc gagcct agcctt': 144215,\n",
       " 'agagcc gagcct agcctt gcctta': 36121,\n",
       " 'gagcct agcctt gcctta ccttag': 145154,\n",
       " 'agcctt gcctta ccttag cttagt': 39914,\n",
       " 'gcctta ccttag cttagt ttagtg': 160307,\n",
       " 'ccttag cttagt ttagtg tagtgg': 100286,\n",
       " 'cttagt ttagtg tagtgg agtgga': 131662,\n",
       " 'ttagtg tagtgg agtgga gtggaa': 258178,\n",
       " 'tagtgg agtgga gtggaa tggaac': 216679,\n",
       " 'agtgga gtggaa tggaac ggaacc': 49016,\n",
       " 'gtggaa tggaac ggaacc gaacca': 196944,\n",
       " 'tggaac ggaacc gaacca aaccac': 246466,\n",
       " 'actgcc ctgcct tgcctc gcctcc': 31901,\n",
       " 'ctgcct tgcctc gcctcc cctcca': 128153,\n",
       " 'tgcctc gcctcc cctcca ctccaa': 244090,\n",
       " 'gcctcc cctcca ctccaa tccaaa': 159794,\n",
       " 'cctcca ctccaa tccaaa ccaaaa': 98258,\n",
       " 'ctccaa tccaaa ccaaaa caaaac': 123525,\n",
       " 'tccaaa ccaaaa caaaac aaaact': 225460,\n",
       " 'ccaaaa caaaac aaaact aaacta': 84416,\n",
       " 'caaaac aaaact aaacta aactat': 67745,\n",
       " 'aaaact aaacta aactat actatc': 472,\n",
       " 'aaacta aactat actatc ctatca': 1875,\n",
       " 'aactat actatc ctatca tatcag': 7537,\n",
       " 'actatc ctatca tatcag atcagt': 30306,\n",
       " 'ctatca tatcag atcagt tcagtc': 121756,\n",
       " 'tatcag atcagt tcagtc cagtct': 218335,\n",
       " 'atcagt tcagtc cagtct agtcta': 55725,\n",
       " 'tcagtc cagtct agtcta gtctag': 224265,\n",
       " 'cagtct agtcta gtctag tctaga': 79589,\n",
       " 'agtcta gtctag tctaga ctagag': 48266,\n",
       " 'gtctag tctaga ctagag tagagt': 193934,\n",
       " 'tctaga ctagag tagagt agagtt': 234411,\n",
       " 'tagagt agagtt gagttc agttcg': 213653,\n",
       " 'agagtt gagttc agttcg gttcga': 36745,\n",
       " 'gagttc agttcg gttcga ttcgag': 147663,\n",
       " 'agttcg gttcga ttcgag tcgaga': 49948,\n",
       " 'gttcga ttcgag tcgaga cgagag': 200714,\n",
       " 'ttcgag tcgaga cgagag gagaga': 261540,\n",
       " 'tcgaga cgagag gagaga agagag': 230165,\n",
       " 'cgagag gagaga agagag gagagg': 103405,\n",
       " 'gagaga agagag gagagg agaggt': 144159,\n",
       " 'agagag gagagg agaggt gaggtg': 35905,\n",
       " 'gagagg agaggt gaggtg aggtga': 144307,\n",
       " 'agaggt gaggtg aggtga ggtgag': 36491,\n",
       " 'gaggtg aggtga ggtgag gtgagt': 146640,\n",
       " 'aggtga ggtgag gtgagt tgagtg': 45843,\n",
       " 'ggtgag gtgagt tgagtg gagtgg': 184229,\n",
       " 'gtgagt tgagtg gagtgg agtgga': 195593,\n",
       " 'tgagtg gagtgg agtgga gtggaa': 241038,\n",
       " 'gagtgg agtgga gtggaa tggaat': 147432,\n",
       " 'agtgga gtggaa tggaat ggaatt': 49027,\n",
       " 'gtggaa tggaat ggaatt gaattc': 196986,\n",
       " 'tggaat ggaatt gaattc aattcc': 246632,\n",
       " 'ggaatt gaattc aattcc attccg': 170091,\n",
       " 'gaattc aattcc attccg ttccga': 139231,\n",
       " 'aattcc attccg ttccga tccgag': 16143,\n",
       " 'attccg ttccga tccgag ccgagt': 64845,\n",
       " 'ttccga tccgag ccgagt cgagtg': 260924,\n",
       " 'tccgag ccgagt cgagtg gagtgt': 227705,\n",
       " 'ccgagt cgagtg gagtgt agtgta': 93467,\n",
       " 'cgagtg gagtgt agtgta gtgtag': 104230,\n",
       " 'gagtgt agtgta gtgtag tgtaga': 147504,\n",
       " 'agtgta gtgtag tgtaga gtagag': 49310,\n",
       " 'gtgtag tgtaga gtagag tagagg': 198135,\n",
       " 'tgtaga gtagag tagagg agaggt': 251241,\n",
       " 'gtagag tagagg agaggt gaggtg': 188733,\n",
       " 'tagagg agaggt gaggtg aggtga': 213590,\n",
       " 'agaggt gaggtg aggtga ggtgaa': 36489,\n",
       " 'gaggtg aggtga ggtgaa gtgaaa': 146629,\n",
       " 'aggtga ggtgaa gtgaaa tgaaat': 45799,\n",
       " 'ggtgaa gtgaaa tgaaat gaaatt': 184053,\n",
       " 'gtgaaa tgaaat gaaatt aaattc': 194894,\n",
       " 'tgaaat gaaatt aaattc aattcg': 238251,\n",
       " 'gaaatt aaattc aattcg attcgt': 136201,\n",
       " 'aaattc aattcg attcgt ttcgta': 4031,\n",
       " 'aattcg attcgt ttcgta tcgtag': 16226,\n",
       " 'attcgt ttcgta tcgtag cgtaga': 65171,\n",
       " 'ttcgta tcgtag cgtaga gtagat': 262229,\n",
       " 'tcgtag cgtaga gtagat tagata': 232898,\n",
       " 'cgtaga gtagat tagata agatat': 114437,\n",
       " 'gtagat tagata agatat gatatt': 188766,\n",
       " 'tagata agatat gatatt atattc': 213731,\n",
       " 'agatat gatatt atattc tattcg': 37054,\n",
       " 'gatatt atattc tattcg attcgg': 148886,\n",
       " 'atattc tattcg attcgg ttcgga': 54823,\n",
       " 'tattcg attcgg ttcgga tcggag': 220656,\n",
       " 'attcgg ttcgga tcggag cggagg': 65108,\n",
       " 'ttcgga tcggag cggagg ggagga': 261964,\n",
       " 'tcggag cggagg ggagga gaggaa': 231857,\n",
       " 'cggagg ggagga gaggaa aggaac': 110222,\n",
       " 'ggagga gaggaa aggaac ggaaca': 171713,\n",
       " 'gaggaa aggaac ggaaca gaacac': 145718,\n",
       " 'aggaac ggaaca gaacac aacacc': 42178,\n",
       " 'ggaaca gaacac aacacc acacca': 169367,\n",
       " 'gaacac aacacc acacca caccag': 136322,\n",
       " 'aacacc acacca caccag accagt': 4514,\n",
       " 'acacca caccag accagt ccagtg': 18182,\n",
       " 'caccag accagt ccagtg cagtgg': 73017,\n",
       " 'aaggcg aggcgg ggcggc gcggct': 10907,\n",
       " 'aggcgg ggcggc gcggct cggctc': 43838,\n",
       " 'ggcggc gcggct cggctc ggctca': 176060,\n",
       " 'gcggct cggctc ggctca gctcac': 163109,\n",
       " 'cggctc ggctca gctcac ctcact': 111480,\n",
       " 'ggctca gctcac ctcact tcactg': 176786,\n",
       " 'gctcac ctcact tcactg cactgg': 166002,\n",
       " 'ctcact tcactg cactgg actggc': 122980,\n",
       " 'tcactg cactgg actggc ctggct': 223271,\n",
       " 'cactgg actggc ctggct tggctt': 75603,\n",
       " 'actggc ctggct tggctt ggcttc': 32170,\n",
       " 'ctggct tggctt ggcttc gcttca': 129231,\n",
       " 'tggctt ggcttc gcttca cttcat': 248438,\n",
       " 'ggcttc gcttca cttcat ttcata': 177366,\n",
       " 'gcttca cttcat ttcata tcatac': 168305,\n",
       " 'cttcat ttcata tcatac catact': 132149,\n",
       " 'ttcata tcatac catact atactg': 260137,\n",
       " 'tcatac catact atactg tactga': 224539,\n",
       " 'catact atactg tactga actgac': 80698,\n",
       " 'atactg tactga actgac ctgacg': 52764,\n",
       " 'tactga actgac ctgacg tgacgc': 212383,\n",
       " 'actgac ctgacg tgacgc gacgct': 31628,\n",
       " 'ctgacg tgacgc gacgct acgctg': 127057,\n",
       " 'tgacgc gacgct acgctg cgctga': 239687,\n",
       " 'gacgct acgctg cgctga gctgag': 141971,\n",
       " 'acgctg cgctga gctgag ctgagg': 27146,\n",
       " 'cgctga gctgag ctgagg tgaggt': 109082,\n",
       " 'gctgag ctgagg tgaggt gaggtg': 167096,\n",
       " 'ctgagg tgaggt gaggtg aggtgc': 127341,\n",
       " 'tgaggt gaggtg aggtgc ggtgcg': 240844,\n",
       " 'gaggtg aggtgc ggtgcg gtgcga': 146653,\n",
       " 'aggtgc ggtgcg gtgcga tgcgaa': 45894,\n",
       " 'ggtgcg gtgcga tgcgaa gcgaaa': 184431,\n",
       " 'gtgcga tgcgaa gcgaaa cgaaag': 196399,\n",
       " 'tgcgaa gcgaaa cgaaag gaaagt': 244280,\n",
       " 'gcgaaa cgaaag gaaagt aaagtg': 160575,\n",
       " 'cgaaag gaaagt aaagtg aagtgt': 101366,\n",
       " 'gaaagt aaagtg aagtgt agtgtg': 135958,\n",
       " 'aaagtg aagtgt agtgtg gtgtgg': 3064,\n",
       " 'aagtgt agtgtg gtgtgg tgtggg': 12308,\n",
       " 'agtgtg gtgtgg tgtggg gtgggg': 49448,\n",
       " 'gtgtgg tgtggg gtgggg tgggga': 198685,\n",
       " 'tgtggg gtgggg tgggga ggggag': 253429,\n",
       " 'gtgggg tgggga ggggag gggagc': 197585,\n",
       " 'tgggga ggggag gggagc ggagca': 249050,\n",
       " 'ggggag gggagc ggagca gagcaa': 179841,\n",
       " 'gggagc ggagca gagcaa agcaaa': 178152,\n",
       " 'ggagca gagcaa agcaaa gcaaac': 171446,\n",
       " 'gagcaa agcaaa gcaaac caaaca': 144655,\n",
       " 'agcaaa gcaaac caaaca aaacag': 37878,\n",
       " 'gcaaac caaaca aaacag aacagg': 152184,\n",
       " 'caaaca aaacag aacagg acaggt': 67930,\n",
       " 'aaacag aacagg acaggt caggta': 1214,\n",
       " 'aacagg acaggt caggta aggtat': 4879,\n",
       " 'acaggt caggta aggtat ggtatg': 19641,\n",
       " 'caggta aggtat ggtatg gtatgg': 78910,\n",
       " 'aggtat ggtatg gtatgg tatgga': 45512,\n",
       " 'ggtatg gtatgg tatgga atggat': 182906,\n",
       " 'gtatgg tatgga atggat tggata': 190281,\n",
       " 'tatgga atggat tggata ggatag': 219754,\n",
       " 'atggat tggata ggatag gatagc': 61444,\n",
       " 'tggata ggatag gatagc atagcc': 247207,\n",
       " 'ggatag gatagc atagcc tagcct': 172416,\n",
       " 'gatagc atagcc tagcct agccta': 148496,\n",
       " 'atagcc tagcct agccta gcctag': 53268,\n",
       " 'tagcct agccta gcctag cctagg': 214394,\n",
       " 'agccta gcctag cctagg ctagga': 39747,\n",
       " 'gcctag cctagg ctagga taggac': 159634,\n",
       " 'cctagg ctagga taggac aggaca': 97617,\n",
       " 'ctagga taggac aggaca ggacac': 120947,\n",
       " 'taggac aggaca ggacac gacaca': 215044,\n",
       " 'aggaca ggacac gacaca acacac': 42386,\n",
       " 'ggacac gacaca acacac cacaca': 170203,\n",
       " 'gacaca acacac cacaca acacag': 139682,\n",
       " 'acacac cacaca acacag cacagc': 17951,\n",
       " 'cacaca acacag cacagc acagcg': 72095,\n",
       " 'acacag cacagc acagcg cagcgt': 18033,\n",
       " 'cacagc acagcg cagcgt agcgta': 72425,\n",
       " 'acagcg cagcgt agcgta gcgtaa': 19353,\n",
       " 'cagcgt agcgta gcgtaa cgtaaa': 77738,\n",
       " 'agcgta gcgtaa cgtaaa gtaaac': 40765,\n",
       " 'gcgtaa cgtaaa gtaaac taaacg': 163711,\n",
       " 'cgtaaa gtaaac taaacg aaacga': 113885,\n",
       " 'gtaaac taaacg aaacga aacgag': 186556,\n",
       " 'taaacg aaacga aacgag acgagt': 204911,\n",
       " 'aaacga aacgag acgagt cgagta': 1605,\n",
       " 'aacgag acgagt cgagta gagtat': 6445,\n",
       " 'acgagt cgagta gagtat agtatt': 25910,\n",
       " 'cgagta gagtat agtatt gtattg': 104112,\n",
       " 'gagtat agtatt gtattg tattgc': 147030,\n",
       " 'agtatt gtattg tattgc attgcc': 47417,\n",
       " 'gtattg tattgc attgcc ttgcct': 190560,\n",
       " 'tattgc attgcc ttgcct tgcctg': 220850,\n",
       " 'attgcc ttgcct tgcctg gcctgc': 65873,\n",
       " 'ttgcct tgcctg gcctgc cctgct': 265030,\n",
       " 'tgcctg gcctgc cctgct ctgctg': 244168,\n",
       " 'gcctgc cctgct ctgctg tgctgc': 160113,\n",
       " 'cctgct ctgctg tgctgc gctgct': 99528,\n",
       " 'ctgctg tgctgc gctgct ctgctt': 128619,\n",
       " 'tgctgc gctgct ctgctt tgcttg': 245975,\n",
       " 'gctgct ctgctt tgcttg gcttga': 167432,\n",
       " 'ctgctt tgcttg gcttga cttgat': 128688,\n",
       " 'tgcttg gcttga cttgat ttgatg': 246257,\n",
       " 'gcttga cttgat ttgatg tgatgc': 168572,\n",
       " 'cttgat ttgatg tgatgc gatgcg': 133219,\n",
       " 'ttgatg tgatgc gatgcg atgcgt': 264436,\n",
       " 'tgatgc gatgcg atgcgt tgcgtg': 241773,\n",
       " 'gatgcg atgcgt tgcgtg gcgtgc': 150424,\n",
       " 'atgcgt tgcgtg gcgtgc cgtgca': 60946,\n",
       " 'tgcgtg gcgtgc cgtgca gtgcaa': 245199,\n",
       " 'gcgtgc cgtgca gtgcaa tgcaag': 164298,\n",
       " 'cgtgca gtgcaa tgcaag gcaagt': 116214,\n",
       " 'gtgcaa tgcaag gcaagt caagta': 195925,\n",
       " 'tgcaag gcaagt caagta aagtag': 242363,\n",
       " 'gcaagt caagta aagtag agtagg': 152841,\n",
       " 'caagta aagtag agtagg gtaggg': 70536,\n",
       " 'aagtag agtagg gtaggg tagggc': 11721,\n",
       " 'agtagg gtaggg tagggc agggcc': 47077,\n",
       " 'gtaggg tagggc agggcc gggcca': 189224,\n",
       " 'tagggc agggcc gggcca ggccag': 215576,\n",
       " 'agggcc gggcca ggccag gccaga': 44545,\n",
       " 'gggcca ggccag gccaga ccagac': 178924,\n",
       " 'ggccag gccaga ccagac cagact': 174500,\n",
       " 'gccaga ccagac cagact agactc': 156863,\n",
       " 'ccagac cagact agactc gactcg': 86572,\n",
       " 'cagact agactc gactcg actcgt': 76443,\n",
       " 'agactc gactcg actcgt ctcgtc': 35578,\n",
       " 'gactcg actcgt ctcgtc tcgtct': 142992,\n",
       " 'actcgt ctcgtc tcgtct cgtctg': 31229,\n",
       " 'ctcgtc tcgtct cgtctg gtctgt': 125459,\n",
       " 'tcgtct cgtctg gtctgt tctgtg': 233256,\n",
       " 'cgtctg gtctgt tctgtg ctgtgc': 115869,\n",
       " 'gtctgt tctgtg ctgtgc tgtgct': 194543,\n",
       " 'tagcgg agcggc gcggcg cggcgt': 214605,\n",
       " 'agcggc gcggcg cggcgt ggcgtc': 40604,\n",
       " 'gcggcg cggcgt ggcgtc gcgtcg': 163079,\n",
       " 'cggcgt ggcgtc gcgtcg cgtcgt': 111364,\n",
       " 'ggcgtc gcgtcg cgtcgt gtcgtt': 176321,\n",
       " 'gcgtcg cgtcgt gtcgtt tcgttt': 164165,\n",
       " 'cgtcgt gtcgtt tcgttt cgtttg': 115680,\n",
       " 'gtcgtt tcgttt cgtttg gtttga': 193771,\n",
       " 'tcgttt cgtttg gtttga tttgac': 233763,\n",
       " 'cgtttg gtttga tttgac ttgacg': 117915,\n",
       " 'gtttga tttgac ttgacg tgacgt': 202828,\n",
       " 'tttgac ttgacg tgacgt gacgtt': 269942,\n",
       " 'ttgacg tgacgt gacgtt acgtta': 263947,\n",
       " 'tgacgt gacgtt acgtta cgttag': 239815,\n",
       " 'gacgtt acgtta cgttag gttagc': 142473,\n",
       " 'acgtta cgttag gttagc ttagcg': 29164,\n",
       " 'cgttag gttagc ttagcg tagcga': 117149,\n",
       " 'gttagc ttagcg tagcga agcgac': 199741,\n",
       " 'ttagcg tagcga agcgac gcgaca': 257630,\n",
       " 'tagcga agcgac gcgaca cgacag': 214468,\n",
       " 'agcgac gcgaca cgacag gacaga': 40042,\n",
       " 'gcgaca cgacag gacaga acagaa': 160829,\n",
       " 'cgacag gacaga acagaa cagaag': 102356,\n",
       " 'gacaga acagaa cagaag agaaga': 139928,\n",
       " 'acagaa cagaag agaaga gaagaa': 18950,\n",
       " 'cagaag agaaga gaagaa aagaag': 76097,\n",
       " 'agaaga gaagaa aagaag agaagc': 34167,\n",
       " 'gaagaa aagaag agaagc gaagca': 137324,\n",
       " 'aagaag agaagc gaagca aagcac': 8516,\n",
       " 'agaagc gaagca aagcac agcacc': 34229,\n",
       " 'gaagca aagcac agcacc gcaccg': 137573,\n",
       " 'aagcac agcacc gcaccg caccgg': 9513,\n",
       " 'agcacc gcaccg caccgg accggc': 38226,\n",
       " 'gcaccg caccgg accggc ccggct': 153584,\n",
       " 'caccgg accggc ccggct cggcta': 73506,\n",
       " 'accggc ccggct cggcta ggctaa': 23705,\n",
       " 'ccggct cggcta ggctaa gctaac': 95266,\n",
       " 'cggcta ggctaa gctaac ctaact': 111415,\n",
       " 'ggctaa gctaac ctaact taactc': 176527,\n",
       " 'gctaac ctaact taactc aactcc': 164966,\n",
       " 'ctaact taactc aactcc actccg': 118803,\n",
       " 'taactc aactcc actccg ctccgt': 206428,\n",
       " 'aactcc actccg ctccgt tccgtg': 7695,\n",
       " 'actccg ctccgt tccgtg ccgtgc': 30931,\n",
       " 'ctccgt tccgtg ccgtgc cgtgcc': 124268,\n",
       " 'tccgtg ccgtgc cgtgcc gtgcca': 228447,\n",
       " 'ccgtgc cgtgcc gtgcca tgccag': 96467,\n",
       " 'cgtgcc gtgcca tgccag gccagc': 116276,\n",
       " 'gtgcca tgccag gccagc ccagca': 196174,\n",
       " 'tgccag gccagc ccagca cagcag': 243376,\n",
       " 'gccagc ccagca cagcag agcagc': 156908,\n",
       " 'ccagca cagcag agcagc gcagcc': 86752,\n",
       " 'cagcag agcagc gcagcc cagccg': 77160,\n",
       " 'agcagc gcagcc cagccg agccgc': 38470,\n",
       " 'gcagcc cagccg agccgc gccgcg': 154565,\n",
       " 'cagccg agccgc gccgcg ccgcgg': 77432,\n",
       " 'agccgc gccgcg ccgcgg cgcggt': 39542,\n",
       " 'gccgcg ccgcgg cgcggt gcggta': 158838,\n",
       " 'cgcggt gcggta cggtaa ggtaat': 108180,\n",
       " 'gcggta cggtaa ggtaat gtaata': 163435,\n",
       " 'cggtaa ggtaat gtaata taatac': 112794,\n",
       " 'ggtaat gtaata taatac aatacg': 182160,\n",
       " 'gtaata taatac aatacg atacgg': 187276,\n",
       " 'taatac aatacg atacgg tacgga': 207760,\n",
       " 'aatacg atacgg tacgga acggag': 13073,\n",
       " 'atacgg tacgga acggag cggagg': 52504,\n",
       " 'tacgga acggag cggagg ggaggg': 211339,\n",
       " 'acggag cggagg ggaggg gagggt': 27442,\n",
       " 'cggagg ggaggg gagggt agggtg': 110268,\n",
       " 'ggaggg gagggt agggtg gggtgc': 171902,\n",
       " 'gagggt agggtg gggtgc ggtgcg': 146469,\n",
       " 'agggtg gggtgc ggtgcg gtgcga': 45157,\n",
       " 'gggtgc ggtgcg gtgcga tgcgag': 181439,\n",
       " 'ggtgcg gtgcga tgcgag gcgagc': 184440,\n",
       " 'gtgcga tgcgag gcgagc cgagcg': 196436,\n",
       " 'tgcgag gcgagc cgagcg gagcgt': 244426,\n",
       " 'gcgagc cgagcg gagcgt agcgtt': 161168,\n",
       " 'cgagcg gagcgt agcgtt gcgtta': 103715,\n",
       " 'gagcgt agcgtt gcgtta cgttaa': 145414,\n",
       " 'agcgtt gcgtta cgttaa gttaat': 40960,\n",
       " 'gcgtta cgttaa gttaat ttaatc': 164505,\n",
       " 'cgttaa gttaat ttaatc taatcg': 117050,\n",
       " 'gttaat ttaatc taatcg aatcga': 199340,\n",
       " 'ttaatc taatcg aatcga atcgaa': 256037,\n",
       " 'taatcg aatcga atcgaa tcgaaa': 208050,\n",
       " 'aatcga atcgaa tcgaaa cgaaat': 14217,\n",
       " 'atcgaa tcgaaa cgaaat gaaatt': 57085,\n",
       " 'tcgaaa cgaaat gaaatt aaatta': 229667,\n",
       " 'cgaaat gaaatt aaatta aattac': 101422,\n",
       " 'gaaatt aaatta aattac attact': 136181,\n",
       " 'aaatta aattac attact ttactg': 3953,\n",
       " 'aattac attact ttactg tactgg': 15907,\n",
       " 'attact ttactg tactgg actggg': 63901,\n",
       " 'ttactg tactgg actggg ctgggc': 257146,\n",
       " 'tactgg actggg ctgggc tgggcg': 212526,\n",
       " 'actggg ctgggc tgggcg gggcgt': 32203,\n",
       " 'ctgggc tgggcg gggcgt ggcgta': 129356,\n",
       " 'tgggcg gggcgt ggcgta gcgtaa': 248929,\n",
       " 'gggcgt ggcgta gcgtaa cgtaaa': 179351,\n",
       " 'ggcgta gcgtaa cgtaaa gtaaag': 176209,\n",
       " 'gcgtaa cgtaaa gtaaag taaagc': 163715,\n",
       " 'cgtaaa gtaaag taaagc aaagcg': 113900,\n",
       " 'gtaaag taaagc aaagcg aagcgc': 186612,\n",
       " 'taaagc aaagcg aagcgc agcgca': 205129,\n",
       " 'aaagcg aagcgc agcgca gcgcat': 2495,\n",
       " 'aagcgc agcgca gcgcat cgcatg': 10024,\n",
       " 'agcgca gcgcat cgcatg gcatgc': 40288,\n",
       " 'gcgcat cgcatg gcatgc catgca': 161814,\n",
       " 'cgcatg gcatgc catgca atgcag': 106305,\n",
       " 'gcatgc catgca atgcag tgcagg': 155858,\n",
       " 'catgca atgcag tgcagg gcaggt': 82592,\n",
       " 'atgcag tgcagg gcaggt caggtg': 60374,\n",
       " 'tgcagg gcaggt caggtg aggtgg': 242889,\n",
       " 'gcaggt caggtg aggtgg ggtggt': 154965,\n",
       " 'caggtg aggtgg ggtggt gtggtt': 79027,\n",
       " 'aggtgg ggtggt gtggtt tggttt': 45990,\n",
       " 'ggtggt gtggtt tggttt ggtttg': 184826,\n",
       " 'gtggtt tggttt ggtttg gtttgt': 197972,\n",
       " 'tggttt ggtttg gtttgt tttgtt': 250600,\n",
       " 'ggtttg gtttgt tttgtt ttgtta': 186115,\n",
       " 'gtttgt tttgtt ttgtta tgttaa': 203045,\n",
       " 'tttgtt ttgtta tgttaa gttaag': 270811,\n",
       " 'ttgtta tgttaa gttaag ttaagt': 267450,\n",
       " 'tgttaa gttaag ttaagt taagtc': 253849,\n",
       " 'gttaag ttaagt taagtc aagtca': 199304,\n",
       " 'ttaagt taagtc aagtca agtcag': 255890,\n",
       " 'taagtc aagtca agtcag gtcaga': 207454,\n",
       " 'aagtca agtcag gtcaga tcagat': 11848,\n",
       " 'agtcag gtcaga tcagat cagatg': 47589,\n",
       " 'gtcaga tcagat cagatg agatgt': 191246,\n",
       " 'tcagat cagatg agatgt gatgtg': 223599,\n",
       " 'cagatg agatgt gatgtg atgtga': 76933,\n",
       " 'agatgt gatgtg atgtga tgtgag': 37558,\n",
       " 'gatgtg atgtga tgtgag gtgaga': 150907,\n",
       " 'atgtga tgtgag gtgaga tgagag': 62861,\n",
       " 'tgtgag gtgaga tgagag gagagc': 252887,\n",
       " 'gtgaga tgagag gagagc agagcc': 195391,\n",
       " 'tgagag gagagc agagcc gagccc': 240242,\n",
       " 'gagagc agagcc gagccc agcccg': 144204,\n",
       " 'agagcc gagccc agcccg gcccgg': 36085,\n",
       " 'gagccc agcccg gcccgg cccggg': 145015,\n",
       " 'agcccg gcccgg cccggg ccggga': 39343,\n",
       " 'gcccgg cccggg ccggga cgggac': 158038,\n",
       " 'cccggg ccggga cgggac gggacc': 91264,\n",
       " 'ccggga cgggac gggacc ggaccc': 95351,\n",
       " 'cgggac gggacc ggaccc gacccc': 111754,\n",
       " 'gggacc ggaccc gacccc acccca': 177909,\n",
       " 'ggaccc gacccc acccca ccccac': 170474,\n",
       " 'gacccc acccca ccccac cccacc': 140767,\n",
       " 'acccca ccccac cccacc ccaccc': 22310,\n",
       " 'ccccac cccacc ccaccc cacccc': 89659,\n",
       " 'cccacc ccaccc cacccc accccg': 88883,\n",
       " 'ccaccc cacccc accccg ccccgg': 85770,\n",
       " 'cacccc accccg ccccgg cccggc': 73194,\n",
       " 'accccg ccccgg cccggc ccggca': 22455,\n",
       " 'ccccgg cccggc ccggca cggcat': 90237,\n",
       " 'cccggc ccggca cggcat ggcata': 91204,\n",
       " 'ccggca cggcat ggcata gcatag': 95118,\n",
       " 'cggcat ggcata gcatag catagc': 110821,\n",
       " 'ggcata gcatag catagc atagcg': 174142,\n",
       " 'gcatag catagc atagcg tagcga': 155419,\n",
       " 'catagc atagcg tagcga agcgaa': 80827,\n",
       " 'atagcg tagcga agcgaa gcgaat': 53285,\n",
       " 'tagcga agcgaa gcgaat cgaatg': 214464,\n",
       " 'agcgaa gcgaat cgaatg gaatga': 40026,\n",
       " 'gcgaat cgaatg gaatga aatgaa': 160765,\n",
       " 'cgaatg gaatga aatgaa atgaac': 102098,\n",
       " 'gaatga aatgaa atgaac tgaaca': 138884,\n",
       " 'aatgaa atgaac tgaaca gaacat': 14754,\n",
       " 'atgaac tgaaca gaacat aacatg': 59234,\n",
       " 'tgaaca gaacat aacatg acatgc': 238318,\n",
       " 'gaacat aacatg acatgc catgca': 136474,\n",
       " 'aacatg acatgc catgca atgcag': 5108,\n",
       " 'acatgc catgca atgcag tgcaga': 20548,\n",
       " 'catgca atgcag tgcaga gcagat': 82584,\n",
       " 'atgcag tgcaga gcagat cagatt': 60343,\n",
       " 'tgcaga gcagat cagatt agatta': 242762,\n",
       " 'gcagat cagatt agatta gattag': 154443,\n",
       " 'cagatt agatta gattag attagg': 76952,\n",
       " 'agatta gattag attagg ttagga': 37636,\n",
       " 'gattag attagg ttagga taggaa': 151215,\n",
       " 'attagg ttagga taggaa aggaat': 64057,\n",
       " 'ttagga taggaa aggaat ggaata': 257769,\n",
       " 'taggaa aggaat ggaata gaatat': 215027,\n",
       " 'aggaat ggaata gaatat aatata': 42317,\n",
       " 'ggaata gaatat aatata atatag': 169922,\n",
       " 'gaatat aatata atatag tatagc': 138563,\n",
       " 'aatata atatag tatagc atagcg': 13474,\n",
       " 'atatag tatagc atagcg tagcga': 54098,\n",
       " 'tatagc atagcg tagcga agcgag': 217734,\n",
       " 'atagcg tagcga agcgag gcgagg': 53292,\n",
       " 'tagcga agcgag gcgagg cgagga': 214490,\n",
       " 'agcgag gcgagg cgagga gaggat': 40135,\n",
       " 'gcgagg cgagga gaggat aggatc': 161200,\n",
       " 'cgagga gaggat aggatc ggatcc': 103842,\n",
       " 'gaggat aggatc ggatcc gatcct': 145919,\n",
       " 'aggatc ggatcc gatcct atcctt': 42986,\n",
       " 'ggatcc gatcct atcctt tccttc': 172654,\n",
       " 'gatcct atcctt tccttc ccttct': 149441,\n",
       " 'atcctt tccttc ccttct cttctc': 57033,\n",
       " 'tccttc ccttct cttctc ttctct': 229463,\n",
       " 'ccttct cttctc ttctct tctctt': 100582,\n",
       " 'cttctc ttctct tctctt ctcttc': 132851,\n",
       " 'ttctct tctctt ctcttc tcttcc': 262962,\n",
       " 'tctctt ctcttc tcttcc cttccc': 235867,\n",
       " 'ctcttc tcttcc cttccc ttccca': 126466,\n",
       " 'tcttcc cttccc ttccca tcccaa': 237300,\n",
       " 'cttccc ttccca tcccaa cccaag': 132274,\n",
       " 'ttccca tcccaa cccaag ccaagc': 260630,\n",
       " 'tcccaa cccaag ccaagc caagca': 226524,\n",
       " 'cccaag ccaagc caagca aagcaa': 88685,\n",
       " 'ccaagc caagca aagcaa agcaat': 84970,\n",
       " 'caagca aagcaa agcaat gcaata': 69976,\n",
       " 'aagcaa agcaat gcaata caatat': 9474,\n",
       " 'agcaat gcaata caatat aatatt': 38069,\n",
       " 'gcaata caatat aatatt atattt': 152963,\n",
       " 'caatat aatatt atattt tatttc': 71016,\n",
       " 'aatatt atattt tatttc atttcg': 13685,\n",
       " 'atattt tatttc atttcg tttcgt': 54941,\n",
       " 'tatttc atttcg tttcgt ttcgtt': 221129,\n",
       " 'atttcg tttcgt ttcgtt tcgtta': 66990,\n",
       " 'tttcgt ttcgtt tcgtta cgttag': 269557,\n",
       " 'ttcgtt tcgtta cgttag gttaga': 262394,\n",
       " 'tcgtta cgttag gttaga ttagac': 233568,\n",
       " 'cgttag gttaga ttagac tagaca': 117129,\n",
       " 'gttaga ttagac tagaca agacag': 199658,\n",
       " 'ttagac tagaca agacag gacaga': 257307,\n",
       " 'tagaca agacag gacaga acagag': 213180,\n",
       " 'agacag gacaga acagag cagagg': 34824,\n",
       " 'gacaga acagag cagagg agaggg': 139962,\n",
       " 'acagag cagagg agaggg gagggc': 19087,\n",
       " 'cagagg agaggg gagggc agggcg': 76649,\n",
       " 'agaggg gagggc agggcg gggcga': 36413,\n",
       " 'gagggc agggcg gggcga ggcgac': 146328,\n",
       " 'agggcg gggcga ggcgac gcgacg': 44608,\n",
       " 'gggcga ggcgac gcgacg cgacgg': 179175,\n",
       " 'ctagcg tagcgt agcgtt gcgttg': 120861,\n",
       " 'tagcgt agcgtt gcgttg cgttgt': 214703,\n",
       " 'agcgtt gcgttg cgttgt gttgtt': 41005,\n",
       " 'gcgttg cgttgt gttgtt ttgttc': 164685,\n",
       " 'cgttgt gttgtt ttgttc tgttcg': 117764,\n",
       " 'gttgtt ttgttc tgttcg gttcgg': 202226,\n",
       " 'ttgttc tgttcg gttcgg ttcgga': 267543,\n",
       " 'tgttcg gttcgg ttcgga tcggaa': 254223,\n",
       " 'gttcgg ttcgga tcggaa cggaat': 200813,\n",
       " 'ttcgga tcggaa cggaat ggaatt': 261937,\n",
       " 'tcggaa cggaat ggaatt gaatta': 231754,\n",
       " 'cggaat ggaatt gaatta aattac': 109816,\n",
       " 'ggaatt gaatta aattac attact': 170076,\n",
       " 'gaatta aattac attact ttactg': 139171,\n",
       " 'tgggcg gggcgt ggcgta gcgtat': 248932,\n",
       " 'gggcgt ggcgta gcgtat cgtata': 179364,\n",
       " 'ggcgta gcgtat cgtata gtatag': 176260,\n",
       " 'gcgtat cgtata gtatag tatagc': 163917,\n",
       " 'cgtata gtatag tatagc atagcg': 114688,\n",
       " 'gtatag tatagc atagcg tagcgc': 189775,\n",
       " 'tatagc atagcg tagcgc agcgcg': 217738,\n",
       " 'atagcg tagcgc agcgcg gcgcgc': 53307,\n",
       " 'tagcgc agcgcg gcgcgc cgcgcg': 214552,\n",
       " 'agcgcg gcgcgc cgcgcg gcgcgt': 40387,\n",
       " 'gcgcgc cgcgcg gcgcgt cgcgtt': 162213,\n",
       " 'cgcgcg gcgcgt cgcgtt gcgtta': 107909,\n",
       " 'gcgcgt cgcgtt gcgtta cgttag': 162347,\n",
       " 'cgcgtt gcgtta cgttag gttagg': 108451,\n",
       " 'gcgtta cgttag gttagg ttaggc': 164533,\n",
       " 'cgttag gttagg ttaggc taggcg': 117163,\n",
       " 'gttagg ttaggc taggcg aggcgg': 199799,\n",
       " 'ttaggc taggcg aggcgg ggcgga': 257861,\n",
       " 'taggcg aggcgg ggcgga gcggat': 215397,\n",
       " 'aggcgg ggcgga gcggat cggatt': 43824,\n",
       " 'ggcgga gcggat cggatt ggattg': 176005,\n",
       " 'gcggat cggatt ggattg gattgg': 162889,\n",
       " 'cggatt ggattg gattgg attgga': 110591,\n",
       " 'ggattg gattgg attgga ttggaa': 173221,\n",
       " 'gattgg attgga ttggaa tggaaa': 151703,\n",
       " 'attgga ttggaa tggaaa ggaaag': 66011,\n",
       " 'ttggaa tggaaa ggaaag gaaagt': 265597,\n",
       " 'tggaaa ggaaag gaaagt aaagtt': 246432,\n",
       " 'ggaaag gaaagt aaagtt aagttg': 169280,\n",
       " 'gaaagt aaagtt aagttg agttgg': 135971,\n",
       " 'aaagtt aagttg agttgg gttggg': 3113,\n",
       " 'aagttg agttgg gttggg ttgggg': 12509,\n",
       " 'agttgg gttggg ttgggg tggggg': 50248,\n",
       " 'gttggg ttgggg tggggg gggggt': 201909,\n",
       " 'ttgggg tggggg gggggt ggggtg': 266290,\n",
       " 'tggggg gggggt ggggtg gggtga': 249205,\n",
       " 'gggggt ggggtg gggtga ggtgaa': 180469,\n",
       " 'ggggtg gggtga ggtgaa gtgaaa': 180647,\n",
       " 'gggtga ggtgaa gtgaaa tgaaat': 181339,\n",
       " 'ggtgaa gtgaaa tgaaat gaaatc': 184051,\n",
       " 'gtgaaa tgaaat gaaatc aaatcc': 194886,\n",
       " 'tgaaat gaaatc aaatcc aatccc': 238218,\n",
       " 'gaaatc aaatcc aatccc atcccg': 136066,\n",
       " 'aaatcc aatccc atcccg tcccgg': 3495,\n",
       " 'aatccc atcccg tcccgg cccggg': 14060,\n",
       " 'atcccg tcccgg cccggg ccgggg': 56458,\n",
       " 'tcccgg cccggg ccgggg cggggc': 227172,\n",
       " 'cccggg ccgggg cggggc ggggct': 91300,\n",
       " 'ccgggg cggggc ggggct gggctc': 95491,\n",
       " 'cggggc ggggct gggctc ggctca': 112312,\n",
       " 'ggggct gggctc ggctca gctcaa': 180182,\n",
       " 'gctcaa ctcaac tcaacc caaccc': 165900,\n",
       " 'ctcaac tcaacc caaccc aacccc': 122569,\n",
       " 'tcaacc caaccc aacccc accccg': 221625,\n",
       " 'caaccc aacccc accccg ccccgg': 69015,\n",
       " 'aacccc accccg ccccgg cccgga': 5582,\n",
       " 'accccg ccccgg cccgga ccggaa': 22451,\n",
       " 'ccccgg cccgga ccggaa cggaac': 90219,\n",
       " 'cccgga ccggaa cggaac ggaact': 91133,\n",
       " 'ccggaa cggaac ggaact gaactg': 94836,\n",
       " 'cggaac ggaact gaactg aactgc': 109693,\n",
       " 'ggaact gaactg aactgc actgcc': 169579,\n",
       " 'gaactg aactgc actgcc ctgccc': 137178,\n",
       " 'aactgc actgcc ctgccc tgccct': 7930,\n",
       " 'actgcc ctgccc tgccct gccctc': 31877,\n",
       " 'ctgccc tgccct gccctc ccctcc': 128056,\n",
       " 'tgccct gccctc ccctcc cctcca': 243702,\n",
       " 'gccctc ccctcc cctcca ctccaa': 158220,\n",
       " 'ccctcc cctcca ctccaa tccaaa': 91984,\n",
       " 'aactat actatc ctatca tatcaa': 7535,\n",
       " 'actatc ctatca tatcaa atcaag': 30297,\n",
       " 'ctatca tatcaa atcaag tcaagt': 121722,\n",
       " 'tatcaa atcaag tcaagt caagtc': 218196,\n",
       " 'atcaag tcaagt caagtc aagtct': 55162,\n",
       " 'tcaagt caagtc aagtct agtctt': 222029,\n",
       " 'caagtc aagtct agtctt gtcttg': 70621,\n",
       " 'aagtct agtctt gtcttg tcttgt': 12067,\n",
       " 'agtctt gtcttg tcttgt cttgtg': 48473,\n",
       " 'gtcttg tcttgt cttgtg ttgtgt': 194761,\n",
       " 'tcttgt cttgtg ttgtgt tgtgtt': 237718,\n",
       " 'cttgtg ttgtgt tgtgtt gtgttc': 133960,\n",
       " 'ttgtgt tgtgtt gtgttc tgttcg': 267420,\n",
       " 'tgtgtt gtgttc tgttcg gttcga': 253748,\n",
       " 'gtgttc tgttcg gttcga ttcgag': 198876,\n",
       " 'tgttcg gttcga ttcgag tcgaga': 254199,\n",
       " 'gagagg agaggt gaggtg aggtgc': 144308,\n",
       " 'agaggt gaggtg aggtgc ggtgcg': 36495,\n",
       " 'gaggtg aggtgc ggtgcg gtgcgt': 146656,\n",
       " 'aggtgc ggtgcg gtgcgt tgcgtg': 45908,\n",
       " 'ggtgcg gtgcgt tgcgtg gcgtgg': 184490,\n",
       " 'gtgcgt tgcgtg gcgtgg cgtgga': 196634,\n",
       " 'tgcgtg gcgtgg cgtgga gtggaa': 245215,\n",
       " 'gcgtgg cgtgga gtggaa tggaat': 164363,\n",
       " 'cgtgga gtggaa tggaat ggaata': 116473,\n",
       " 'gtggaa tggaat ggaata gaatac': 196974,\n",
       " 'tggaat ggaata gaatac aatacc': 246583,\n",
       " 'ggaata gaatac aatacc ataccg': 169894,\n",
       " 'gaatac aatacc ataccg taccga': 138449,\n",
       " 'aatacc ataccg taccga accgaa': 13003,\n",
       " 'ataccg taccga accgaa ccgaac': 52232,\n",
       " 'taccga accgaa ccgaac cgaacg': 210267,\n",
       " 'accgaa ccgaac cgaacg gaacgt': 23099,\n",
       " 'ccgaac cgaacg gaacgt aacgta': 92820,\n",
       " 'cgaacg gaacgt aacgta acgtag': 101619,\n",
       " 'gaacgt aacgta acgtag cgtaga': 136968,\n",
       " 'aacgta acgtag cgtaga gtagag': 7088,\n",
       " 'acgtag cgtaga gtagag tagaga': 28481,\n",
       " 'cgtaga gtagag tagaga agagag': 114420,\n",
       " 'gtagag tagaga agagag gagagt': 188697,\n",
       " 'tagaga agagag gagagt agagtg': 213450,\n",
       " 'agagag gagagt agagtg gagtga': 35916,\n",
       " 'gagagt agagtg gagtga agtgaa': 144349,\n",
       " 'agagtg gagtga agtgaa gtgaaa': 36655,\n",
       " 'gagtga agtgaa gtgaaa tgaaac': 147298,\n",
       " 'agtgaa gtgaaa tgaaac gaaact': 48499,\n",
       " 'gtgaaa tgaaac gaaact aaactt': 194863,\n",
       " 'tgaaac gaaact aaactt aacttc': 238129,\n",
       " 'gaaact aaactt aacttc acttcg': 135700,\n",
       " 'aaactt aacttc acttcg cttcgt': 2046,\n",
       " 'aacttc acttcg cttcgt ttcgta': 8214,\n",
       " 'acttcg cttcgt ttcgta tcgtag': 33026,\n",
       " 'cttcgt ttcgta tcgtag cgtagc': 132670,\n",
       " 'ttcgta tcgtag cgtagc gtagct': 262233,\n",
       " 'tcgtag cgtagc gtagct tagctg': 232916,\n",
       " 'cgtagc gtagct tagctg agctgt': 114510,\n",
       " 'gtagct tagctg agctgt gctgtt': 189059,\n",
       " 'tagctg agctgt gctgtt ctgttc': 214903,\n",
       " 'agctgt gctgtt ctgttc tgttct': 41816,\n",
       " 'gctgtt ctgttc tgttct gttctg': 167928,\n",
       " 'ctgttc tgttct gttctg ttctga': 130676,\n",
       " 'tgttct gttctg ttctga tctgag': 254292,\n",
       " 'gttctg ttctga tctgag ctgagg': 201085,\n",
       " 'ttctga tctgag ctgagg tgagga': 263013,\n",
       " 'tctgag ctgagg tgagga gaggat': 236074,\n",
       " 'ctgagg tgagga gaggat aggatc': 127297,\n",
       " 'tgagga gaggat aggatc ggatct': 240667,\n",
       " 'gaggat aggatc ggatct gatctc': 145926,\n",
       " 'aggatc ggatct gatctc atctca': 43009,\n",
       " 'ggatct gatctc atctca tctcaa': 172739,\n",
       " 'gatctc atctca tctcaa ctcaag': 149781,\n",
       " 'atctca tctcaa ctcaag tcaagt': 58392,\n",
       " 'tctcaa ctcaag tcaagt caagtt': 234929,\n",
       " 'ctcaag tcaagt caagtt aagttg': 122678,\n",
       " 'tcaagt caagtt aagttg agttga': 222054,\n",
       " 'caagtt aagttg agttga gttgag': 70723,\n",
       " 'aagttg agttga gttgag ttgagg': 12477,\n",
       " 'agttga gttgag ttgagg tgaggg': 50116,\n",
       " 'gttgag ttgagg tgaggg gaggga': 201379,\n",
       " 'ttgagg tgaggg gaggga agggac': 264180,\n",
       " 'tgaggg gaggga agggac gggacg': 240747,\n",
       " 'gaggga agggac gggacg ggacgg': 146257,\n",
       " 'agggac gggacg ggacgg gacgga': 44315,\n",
       " 'gggacg ggacgg gacgga acggat': 177990,\n",
       " 'ggacgg gacgga acggat cggatc': 170797,\n",
       " 'gacgga acggat cggatc ggatca': 142053,\n",
       " 'acggat cggatc ggatca gatcac': 27481,\n",
       " 'cggatc ggatca gatcac atcaca': 110423,\n",
       " 'ggatca gatcac atcaca tcacag': 172541,\n",
       " 'gatcac atcaca tcacag cacaga': 148997,\n",
       " 'atcaca tcacag cacaga acagac': 55269,\n",
       " 'tcacag cacaga acagac cagacc': 222454,\n",
       " 'cacaga acagac cagacc agacca': 72336,\n",
       " 'acagac cagacc agacca gaccaa': 18998,\n",
       " 'cagacc agacca gaccaa accaag': 76290,\n",
       " 'agacca gaccaa accaag ccaagc': 34952,\n",
       " 'gaccaa accaag ccaagc caagcc': 140474,\n",
       " 'accaag ccaagc caagcc aagccc': 21145,\n",
       " 'ccaagc caagcc aagccc agccca': 84987,\n",
       " 'caagcc aagccc agccca gcccaa': 70044,\n",
       " 'aagccc agccca gcccaa cccaag': 9747,\n",
       " 'agccca gcccaa cccaag ccaagc': 39180,\n",
       " 'gcccaa cccaag ccaagc caagcc': 157392,\n",
       " 'cccaag ccaagc caagcc aagccc': 88690,\n",
       " 'ccaagc caagcc aagccc agcccg': 84989,\n",
       " 'caagcc aagccc agcccg gcccgt': 70055,\n",
       " 'aagccc agcccg gcccgt cccgta': 9789,\n",
       " 'agcccg gcccgt cccgta ccgtac': 39352,\n",
       " 'gcccgt cccgta ccgtac cgtaca': 158073,\n",
       " 'cccgta ccgtac cgtaca gtacaa': 91408,\n",
       " 'ccgtac cgtaca gtacaa tacaat': 95935,\n",
       " 'cgtaca gtacaa tacaat acaatc': 114139,\n",
       " 'gtacaa tacaat acaatc caatct': 187570,\n",
       " 'tacaat acaatc caatct aatcta': 208929,\n",
       " 'acaatc caatct aatcta atctag': 17734,\n",
       " 'caatct aatcta atctag tctagc': 71222,\n",
       " 'aatcta atctag tctagc ctagct': 14517,\n",
       " 'atctag tctagc ctagct tagctc': 58281,\n",
       " 'tctagc ctagct tagctc agctcg': 234485,\n",
       " 'ctagct tagctc agctcg gctcga': 120889,\n",
       " 'tagctc agctcg gctcga ctcgag': 214810,\n",
       " 'agctcg gctcga ctcgag tcgagg': 41446,\n",
       " 'gctcga ctcgag tcgagg cgaggg': 166440,\n",
       " 'ctcgag tcgagg cgaggg gagggt': 124731,\n",
       " 'tcgagg cgaggg gagggt agggtc': 230306,\n",
       " 'cgaggg gagggt agggtc gggtct': 103973,\n",
       " 'gagggt agggtc gggtct ggtctg': 146461,\n",
       " 'agggtc gggtct ggtctg gtctgc': 45126,\n",
       " 'gggtct ggtctg gtctgc tctgct': 181311,\n",
       " 'ggtctg gtctgc tctgct ctgctt': 183939,\n",
       " 'gtctgc tctgct ctgctt tgcttt': 194437,\n",
       " 'tctgct ctgctt tgcttt gctttc': 236426,\n",
       " 'ctgctt tgcttt gctttc ctttcg': 128709,\n",
       " 'tgcttt gctttc ctttcg tttcgt': 246339,\n",
       " 'gctttc ctttcg tttcgt ttcgtc': 168897,\n",
       " 'ctttcg tttcgt ttcgtc tcgtcc': 134490,\n",
       " 'tttcgt ttcgtc tcgtcc cgtcct': 269530,\n",
       " 'ttcgtc tcgtcc cgtcct gtccta': 262286,\n",
       " 'tcgtcc cgtcct gtccta tcctag': 233131,\n",
       " 'cgtcct gtccta tcctag cctagc': 115368,\n",
       " 'gtccta tcctag cctagc ctagct': 192520,\n",
       " 'tcctag cctagc ctagct tagctg': 228726,\n",
       " 'cctagc ctagct tagctg agctgt': 97608,\n",
       " 'ctagct tagctg agctgt gctgtt': 120912,\n",
       " 'tagctg agctgt gctgtt ctgttg': 214904,\n",
       " 'agctgt gctgtt ctgttg tgttga': 41817,\n",
       " 'gctgtt ctgttg tgttga gttgaa': 167930,\n",
       " 'ctgttg tgttga gttgaa ttgaac': 130685,\n",
       " 'catggc atggct tggctc ggctca': 82926,\n",
       " 'atggct tggctc ggctca gctcag': 61715,\n",
       " 'tggctc ggctca gctcag ctcaga': 248291,\n",
       " 'ggctca gctcag ctcaga tcagat': 176791,\n",
       " 'gctcag ctcaga tcagat cagatt': 166024,\n",
       " 'ctcaga tcagat cagatt agattg': 123066,\n",
       " 'tcagat cagatt agattg gattga': 223610,\n",
       " 'cagatt agattg gattga attgaa': 76974,\n",
       " 'agattg gattga attgaa ttgaac': 37727,\n",
       " 'gattga attgaa ttgaac tgaacg': 151580,\n",
       " 'attgaa ttgaac tgaacg gaacgc': 65516,\n",
       " 'ttgaac tgaacg gaacgc aacgct': 263597,\n",
       " 'tgaacg gaacgc aacgct acgctg': 238421,\n",
       " 'gaacgc aacgct acgctg cgctgg': 136887,\n",
       " 'aacgct acgctg cgctgg gctggc': 6764,\n",
       " 'acgctg cgctgg gctggc ctggcg': 27175,\n",
       " 'cgctgg gctggc ctggcg tggcgg': 109196,\n",
       " 'gctggc ctggcg tggcgg ggcggc': 167547,\n",
       " 'ctggcg tggcgg ggcggc gcggca': 129149,\n",
       " 'tggcgg ggcggc gcggca cggcag': 248104,\n",
       " 'ggcggc gcggca cggcag ggcagg': 176017,\n",
       " 'gcggca cggcag ggcagg gcaggc': 162936,\n",
       " 'cggcag ggcagg gcaggc caggcc': 110784,\n",
       " 'ggcagg gcaggc caggcc aggcct': 173996,\n",
       " 'gcaggc caggcc aggcct ggccta': 154817,\n",
       " 'caggcc aggcct ggccta gcctaa': 78443,\n",
       " 'aggcct ggccta gcctaa cctaac': 43614,\n",
       " 'ggccta gcctaa cctaac ctaaca': 175154,\n",
       " 'gcctaa cctaac ctaaca taacac': 159487,\n",
       " 'cctaac ctaaca taacac aacaca': 97033,\n",
       " 'ctaaca taacac aacaca acacat': 118606,\n",
       " 'taacac aacaca acacat cacatg': 205626,\n",
       " 'aacaca acacat cacatg acatgc': 4496,\n",
       " 'acacat cacatg acatgc catgca': 18107,\n",
       " 'cacatg acatgc catgca atgcaa': 72718,\n",
       " 'acatgc catgca atgcaa tgcaag': 20542,\n",
       " 'catgca atgcaa tgcaag gcaagt': 82560,\n",
       " 'atgcaa tgcaag gcaagt caagtc': 60244,\n",
       " 'tgcaag gcaagt caagtc aagtcg': 242367,\n",
       " 'gcaagt caagtc aagtcg agtcga': 152855,\n",
       " 'caagtc aagtcg agtcga gtcgag': 70592,\n",
       " 'aagtcg agtcga gtcgag tcgagc': 11950,\n",
       " 'agtcga gtcgag tcgagc cgagcg': 48004,\n",
       " 'gtcgag tcgagc cgagcg gagcgg': 192897,\n",
       " 'tcgagc cgagcg gagcgg agcggc': 230237,\n",
       " 'cgagcg gagcgg agcggc gcggca': 103691,\n",
       " 'gagcgg agcggc gcggca cggcag': 145318,\n",
       " 'agcggc gcggca cggcag ggcagc': 40568,\n",
       " 'gcggca cggcag ggcagc gcagcg': 162933,\n",
       " 'cggcag ggcagc gcagcg cagcga': 110771,\n",
       " 'ggcagc gcagcg cagcga agcgac': 173940,\n",
       " 'gcagcg cagcga agcgac gcgaca': 154598,\n",
       " 'cagcga agcgac gcgaca cgacaa': 77555,\n",
       " 'agcgac gcgaca cgacaa gacaac': 40035,\n",
       " 'gcgaca cgacaa gacaac acaaca': 160801,\n",
       " 'cgacaa gacaac acaaca caacaa': 102242,\n",
       " 'gacaac acaaca caacaa aacaat': 139473,\n",
       " 'acaaca caacaa aacaat acaatg': 17114,\n",
       " 'caacaa aacaat acaatg caatga': 68725,\n",
       " 'aacaat acaatg caatga aatgaa': 4407,\n",
       " 'acaatg caatga aatgaa atgaac': 17749,\n",
       " 'caatga aatgaa atgaac tgaacc': 71282,\n",
       " 'aatgaa atgaac tgaacc gaacct': 14758,\n",
       " 'atgaac tgaacc gaacct aacctt': 59251,\n",
       " 'tgaacc gaacct aacctt accttc': 238387,\n",
       " 'gaacct aacctt accttc ccttcg': 136750,\n",
       " 'aacctt accttc ccttcg cttcgg': 6216,\n",
       " 'accttc ccttcg cttcgg ttcggg': 25013,\n",
       " 'ccttcg cttcgg ttcggg tcgggg': 100529,\n",
       " 'cttcgg ttcggg tcgggg cggggg': 132637,\n",
       " 'ttcggg tcgggg cggggg ggggga': 262098,\n",
       " 'tcgggg cggggg ggggga ggggat': 232386,\n",
       " 'cggggg ggggga ggggat gggatt': 112339,\n",
       " ...}"
      ]
     },
     "execution_count": 113,
     "metadata": {},
     "output_type": "execute_result"
    }
   ],
   "source": [
    "cv.vocabulary_"
   ]
  },
  {
   "cell_type": "markdown",
   "id": "33412e4d",
   "metadata": {},
   "source": [
    "# Class "
   ]
  },
  {
   "cell_type": "code",
   "execution_count": 24,
   "id": "a6ee26f6",
   "metadata": {},
   "outputs": [
    {
     "name": "stdout",
     "output_type": "stream",
     "text": [
      "['Alphaproteobacteria', 'Betaproteobacteria', 'Gammaproteobacteria'] 3\n"
     ]
    }
   ],
   "source": [
    "print(list(sg.groupby('Class').count().index), len(sg.groupby('Class').count().index))"
   ]
  },
  {
   "cell_type": "code",
   "execution_count": 25,
   "id": "e685c491",
   "metadata": {},
   "outputs": [
    {
     "name": "stdout",
     "output_type": "stream",
     "text": [
      "['class_Alphaproteobacteria', 'class_Betaproteobacteria', 'class_Gammaproteobacteria']\n"
     ]
    }
   ],
   "source": [
    "classes = list(pd.get_dummies(sg['Class']).columns)\n",
    "classes = ['class_' + i for i in classes]\n",
    "print(classes)"
   ]
  },
  {
   "cell_type": "code",
   "execution_count": 26,
   "id": "cd19b96c",
   "metadata": {},
   "outputs": [
    {
     "name": "stdout",
     "output_type": "stream",
     "text": [
      "[2 0 2 ... 0 0 2] 28224\n"
     ]
    }
   ],
   "source": [
    "labels_classes = np.argmax(np.array(pd.get_dummies(sg['Class'])), axis=1)\n",
    "print(labels_classes, len(labels_classes))"
   ]
  },
  {
   "cell_type": "code",
   "execution_count": 27,
   "id": "b283c05f",
   "metadata": {},
   "outputs": [],
   "source": [
    "# Splitting the human dataset into the training set and test set\n",
    "from sklearn.model_selection import train_test_split\n",
    "X_train_c, X_test_c, y_train_c, y_test_c = train_test_split(X, \n",
    "                                                    labels_classes, \n",
    "                                                    test_size = 0.10, \n",
    "                                                    random_state=42)"
   ]
  },
  {
   "cell_type": "code",
   "execution_count": 30,
   "id": "6ac96f1b",
   "metadata": {},
   "outputs": [
    {
     "name": "stdout",
     "output_type": "stream",
     "text": [
      "(25401, 272193)\n",
      "(2823, 272193)\n"
     ]
    }
   ],
   "source": [
    "print(X_train_c.shape)\n",
    "print(X_test_c.shape)"
   ]
  },
  {
   "cell_type": "code",
   "execution_count": 31,
   "id": "87b48cd7",
   "metadata": {},
   "outputs": [
    {
     "data": {
      "text/plain": [
       "MultinomialNB(alpha=0.1)"
      ]
     },
     "execution_count": 31,
     "metadata": {},
     "output_type": "execute_result"
    }
   ],
   "source": [
    "### Multinomial Naive Bayes Classifier ###\n",
    "# The alpha parameter was determined by grid search previously\n",
    "from sklearn.naive_bayes import MultinomialNB\n",
    "classifier_c = MultinomialNB(alpha=0.1)\n",
    "classifier_c.fit(X_train_c, y_train_c)"
   ]
  },
  {
   "cell_type": "code",
   "execution_count": 32,
   "id": "2d73b21d",
   "metadata": {},
   "outputs": [
    {
     "data": {
      "text/plain": [
       "array([2, 0, 0, ..., 0, 2, 0], dtype=int64)"
      ]
     },
     "execution_count": 32,
     "metadata": {},
     "output_type": "execute_result"
    }
   ],
   "source": [
    "y_pred_c = classifier_c.predict(X_test_c)\n",
    "y_pred_c"
   ]
  },
  {
   "cell_type": "code",
   "execution_count": 33,
   "id": "617215a3",
   "metadata": {
    "scrolled": false
   },
   "outputs": [
    {
     "name": "stdout",
     "output_type": "stream",
     "text": [
      "Confusion matrix\n",
      "\n",
      "Predicted     0    1     2\n",
      "Actual                    \n",
      "0          1301    0     2\n",
      "1             3  191     1\n",
      "2             3    1  1321\n",
      "accuracy = 0.996 \n",
      "precision = 0.996 \n",
      "recall = 0.996 \n",
      "f1 = 0.996\n"
     ]
    }
   ],
   "source": [
    "from sklearn.metrics import accuracy_score, f1_score, precision_score, recall_score\n",
    "print(\"Confusion matrix\\n\")\n",
    "print(pd.crosstab(pd.Series(y_test_c, name='Actual'), pd.Series(y_pred_c, name='Predicted')))\n",
    "def get_metrics(y_test, y_predicted):\n",
    "    accuracy = accuracy_score(y_test, y_predicted)\n",
    "    precision = precision_score(y_test, y_predicted, average='weighted')\n",
    "    recall = recall_score(y_test, y_predicted, average='weighted')\n",
    "    f1 = f1_score(y_test, y_predicted, average='weighted')\n",
    "    return accuracy, precision, recall, f1\n",
    "accuracy, precision, recall, f1 = get_metrics(y_test_c, y_pred_c)\n",
    "print(\"accuracy = %.3f \\nprecision = %.3f \\nrecall = %.3f \\nf1 = %.3f\" % (accuracy, precision, recall, f1))"
   ]
  },
  {
   "cell_type": "code",
   "execution_count": 34,
   "id": "2449e077",
   "metadata": {},
   "outputs": [],
   "source": [
    "def predict_c(seq):\n",
    "    if type(seq)== str:\n",
    "        seq = [seq]\n",
    "    return classifier_c.predict(cv.transform(seq))\n",
    "def find_class(seq):\n",
    "    pred = predict_c(seq)\n",
    "    return [classes[i] for i in pred]"
   ]
  },
  {
   "cell_type": "code",
   "execution_count": 35,
   "id": "8986ce7e",
   "metadata": {},
   "outputs": [
    {
     "data": {
      "text/plain": [
       "2"
      ]
     },
     "execution_count": 35,
     "metadata": {},
     "output_type": "execute_result"
    }
   ],
   "source": [
    "predict_c(human_texts[0]).item()"
   ]
  },
  {
   "cell_type": "code",
   "execution_count": 36,
   "id": "6afefda1",
   "metadata": {},
   "outputs": [
    {
     "data": {
      "text/plain": [
       "(['class_Gammaproteobacteria',\n",
       "  'class_Alphaproteobacteria',\n",
       "  'class_Gammaproteobacteria',\n",
       "  'class_Alphaproteobacteria',\n",
       "  'class_Gammaproteobacteria'],\n",
       " ['class_Gammaproteobacteria'])"
      ]
     },
     "execution_count": 36,
     "metadata": {},
     "output_type": "execute_result"
    }
   ],
   "source": [
    "find_class(human_texts[0:5]), find_class(human_texts[0])"
   ]
  },
  {
   "cell_type": "markdown",
   "id": "64bf39f2",
   "metadata": {},
   "source": [
    "# Order"
   ]
  },
  {
   "cell_type": "code",
   "execution_count": 37,
   "id": "f01e3c03",
   "metadata": {
    "scrolled": true
   },
   "outputs": [
    {
     "name": "stdout",
     "output_type": "stream",
     "text": [
      "['Aeromonadales', 'Alteromonadales', 'Caulobacterales', 'Chromatiales', 'Ferrovales', 'Gammaproteobacteria_incertae_sedis', 'Legionellales', 'Methylophilales', 'Neisseriales', 'Oceanospirillales', 'Pasteurellales', 'Pseudomonadales', 'Rhizobiales', 'Rhodobacterales', 'Rhodospirillales', 'Sphingomonadales', 'Thiotrichales', 'Vibrionales', 'Xanthomonadales', '\\\\\"Salinisphaerales\\\\\"', '\\\\\"Vibrionales\\\\\"'] 21\n"
     ]
    }
   ],
   "source": [
    "print(list(sg.groupby('Order').count().index), len(sg.groupby('Order').count().index))"
   ]
  },
  {
   "cell_type": "code",
   "execution_count": 38,
   "id": "a4ea6bad",
   "metadata": {},
   "outputs": [],
   "source": [
    "orders = []\n",
    "for i in sg['Order']:\n",
    "    if i[0:2]==   r\"\\\"\":\n",
    "        i = i[2:-2]\n",
    "    orders.append(i)"
   ]
  },
  {
   "cell_type": "code",
   "execution_count": 39,
   "id": "c414866c",
   "metadata": {},
   "outputs": [],
   "source": [
    "sg['Order'] = orders"
   ]
  },
  {
   "cell_type": "code",
   "execution_count": 40,
   "id": "4e4f1f6c",
   "metadata": {},
   "outputs": [
    {
     "name": "stdout",
     "output_type": "stream",
     "text": [
      "['Aeromonadales', 'Alteromonadales', 'Caulobacterales', 'Chromatiales', 'Ferrovales', 'Gammaproteobacteria_incertae_sedis', 'Legionellales', 'Methylophilales', 'Neisseriales', 'Oceanospirillales', 'Pasteurellales', 'Pseudomonadales', 'Rhizobiales', 'Rhodobacterales', 'Rhodospirillales', 'Salinisphaerales', 'Sphingomonadales', 'Thiotrichales', 'Vibrionales', 'Xanthomonadales'] 20\n"
     ]
    }
   ],
   "source": [
    "print(list(sg.groupby('Order').count().index), len(sg.groupby('Order').count().index))"
   ]
  },
  {
   "cell_type": "code",
   "execution_count": 45,
   "id": "7b852c44",
   "metadata": {},
   "outputs": [
    {
     "name": "stdout",
     "output_type": "stream",
     "text": [
      "[ 1 13 18 ... 13 12 19] 28224\n"
     ]
    }
   ],
   "source": [
    "orders = list(pd.get_dummies(sg['Order']).columns)\n",
    "orders = ['order_' + i for i in orders]\n",
    "\n",
    "labels_orders = np.argmax(np.array(pd.get_dummies(sg['Order'])), axis=1)\n",
    "print(labels_orders, len(labels_orders))"
   ]
  },
  {
   "cell_type": "code",
   "execution_count": 46,
   "id": "c6f00b43",
   "metadata": {},
   "outputs": [
    {
     "name": "stdout",
     "output_type": "stream",
     "text": [
      "['order_Aeromonadales', 'order_Alteromonadales', 'order_Caulobacterales', 'order_Chromatiales', 'order_Ferrovales', 'order_Gammaproteobacteria_incertae_sedis', 'order_Legionellales', 'order_Methylophilales', 'order_Neisseriales', 'order_Oceanospirillales', 'order_Pasteurellales', 'order_Pseudomonadales', 'order_Rhizobiales', 'order_Rhodobacterales', 'order_Rhodospirillales', 'order_Salinisphaerales', 'order_Sphingomonadales', 'order_Thiotrichales', 'order_Vibrionales', 'order_Xanthomonadales']\n"
     ]
    }
   ],
   "source": [
    "print(orders)"
   ]
  },
  {
   "cell_type": "code",
   "execution_count": 47,
   "id": "e7234158",
   "metadata": {},
   "outputs": [],
   "source": [
    "# Splitting the human dataset into the training set and test set\n",
    "from sklearn.model_selection import train_test_split\n",
    "X_train_o, X_test_o, y_train_o, y_test_o = train_test_split(X, \n",
    "                                                    labels_orders, \n",
    "                                                    test_size = 0.10, \n",
    "                                                    random_state=42)"
   ]
  },
  {
   "cell_type": "code",
   "execution_count": 48,
   "id": "43683fc2",
   "metadata": {},
   "outputs": [
    {
     "name": "stdout",
     "output_type": "stream",
     "text": [
      "(25401, 272193)\n",
      "(2823, 272193)\n"
     ]
    }
   ],
   "source": [
    "print(X_train_o.shape)\n",
    "print(X_test_o.shape)"
   ]
  },
  {
   "cell_type": "code",
   "execution_count": 49,
   "id": "59c6437c",
   "metadata": {},
   "outputs": [
    {
     "data": {
      "text/plain": [
       "MultinomialNB(alpha=0.1)"
      ]
     },
     "execution_count": 49,
     "metadata": {},
     "output_type": "execute_result"
    }
   ],
   "source": [
    "### Multinomial Naive Bayes Classifier ###\n",
    "# The alpha parameter was determined by grid search previously\n",
    "from sklearn.naive_bayes import MultinomialNB\n",
    "classifier_o = MultinomialNB(alpha=0.1)\n",
    "classifier_o.fit(X_train_o, y_train_o)"
   ]
  },
  {
   "cell_type": "code",
   "execution_count": 50,
   "id": "88065d3f",
   "metadata": {},
   "outputs": [
    {
     "data": {
      "text/plain": [
       "array([19, 13, 13, ..., 13,  5, 13], dtype=int64)"
      ]
     },
     "execution_count": 50,
     "metadata": {},
     "output_type": "execute_result"
    }
   ],
   "source": [
    "y_pred_o = classifier_o.predict(X_test_o)\n",
    "y_pred_o"
   ]
  },
  {
   "cell_type": "code",
   "execution_count": 51,
   "id": "a5cf3a61",
   "metadata": {},
   "outputs": [
    {
     "name": "stdout",
     "output_type": "stream",
     "text": [
      "Confusion matrix\n",
      "\n",
      "Predicted  0    1    2   3   4   5   6   7    8    9    10  11   12   13  14  \\\n",
      "Actual                                                                         \n",
      "0          20    0    0   0   0   0   0   0    0    0    0   0    0    0   0   \n",
      "1           3  306    0   1   0   2   0   0    0   11    0   8    2    0   0   \n",
      "2           0    0  108   0   0   0   0   0    0    0    0   0    3    3   0   \n",
      "3           0    0    0  48   0   0   0   0    0    0    0   0    0    0   0   \n",
      "4           0    0    0   0  37   0   0   0    0    0    0   0    0    0   0   \n",
      "5           0    4    0   0   0  23   1   0    0    1    0   0    0    0   0   \n",
      "6           0    0    0   0   0   0  57   0    0    0    0   0    0    0   0   \n",
      "7           0    0    0   0   0   0   0  19    1    0    0   0    0    0   0   \n",
      "8           0    0    0   0   0   0   0   0  138    0    0   0    0    0   0   \n",
      "9           1   12    0   0   1   1   0   0    0  306    0   2    1    0   0   \n",
      "10          0    1    0   0   0   2   0   0    0    1  192   0    0    0   0   \n",
      "11          0    0    0   0   0   0   0   0    0    0    0  30    0    0   0   \n",
      "12          0    0    0   0   0   0   0   0    0    0    0   0  469    2   0   \n",
      "13          0    0    0   0   0   0   0   0    0    0    0   0   21  430   0   \n",
      "14          0    0    0   0   0   0   0   0    0    0    0   0    8    1  81   \n",
      "15          0    0    0   0   0   0   0   0    0    0    0   0    0    0   0   \n",
      "16          0    0    0   0   0   0   0   0    0    0    0   0   11    0   0   \n",
      "17          0    2    0   0   0   0   0   0    0    0    0   0    0    0   0   \n",
      "18          0    3    0   0   0   0   0   0    0    1    0   0    0    0   0   \n",
      "19          0    1    0   0   0   0   0   0    0    0    0   0    1    0   0   \n",
      "\n",
      "Predicted  15   16  17  18   19  \n",
      "Actual                           \n",
      "0           0    0   0   0    0  \n",
      "1           1    0   1   1    0  \n",
      "2           0    0   0   0    0  \n",
      "3           0    0   0   0    0  \n",
      "4           0    0   0   0    0  \n",
      "5           0    0   0   0    0  \n",
      "6           0    0   0   0    0  \n",
      "7           0    0   0   0    0  \n",
      "8           0    0   0   0    0  \n",
      "9           0    0   0   0    0  \n",
      "10          0    0   0   5    0  \n",
      "11          0    0   0   0    0  \n",
      "12          0    1   0   0    0  \n",
      "13          0    0   0   0    0  \n",
      "14          0    0   0   0    0  \n",
      "15         28    0   0   0    0  \n",
      "16          0  165   0   0    0  \n",
      "17          0    0  37   0    0  \n",
      "18          0    0   0  63    0  \n",
      "19          0    0   0   0  144  \n",
      "accuracy = 0.957 \n",
      "precision = 0.959 \n",
      "recall = 0.957 \n",
      "f1 = 0.957\n"
     ]
    }
   ],
   "source": [
    "print(\"Confusion matrix\\n\")\n",
    "print(pd.crosstab(pd.Series(y_test_o, name='Actual'), pd.Series(y_pred_o, name='Predicted')))\n",
    "def get_metrics(y_test, y_predicted):\n",
    "    accuracy = accuracy_score(y_test, y_predicted)\n",
    "    precision = precision_score(y_test, y_predicted, average='weighted')\n",
    "    recall = recall_score(y_test, y_predicted, average='weighted')\n",
    "    f1 = f1_score(y_test, y_predicted, average='weighted')\n",
    "    return accuracy, precision, recall, f1\n",
    "accuracy, precision, recall, f1 = get_metrics(y_test_o, y_pred_o)\n",
    "print(\"accuracy = %.3f \\nprecision = %.3f \\nrecall = %.3f \\nf1 = %.3f\" % (accuracy, precision, recall, f1))"
   ]
  },
  {
   "cell_type": "code",
   "execution_count": 52,
   "id": "053d3e51",
   "metadata": {},
   "outputs": [],
   "source": [
    "def predict_o(seq):\n",
    "    if type(seq)== str:\n",
    "        seq = [seq]\n",
    "    return classifier_o.predict(cv.transform(seq))\n",
    "\n",
    "def find_order(seq):\n",
    "    pred = predict_o(seq)\n",
    "    return [orders[i] for i in pred]"
   ]
  },
  {
   "cell_type": "code",
   "execution_count": 53,
   "id": "5b4605d6",
   "metadata": {},
   "outputs": [
    {
     "data": {
      "text/plain": [
       "13"
      ]
     },
     "execution_count": 53,
     "metadata": {},
     "output_type": "execute_result"
    }
   ],
   "source": [
    "predict_o(human_texts[3]).item()"
   ]
  },
  {
   "cell_type": "code",
   "execution_count": 54,
   "id": "40076710",
   "metadata": {},
   "outputs": [
    {
     "data": {
      "text/plain": [
       "['order_Alteromonadales',\n",
       " 'order_Rhodobacterales',\n",
       " 'order_Vibrionales',\n",
       " 'order_Rhodobacterales',\n",
       " 'order_Alteromonadales']"
      ]
     },
     "execution_count": 54,
     "metadata": {},
     "output_type": "execute_result"
    }
   ],
   "source": [
    "find_order(human_texts[0:5])"
   ]
  },
  {
   "cell_type": "markdown",
   "id": "b96ccaf7",
   "metadata": {},
   "source": [
    "# Family"
   ]
  },
  {
   "cell_type": "code",
   "execution_count": 55,
   "id": "ea1f8eb1",
   "metadata": {
    "scrolled": true
   },
   "outputs": [
    {
     "name": "stdout",
     "output_type": "stream",
     "text": [
      "['Aeromonadaceae', 'Alteromonadaceae', 'Alteromonadales_incertae_sedis', 'Bradyrhizobiaceae', 'Brucellaceae', 'Caulobacteraceae', 'Chromatiaceae', 'Colwelliaceae', 'Coxiellaceae', 'Erythrobacteraceae', 'Ferrimonadaceae', 'Ferrovaceae', 'Hahellaceae', 'Halomonadaceae', 'Hyphomicrobiaceae', 'Hyphomonadaceae', 'Idiomarinaceae', 'Legionellaceae', 'Methylophilaceae', 'Moritellaceae', 'Neisseriaceae', 'Oceanospirillaceae', 'Oceanospirillales_incertae_sedis', 'Pasteurellaceae', 'Phyllobacteriaceae', 'Piscirickettsiaceae', 'Pseudoalteromonadaceae', 'Pseudomonadaceae', 'Psychromonadaceae', 'Rhizobiaceae', 'Rhodobacteraceae', 'Rhodospirillaceae', 'Simiduia', 'Sinobacteraceae', 'Sphingomonadaceae', 'Vibrionaceae', 'Xanthobacteraceae', 'Xanthomonadaceae', '\\\\\"Salinisphaeraceae\\\\\"'] \n",
      " 39\n"
     ]
    }
   ],
   "source": [
    "print(list(sg.groupby('Family').count().index),'\\n', len(sg.groupby('Family').count().index))"
   ]
  },
  {
   "cell_type": "code",
   "execution_count": 56,
   "id": "a62c3062",
   "metadata": {},
   "outputs": [],
   "source": [
    "families = []\n",
    "for i in sg['Family']:\n",
    "    if i[0:2]==   r\"\\\"\":\n",
    "        i = i[2:-2]\n",
    "    families.append(i)"
   ]
  },
  {
   "cell_type": "code",
   "execution_count": 57,
   "id": "17097c3b",
   "metadata": {},
   "outputs": [],
   "source": [
    "sg['Family'] = families"
   ]
  },
  {
   "cell_type": "code",
   "execution_count": 58,
   "id": "8ae041cc",
   "metadata": {},
   "outputs": [
    {
     "name": "stdout",
     "output_type": "stream",
     "text": [
      "['Aeromonadaceae', 'Alteromonadaceae', 'Alteromonadales_incertae_sedis', 'Bradyrhizobiaceae', 'Brucellaceae', 'Caulobacteraceae', 'Chromatiaceae', 'Colwelliaceae', 'Coxiellaceae', 'Erythrobacteraceae', 'Ferrimonadaceae', 'Ferrovaceae', 'Hahellaceae', 'Halomonadaceae', 'Hyphomicrobiaceae', 'Hyphomonadaceae', 'Idiomarinaceae', 'Legionellaceae', 'Methylophilaceae', 'Moritellaceae', 'Neisseriaceae', 'Oceanospirillaceae', 'Oceanospirillales_incertae_sedis', 'Pasteurellaceae', 'Phyllobacteriaceae', 'Piscirickettsiaceae', 'Pseudoalteromonadaceae', 'Pseudomonadaceae', 'Psychromonadaceae', 'Rhizobiaceae', 'Rhodobacteraceae', 'Rhodospirillaceae', 'Salinisphaeraceae', 'Simiduia', 'Sinobacteraceae', 'Sphingomonadaceae', 'Vibrionaceae', 'Xanthobacteraceae', 'Xanthomonadaceae'] 39\n"
     ]
    }
   ],
   "source": [
    "print(list(sg.groupby('Family').count().index), len(sg.groupby('Family').count().index))"
   ]
  },
  {
   "cell_type": "code",
   "execution_count": 59,
   "id": "fc661562",
   "metadata": {},
   "outputs": [
    {
     "name": "stdout",
     "output_type": "stream",
     "text": [
      "[19 30 36 ... 30 37 38] 28224\n"
     ]
    }
   ],
   "source": [
    "families = list(pd.get_dummies(sg['Family']).columns)\n",
    "families = ['familiy_' + i for i in families]\n",
    "\n",
    "labels_families = np.argmax(np.array(pd.get_dummies(sg['Family'])), axis=1)\n",
    "print(labels_families, len(labels_families))"
   ]
  },
  {
   "cell_type": "code",
   "execution_count": 60,
   "id": "2501cc52",
   "metadata": {},
   "outputs": [
    {
     "name": "stdout",
     "output_type": "stream",
     "text": [
      "['familiy_Aeromonadaceae', 'familiy_Alteromonadaceae', 'familiy_Alteromonadales_incertae_sedis', 'familiy_Bradyrhizobiaceae', 'familiy_Brucellaceae', 'familiy_Caulobacteraceae', 'familiy_Chromatiaceae', 'familiy_Colwelliaceae', 'familiy_Coxiellaceae', 'familiy_Erythrobacteraceae', 'familiy_Ferrimonadaceae', 'familiy_Ferrovaceae', 'familiy_Hahellaceae', 'familiy_Halomonadaceae', 'familiy_Hyphomicrobiaceae', 'familiy_Hyphomonadaceae', 'familiy_Idiomarinaceae', 'familiy_Legionellaceae', 'familiy_Methylophilaceae', 'familiy_Moritellaceae', 'familiy_Neisseriaceae', 'familiy_Oceanospirillaceae', 'familiy_Oceanospirillales_incertae_sedis', 'familiy_Pasteurellaceae', 'familiy_Phyllobacteriaceae', 'familiy_Piscirickettsiaceae', 'familiy_Pseudoalteromonadaceae', 'familiy_Pseudomonadaceae', 'familiy_Psychromonadaceae', 'familiy_Rhizobiaceae', 'familiy_Rhodobacteraceae', 'familiy_Rhodospirillaceae', 'familiy_Salinisphaeraceae', 'familiy_Simiduia', 'familiy_Sinobacteraceae', 'familiy_Sphingomonadaceae', 'familiy_Vibrionaceae', 'familiy_Xanthobacteraceae', 'familiy_Xanthomonadaceae']\n"
     ]
    }
   ],
   "source": [
    "print(families)"
   ]
  },
  {
   "cell_type": "code",
   "execution_count": 61,
   "id": "9ad2c866",
   "metadata": {},
   "outputs": [
    {
     "data": {
      "text/plain": [
       "39"
      ]
     },
     "execution_count": 61,
     "metadata": {},
     "output_type": "execute_result"
    }
   ],
   "source": [
    "len(families)"
   ]
  },
  {
   "cell_type": "code",
   "execution_count": 62,
   "id": "8ea215d1",
   "metadata": {},
   "outputs": [],
   "source": [
    "# Splitting the human dataset into the training set and test set\n",
    "from sklearn.model_selection import train_test_split\n",
    "X_train_f, X_test_f, y_train_f, y_test_f = train_test_split(X, \n",
    "                                                    labels_families, \n",
    "                                                    test_size = 0.10, \n",
    "                                                    random_state=42)"
   ]
  },
  {
   "cell_type": "code",
   "execution_count": 63,
   "id": "ec0d3811",
   "metadata": {},
   "outputs": [
    {
     "name": "stdout",
     "output_type": "stream",
     "text": [
      "(25401, 272193)\n",
      "(2823, 272193)\n"
     ]
    }
   ],
   "source": [
    "print(X_train_f.shape)\n",
    "print(X_test_f.shape)"
   ]
  },
  {
   "cell_type": "code",
   "execution_count": 64,
   "id": "63631b4f",
   "metadata": {},
   "outputs": [
    {
     "data": {
      "text/plain": [
       "MultinomialNB(alpha=0.1)"
      ]
     },
     "execution_count": 64,
     "metadata": {},
     "output_type": "execute_result"
    }
   ],
   "source": [
    "### Multinomial Naive Bayes Classifier ###\n",
    "# The alpha parameter was determined by grid search previously\n",
    "from sklearn.naive_bayes import MultinomialNB\n",
    "classifier_f = MultinomialNB(alpha=0.1)\n",
    "classifier_f.fit(X_train_f, y_train_f)"
   ]
  },
  {
   "cell_type": "code",
   "execution_count": 65,
   "id": "5118cede",
   "metadata": {},
   "outputs": [
    {
     "data": {
      "text/plain": [
       "array([38, 30, 30, ..., 30, 33, 30], dtype=int64)"
      ]
     },
     "execution_count": 65,
     "metadata": {},
     "output_type": "execute_result"
    }
   ],
   "source": [
    "y_pred_f = classifier_f.predict(X_test_f)\n",
    "y_pred_f"
   ]
  },
  {
   "cell_type": "code",
   "execution_count": 66,
   "id": "a9c4755b",
   "metadata": {},
   "outputs": [
    {
     "name": "stdout",
     "output_type": "stream",
     "text": [
      "Confusion matrix\n",
      "\n",
      "Predicted  0    1   2   3   4   5   6   7   8   9   ...  29   30  31  32  33  \\\n",
      "Actual                                              ...                        \n",
      "0          20    0   0   0   0   0   0   0   0   0  ...   0    0   0   0   0   \n",
      "1           0  106   1   0   0   0   0   0   0   0  ...   0    0   0   1   1   \n",
      "2           0    0  29   0   0   0   0   0   0   0  ...   0    0   0   0   1   \n",
      "3           0    0   0  76   0   0   0   0   0   0  ...   0    0   0   0   0   \n",
      "4           0    0   0   0  28   0   0   0   0   0  ...   0    0   0   0   0   \n",
      "5           0    0   0   0   0  61   0   0   0   0  ...   0    0   0   0   0   \n",
      "6           0    0   0   0   0   0  48   0   0   0  ...   0    0   0   0   0   \n",
      "7           0    0   0   0   0   0   0  28   0   0  ...   0    0   0   0   0   \n",
      "8           0    0   0   0   0   0   0   0  30   0  ...   0    0   0   0   0   \n",
      "9           0    0   0   0   0   0   0   0   0  52  ...   0    0   0   0   0   \n",
      "10          0    0   0   0   0   0   0   1   0   0  ...   0    0   0   0   0   \n",
      "11          0    0   0   0   0   0   0   0   0   0  ...   0    0   0   0   0   \n",
      "12          0    0   0   0   0   0   0   0   0   0  ...   0    0   0   0   0   \n",
      "13          0    0   0   0   0   0   0   1   0   0  ...   0    0   0   0   0   \n",
      "14          0    0   0   0   0   0   0   0   0   0  ...   2    1   0   0   0   \n",
      "15          0    0   0   0   0   0   0   0   0   0  ...   0    0   0   0   0   \n",
      "16          0    0   0   0   0   0   0   0   0   0  ...   0    0   0   0   0   \n",
      "17          0    0   0   0   0   0   0   0   0   0  ...   0    0   0   0   0   \n",
      "18          0    0   0   0   0   0   0   0   0   0  ...   0    0   0   0   0   \n",
      "19          0    0   0   0   0   0   0   0   0   0  ...   0    0   0   0   0   \n",
      "20          0    0   0   0   0   0   0   0   0   0  ...   0    0   0   0   0   \n",
      "21          0    0   0   0   0   0   0   1   0   0  ...   0    0   0   0   1   \n",
      "22          0    0   0   0   0   0   0   0   0   0  ...   0    0   0   0   0   \n",
      "23          0    0   0   0   0   0   0   0   0   0  ...   0    0   0   0   1   \n",
      "24          0    0   0   0   0   0   0   0   0   0  ...   2    1   0   0   0   \n",
      "25          0    0   0   0   0   0   0   1   0   0  ...   0    0   0   0   0   \n",
      "26          0    0   0   0   0   0   0   0   0   0  ...   0    0   0   0   0   \n",
      "27          0    0   0   0   0   0   0   0   0   0  ...   0    0   0   0   0   \n",
      "28          0    0   0   0   0   0   0   0   0   0  ...   0    0   0   0   0   \n",
      "29          0    0   0   0   0   0   0   0   0   0  ...  56    1   0   0   0   \n",
      "30          0    0   0   3   0   0   0   0   0   0  ...   2  433   1   0   0   \n",
      "31          0    0   0   0   1   0   0   0   0   0  ...   0    2  85   0   0   \n",
      "32          0    0   0   0   0   0   0   0   0   0  ...   0    0   0  28   0   \n",
      "33          0    0   3   0   0   0   0   0   0   0  ...   0    0   0   0  26   \n",
      "34          0    0   0   0   0   0   0   0   0   0  ...   0    0   0   0   0   \n",
      "35          0    0   0   0   0   0   0   0   0   4  ...   0    1   0   0   0   \n",
      "36          0    0   0   0   0   0   0   0   0   0  ...   0    0   0   0   0   \n",
      "37          0    0   0   0   0   0   0   0   0   0  ...   1    0   0   0   0   \n",
      "38          0    0   0   0   0   0   0   0   0   0  ...   0    0   0   0   0   \n",
      "\n",
      "Predicted  34   35  36   37   38  \n",
      "Actual                            \n",
      "0           0    0   0    0    0  \n",
      "1           0    0   0    0    0  \n",
      "2           0    0   0    0    0  \n",
      "3           0    0   0    0    0  \n",
      "4           0    0   0    0    0  \n",
      "5           0    0   0    0    0  \n",
      "6           0    0   0    0    0  \n",
      "7           0    0   0    0    0  \n",
      "8           0    0   0    0    0  \n",
      "9           0    2   0    0    0  \n",
      "10          0    0   0    0    0  \n",
      "11          0    0   0    0    0  \n",
      "12          0    0   0    0    0  \n",
      "13          0    0   0    0    0  \n",
      "14          0    0   0    0    0  \n",
      "15          0    0   0    0    0  \n",
      "16          0    0   0    0    0  \n",
      "17          0    0   0    0    0  \n",
      "18          0    0   0    0    0  \n",
      "19          0    0   0    0    0  \n",
      "20          0    0   0    0    0  \n",
      "21          0    0   1    0    0  \n",
      "22          0    0   0    0    0  \n",
      "23          0    0   5    0    0  \n",
      "24          0    0   0    1    0  \n",
      "25          0    0   0    0    0  \n",
      "26          0    0   0    0    0  \n",
      "27          0    0   0    0    0  \n",
      "28          0    0   0    0    0  \n",
      "29          0    0   0    0    0  \n",
      "30          0    1   0    1    0  \n",
      "31          0    0   0    1    0  \n",
      "32          0    0   0    0    0  \n",
      "33          0    0   0    0    0  \n",
      "34         17    0   0    0    0  \n",
      "35          0  115   0    0    0  \n",
      "36          0    0  65    0    0  \n",
      "37          0    0   0  158    0  \n",
      "38          0    0   0    0  129  \n",
      "\n",
      "[39 rows x 39 columns]\n",
      "accuracy = 0.954 \n",
      "precision = 0.961 \n",
      "recall = 0.954 \n",
      "f1 = 0.955\n"
     ]
    }
   ],
   "source": [
    "print(\"Confusion matrix\\n\")\n",
    "print(pd.crosstab(pd.Series(y_test_f, name='Actual'), pd.Series(y_pred_f, name='Predicted')))\n",
    "def get_metrics(y_test, y_predicted):\n",
    "    accuracy = accuracy_score(y_test, y_predicted)\n",
    "    precision = precision_score(y_test, y_predicted, average='weighted')\n",
    "    recall = recall_score(y_test, y_predicted, average='weighted')\n",
    "    f1 = f1_score(y_test, y_predicted, average='weighted')\n",
    "    return accuracy, precision, recall, f1\n",
    "accuracy, precision, recall, f1 = get_metrics(y_test_f, y_pred_f)\n",
    "print(\"accuracy = %.3f \\nprecision = %.3f \\nrecall = %.3f \\nf1 = %.3f\" % (accuracy, precision, recall, f1))"
   ]
  },
  {
   "cell_type": "code",
   "execution_count": 67,
   "id": "103cff7c",
   "metadata": {},
   "outputs": [],
   "source": [
    "def predict_f(seq):\n",
    "    if type(seq)== str:\n",
    "        seq = [seq]\n",
    "    return classifier_f.predict(cv.transform(seq))\n",
    "\n",
    "def find_family(seq):\n",
    "    pred = predict_f(seq)\n",
    "    return [families[i] for i in pred]"
   ]
  },
  {
   "cell_type": "code",
   "execution_count": 68,
   "id": "cfb8e078",
   "metadata": {},
   "outputs": [
    {
     "data": {
      "text/plain": [
       "30"
      ]
     },
     "execution_count": 68,
     "metadata": {},
     "output_type": "execute_result"
    }
   ],
   "source": [
    "predict_f(human_texts[3]).item()"
   ]
  },
  {
   "cell_type": "code",
   "execution_count": 69,
   "id": "4782bfb3",
   "metadata": {},
   "outputs": [
    {
     "data": {
      "text/plain": [
       "['familiy_Moritellaceae',\n",
       " 'familiy_Rhodobacteraceae',\n",
       " 'familiy_Vibrionaceae',\n",
       " 'familiy_Rhodobacteraceae',\n",
       " 'familiy_Ferrimonadaceae']"
      ]
     },
     "execution_count": 69,
     "metadata": {},
     "output_type": "execute_result"
    }
   ],
   "source": [
    "find_family(human_texts[0:5])"
   ]
  },
  {
   "cell_type": "markdown",
   "id": "e05bf75d",
   "metadata": {},
   "source": [
    "# GENUS"
   ]
  },
  {
   "cell_type": "code",
   "execution_count": 70,
   "id": "32401dd7",
   "metadata": {
    "scrolled": true
   },
   "outputs": [
    {
     "name": "stdout",
     "output_type": "stream",
     "text": [
      "['Actinobacillus', 'Afipia', 'Agarivorans', 'Aggregatibacter', 'Algimonas', 'Aliidiomarina', 'Aliiroseovarius', 'Allochromatium', 'Alteromonas', 'Amphritea', 'Amylibacter', 'Ancylobacter', 'Aquaspirillum', 'Azorhizobium', 'Brevundimonas', 'Caulobacter', 'Celeribacter', 'Cellvibrio', 'Chelonobacter', 'Chitinibacter', 'Chromohalobacter', 'Cobetia', 'Coxiella', 'Croceicoccus', 'Erythrobacter', 'Falsochrobactrum', 'Ferrimonas', 'Ferrovum', 'Hahella', 'Halovibrio', 'Henriciella', 'Histophilus', 'Kingella', 'Labrys', 'Legionella', 'Leisingera', 'Loktanella', 'Lucibacterium', 'Luteibacter', 'Marinobacter', 'Marinomonas', 'Marinospirillum', 'Maritalea', 'Marivita', 'Mesorhizobium', 'Methylobacillus', 'Moritella', 'Nautella', 'Necropsobacter', 'Neisseria', 'Neorhizobium', 'Nevskia', 'Nicoletella', 'Nitrincola', 'Nitrosococcus', 'Niveispirillum', 'Novispirillum', 'Oceanisphaera', 'Pannonibacter', 'Paraglaciecola', 'Pedomicrobium', 'Pelagibacterium', 'Pelagibius', 'Phaeobacter', 'Phocoenobacter', 'Photobacterium', 'Phyllobacterium', 'Planktomarina', 'Polymorphobacter', 'Ponticoccus', 'Pseudogulbenkiania', 'Pseudophaeobacter', 'Pseudoxanthomonas', 'Psychromonas', 'Psychrosphaera', 'Rhizobium', 'Rhizorhabdus', 'Rhodobaca', 'Rhodopseudomonas', 'Rhodovulum', 'Roseivivax', 'Ruegeria', 'Sagittula', 'Salicola', 'Salinisphaera', 'Salinivibrio', 'Shinella', 'Simiduia', 'Sphingomonas', 'Sphingorhabdus', 'Sphingosinicella', 'Starkeya', 'Stenotrophomonas', 'Tardiphaga', 'Teredinibacter', 'Thalassotalea', 'Thermomonas', 'Thioalkalimicrobium', 'Xanthobacter', 'Zymobacter'] \n",
      " 100\n"
     ]
    }
   ],
   "source": [
    "print(list(sg.groupby('Genus').count().index),'\\n', len(sg.groupby('Genus').count().index))"
   ]
  },
  {
   "cell_type": "code",
   "execution_count": 71,
   "id": "3186a00d",
   "metadata": {},
   "outputs": [
    {
     "name": "stdout",
     "output_type": "stream",
     "text": [
      "[46 82 37 ...  6 13 92] 28224\n"
     ]
    }
   ],
   "source": [
    "genes = list(pd.get_dummies(sg['Genus']).columns)\n",
    "genes = ['genus_' + i for i in genes]\n",
    "\n",
    "labels_genes = np.argmax(np.array(pd.get_dummies(sg['Genus'])), axis=1)\n",
    "print(labels_genes, len(labels_genes))"
   ]
  },
  {
   "cell_type": "code",
   "execution_count": 72,
   "id": "f724488b",
   "metadata": {
    "scrolled": true
   },
   "outputs": [
    {
     "name": "stdout",
     "output_type": "stream",
     "text": [
      "['genus_Actinobacillus', 'genus_Afipia', 'genus_Agarivorans', 'genus_Aggregatibacter', 'genus_Algimonas', 'genus_Aliidiomarina', 'genus_Aliiroseovarius', 'genus_Allochromatium', 'genus_Alteromonas', 'genus_Amphritea', 'genus_Amylibacter', 'genus_Ancylobacter', 'genus_Aquaspirillum', 'genus_Azorhizobium', 'genus_Brevundimonas', 'genus_Caulobacter', 'genus_Celeribacter', 'genus_Cellvibrio', 'genus_Chelonobacter', 'genus_Chitinibacter', 'genus_Chromohalobacter', 'genus_Cobetia', 'genus_Coxiella', 'genus_Croceicoccus', 'genus_Erythrobacter', 'genus_Falsochrobactrum', 'genus_Ferrimonas', 'genus_Ferrovum', 'genus_Hahella', 'genus_Halovibrio', 'genus_Henriciella', 'genus_Histophilus', 'genus_Kingella', 'genus_Labrys', 'genus_Legionella', 'genus_Leisingera', 'genus_Loktanella', 'genus_Lucibacterium', 'genus_Luteibacter', 'genus_Marinobacter', 'genus_Marinomonas', 'genus_Marinospirillum', 'genus_Maritalea', 'genus_Marivita', 'genus_Mesorhizobium', 'genus_Methylobacillus', 'genus_Moritella', 'genus_Nautella', 'genus_Necropsobacter', 'genus_Neisseria', 'genus_Neorhizobium', 'genus_Nevskia', 'genus_Nicoletella', 'genus_Nitrincola', 'genus_Nitrosococcus', 'genus_Niveispirillum', 'genus_Novispirillum', 'genus_Oceanisphaera', 'genus_Pannonibacter', 'genus_Paraglaciecola', 'genus_Pedomicrobium', 'genus_Pelagibacterium', 'genus_Pelagibius', 'genus_Phaeobacter', 'genus_Phocoenobacter', 'genus_Photobacterium', 'genus_Phyllobacterium', 'genus_Planktomarina', 'genus_Polymorphobacter', 'genus_Ponticoccus', 'genus_Pseudogulbenkiania', 'genus_Pseudophaeobacter', 'genus_Pseudoxanthomonas', 'genus_Psychromonas', 'genus_Psychrosphaera', 'genus_Rhizobium', 'genus_Rhizorhabdus', 'genus_Rhodobaca', 'genus_Rhodopseudomonas', 'genus_Rhodovulum', 'genus_Roseivivax', 'genus_Ruegeria', 'genus_Sagittula', 'genus_Salicola', 'genus_Salinisphaera', 'genus_Salinivibrio', 'genus_Shinella', 'genus_Simiduia', 'genus_Sphingomonas', 'genus_Sphingorhabdus', 'genus_Sphingosinicella', 'genus_Starkeya', 'genus_Stenotrophomonas', 'genus_Tardiphaga', 'genus_Teredinibacter', 'genus_Thalassotalea', 'genus_Thermomonas', 'genus_Thioalkalimicrobium', 'genus_Xanthobacter', 'genus_Zymobacter']\n"
     ]
    },
    {
     "data": {
      "text/plain": [
       "100"
      ]
     },
     "execution_count": 72,
     "metadata": {},
     "output_type": "execute_result"
    }
   ],
   "source": [
    "print(genes)\n",
    "len(genes)"
   ]
  },
  {
   "cell_type": "code",
   "execution_count": 73,
   "id": "3655f38c",
   "metadata": {},
   "outputs": [],
   "source": [
    "# Splitting the human dataset into the training set and test set\n",
    "from sklearn.model_selection import train_test_split\n",
    "X_train_g, X_test_g, y_train_g, y_test_g = train_test_split(X, \n",
    "                                                    labels_genes, \n",
    "                                                    test_size = 0.10, \n",
    "                                                    random_state=42)"
   ]
  },
  {
   "cell_type": "code",
   "execution_count": 74,
   "id": "ef7f525b",
   "metadata": {},
   "outputs": [
    {
     "name": "stdout",
     "output_type": "stream",
     "text": [
      "(25401, 272193)\n",
      "(2823, 272193)\n"
     ]
    }
   ],
   "source": [
    "print(X_train_g.shape)\n",
    "print(X_test_g.shape)"
   ]
  },
  {
   "cell_type": "code",
   "execution_count": 75,
   "id": "04facc07",
   "metadata": {},
   "outputs": [
    {
     "data": {
      "text/plain": [
       "MultinomialNB(alpha=0.1)"
      ]
     },
     "execution_count": 75,
     "metadata": {},
     "output_type": "execute_result"
    }
   ],
   "source": [
    "### Multinomial Naive Bayes Classifier ###\n",
    "# The alpha parameter was determined by grid search previously\n",
    "from sklearn.naive_bayes import MultinomialNB\n",
    "classifier_g = MultinomialNB(alpha=0.1)\n",
    "classifier_g.fit(X_train_g, y_train_g)"
   ]
  },
  {
   "cell_type": "code",
   "execution_count": 76,
   "id": "f92b6068",
   "metadata": {},
   "outputs": [
    {
     "data": {
      "text/plain": [
       "array([96, 67, 10, ..., 47, 87, 69], dtype=int64)"
      ]
     },
     "execution_count": 76,
     "metadata": {},
     "output_type": "execute_result"
    }
   ],
   "source": [
    "y_pred_g = classifier_g.predict(X_test_g)\n",
    "y_pred_g"
   ]
  },
  {
   "cell_type": "code",
   "execution_count": 77,
   "id": "3495c5fb",
   "metadata": {},
   "outputs": [
    {
     "name": "stdout",
     "output_type": "stream",
     "text": [
      "Confusion matrix\n",
      "\n",
      "Predicted  0   1   2   3   4   5   6   7   8   9   ...  90  91  92  93  94  \\\n",
      "Actual                                             ...                       \n",
      "0          15   0   0   2   0   0   0   0   0   0  ...   0   0   0   0   0   \n",
      "1           0  14   0   0   0   0   0   0   0   0  ...   0   0   0   1   0   \n",
      "2           0   0  26   0   0   0   0   0   0   0  ...   0   0   0   0   0   \n",
      "3           0   0   0  36   0   0   0   0   0   0  ...   0   0   0   0   0   \n",
      "4           0   0   0   0  29   0   0   0   0   0  ...   0   0   0   0   0   \n",
      "...        ..  ..  ..  ..  ..  ..  ..  ..  ..  ..  ...  ..  ..  ..  ..  ..   \n",
      "95          0   0   0   0   0   0   0   0   0   0  ...   0   0   0   0   0   \n",
      "96          0   0   0   0   0   0   0   0   0   0  ...   0   0   4   0   0   \n",
      "97          0   0   0   0   0   0   0   0   1   0  ...   0   0   0   0   0   \n",
      "98          0   0   0   0   0   0   0   0   0   0  ...   0   2   0   0   0   \n",
      "99          0   0   0   0   0   0   0   0   0   0  ...   0   0   0   0   0   \n",
      "\n",
      "Predicted  95  96  97  98  99  \n",
      "Actual                         \n",
      "0           0   0   0   0   1  \n",
      "1           0   0   0   0   0  \n",
      "2           0   0   0   0   0  \n",
      "3           0   0   0   0   0  \n",
      "4           0   0   0   0   0  \n",
      "...        ..  ..  ..  ..  ..  \n",
      "95         28   0   0   0   0  \n",
      "96          0  26   0   0   0  \n",
      "97          0   0  38   0   0  \n",
      "98          0   0   0  30   0  \n",
      "99          0   0   0   0  50  \n",
      "\n",
      "[100 rows x 100 columns]\n",
      "accuracy = 0.869 \n",
      "precision = 0.877 \n",
      "recall = 0.869 \n",
      "f1 = 0.870\n"
     ]
    }
   ],
   "source": [
    "print(\"Confusion matrix\\n\")\n",
    "print(pd.crosstab(pd.Series(y_test_g, name='Actual'), pd.Series(y_pred_g, name='Predicted')))\n",
    "def get_metrics(y_test, y_predicted):\n",
    "    accuracy = accuracy_score(y_test, y_predicted)\n",
    "    precision = precision_score(y_test, y_predicted, average='weighted')\n",
    "    recall = recall_score(y_test, y_predicted, average='weighted')\n",
    "    f1 = f1_score(y_test, y_predicted, average='weighted')\n",
    "    return accuracy, precision, recall, f1\n",
    "accuracy, precision, recall, f1 = get_metrics(y_test_g, y_pred_g)\n",
    "print(\"accuracy = %.3f \\nprecision = %.3f \\nrecall = %.3f \\nf1 = %.3f\" % (accuracy, precision, recall, f1))"
   ]
  },
  {
   "cell_type": "code",
   "execution_count": 78,
   "id": "94844ce7",
   "metadata": {},
   "outputs": [],
   "source": [
    "def predict_g(seq):\n",
    "    if type(seq)== str:\n",
    "        seq = [seq]\n",
    "    return classifier_g.predict(cv.transform(seq))\n",
    "\n",
    "def find_genus(seq):\n",
    "    pred = predict_g(seq)\n",
    "    return [genes[i] for i in pred]"
   ]
  },
  {
   "cell_type": "code",
   "execution_count": 79,
   "id": "687457fe",
   "metadata": {},
   "outputs": [
    {
     "data": {
      "text/plain": [
       "77"
      ]
     },
     "execution_count": 79,
     "metadata": {},
     "output_type": "execute_result"
    }
   ],
   "source": [
    "predict_g(human_texts[3]).item()"
   ]
  },
  {
   "cell_type": "code",
   "execution_count": 80,
   "id": "eca410f7",
   "metadata": {
    "scrolled": true
   },
   "outputs": [
    {
     "data": {
      "text/plain": [
       "['genus_Moritella',\n",
       " 'genus_Sagittula',\n",
       " 'genus_Lucibacterium',\n",
       " 'genus_Rhodobaca',\n",
       " 'genus_Ferrimonas']"
      ]
     },
     "execution_count": 80,
     "metadata": {},
     "output_type": "execute_result"
    }
   ],
   "source": [
    "find_genus(human_texts[0:5])"
   ]
  },
  {
   "cell_type": "markdown",
   "id": "caedeca6",
   "metadata": {},
   "source": [
    "# Test"
   ]
  },
  {
   "cell_type": "code",
   "execution_count": 81,
   "id": "9fe09f46",
   "metadata": {},
   "outputs": [],
   "source": [
    "def predict(seq):\n",
    "    if type(seq) != list:\n",
    "        seq = [seq]\n",
    "\n",
    "    t = pd.DataFrame()\n",
    "    t['sequence'] = [str(i) for i in seq]\n",
    "    t_texts = list(t.apply(lambda x: getKmers(x['sequence']), axis=1))\n",
    "    for item in range(len(t_texts)):\n",
    "        t_texts[item] = ' '.join(t_texts[item])\n",
    "    \n",
    "    class_ = find_class(t_texts)\n",
    "    order = find_order(t_texts)\n",
    "    family = find_family(t_texts)\n",
    "    genus = find_genus(t_texts)\n",
    "    \n",
    "    t['Class'] = class_\n",
    "    t['Order'] = order\n",
    "    t['Family'] = family\n",
    "    t['Genus'] = genus\n",
    "    return t"
   ]
  },
  {
   "cell_type": "code",
   "execution_count": 82,
   "id": "43b35210",
   "metadata": {},
   "outputs": [
    {
     "data": {
      "text/html": [
       "<div>\n",
       "<style scoped>\n",
       "    .dataframe tbody tr th:only-of-type {\n",
       "        vertical-align: middle;\n",
       "    }\n",
       "\n",
       "    .dataframe tbody tr th {\n",
       "        vertical-align: top;\n",
       "    }\n",
       "\n",
       "    .dataframe thead th {\n",
       "        text-align: right;\n",
       "    }\n",
       "</style>\n",
       "<table border=\"1\" class=\"dataframe\">\n",
       "  <thead>\n",
       "    <tr style=\"text-align: right;\">\n",
       "      <th></th>\n",
       "      <th>sequence</th>\n",
       "      <th>Class</th>\n",
       "      <th>Order</th>\n",
       "      <th>Family</th>\n",
       "      <th>Genus</th>\n",
       "    </tr>\n",
       "  </thead>\n",
       "  <tbody>\n",
       "    <tr>\n",
       "      <th>0</th>\n",
       "      <td>GCCCCGGGCTCAACCTGGGAACTGCATTTCGAACTGGCAAACTAGA...</td>\n",
       "      <td>class_Gammaproteobacteria</td>\n",
       "      <td>order_Alteromonadales</td>\n",
       "      <td>familiy_Moritellaceae</td>\n",
       "      <td>genus_Moritella</td>\n",
       "    </tr>\n",
       "    <tr>\n",
       "      <th>1</th>\n",
       "      <td>ACTGCCTCCAAAACTATCAGTCTAGAGTTCGAGAGAGGTGAGTGGA...</td>\n",
       "      <td>class_Alphaproteobacteria</td>\n",
       "      <td>order_Rhodobacterales</td>\n",
       "      <td>familiy_Rhodobacteraceae</td>\n",
       "      <td>genus_Sagittula</td>\n",
       "    </tr>\n",
       "    <tr>\n",
       "      <th>2</th>\n",
       "      <td>TAGCGGCGTCGTTTGACGTTAGCGACAGAAGAAGCACCGGCTAACT...</td>\n",
       "      <td>class_Gammaproteobacteria</td>\n",
       "      <td>order_Vibrionales</td>\n",
       "      <td>familiy_Vibrionaceae</td>\n",
       "      <td>genus_Lucibacterium</td>\n",
       "    </tr>\n",
       "    <tr>\n",
       "      <th>3</th>\n",
       "      <td>CTAGCGTTGTTCGGAATTACTGGGCGTATAGCGCGCGTTAGGCGGA...</td>\n",
       "      <td>class_Alphaproteobacteria</td>\n",
       "      <td>order_Rhodobacterales</td>\n",
       "      <td>familiy_Rhodobacteraceae</td>\n",
       "      <td>genus_Rhodobaca</td>\n",
       "    </tr>\n",
       "    <tr>\n",
       "      <th>4</th>\n",
       "      <td>CATGGCTCAGATTGAACGCTGGCGGCAGGCCTAACACATGCAAGTC...</td>\n",
       "      <td>class_Gammaproteobacteria</td>\n",
       "      <td>order_Alteromonadales</td>\n",
       "      <td>familiy_Ferrimonadaceae</td>\n",
       "      <td>genus_Ferrimonas</td>\n",
       "    </tr>\n",
       "  </tbody>\n",
       "</table>\n",
       "</div>"
      ],
      "text/plain": [
       "                                            sequence  \\\n",
       "0  GCCCCGGGCTCAACCTGGGAACTGCATTTCGAACTGGCAAACTAGA...   \n",
       "1  ACTGCCTCCAAAACTATCAGTCTAGAGTTCGAGAGAGGTGAGTGGA...   \n",
       "2  TAGCGGCGTCGTTTGACGTTAGCGACAGAAGAAGCACCGGCTAACT...   \n",
       "3  CTAGCGTTGTTCGGAATTACTGGGCGTATAGCGCGCGTTAGGCGGA...   \n",
       "4  CATGGCTCAGATTGAACGCTGGCGGCAGGCCTAACACATGCAAGTC...   \n",
       "\n",
       "                       Class                  Order                    Family  \\\n",
       "0  class_Gammaproteobacteria  order_Alteromonadales     familiy_Moritellaceae   \n",
       "1  class_Alphaproteobacteria  order_Rhodobacterales  familiy_Rhodobacteraceae   \n",
       "2  class_Gammaproteobacteria      order_Vibrionales      familiy_Vibrionaceae   \n",
       "3  class_Alphaproteobacteria  order_Rhodobacterales  familiy_Rhodobacteraceae   \n",
       "4  class_Gammaproteobacteria  order_Alteromonadales   familiy_Ferrimonadaceae   \n",
       "\n",
       "                 Genus  \n",
       "0      genus_Moritella  \n",
       "1      genus_Sagittula  \n",
       "2  genus_Lucibacterium  \n",
       "3      genus_Rhodobaca  \n",
       "4     genus_Ferrimonas  "
      ]
     },
     "execution_count": 82,
     "metadata": {},
     "output_type": "execute_result"
    }
   ],
   "source": [
    "predict(sg_reads_seq[0:5])"
   ]
  },
  {
   "cell_type": "code",
   "execution_count": 83,
   "id": "74bfe30b",
   "metadata": {},
   "outputs": [
    {
     "data": {
      "text/html": [
       "<div>\n",
       "<style scoped>\n",
       "    .dataframe tbody tr th:only-of-type {\n",
       "        vertical-align: middle;\n",
       "    }\n",
       "\n",
       "    .dataframe tbody tr th {\n",
       "        vertical-align: top;\n",
       "    }\n",
       "\n",
       "    .dataframe thead th {\n",
       "        text-align: right;\n",
       "    }\n",
       "</style>\n",
       "<table border=\"1\" class=\"dataframe\">\n",
       "  <thead>\n",
       "    <tr style=\"text-align: right;\">\n",
       "      <th></th>\n",
       "      <th>0</th>\n",
       "      <th>1</th>\n",
       "      <th>2</th>\n",
       "      <th>3</th>\n",
       "    </tr>\n",
       "  </thead>\n",
       "  <tbody>\n",
       "    <tr>\n",
       "      <th>0</th>\n",
       "      <td>Gammaproteobacteria</td>\n",
       "      <td>Alteromonadales</td>\n",
       "      <td>Moritellaceae</td>\n",
       "      <td>Moritella</td>\n",
       "    </tr>\n",
       "    <tr>\n",
       "      <th>1</th>\n",
       "      <td>Alphaproteobacteria</td>\n",
       "      <td>Rhodobacterales</td>\n",
       "      <td>Rhodobacteraceae</td>\n",
       "      <td>Sagittula</td>\n",
       "    </tr>\n",
       "    <tr>\n",
       "      <th>2</th>\n",
       "      <td>Gammaproteobacteria</td>\n",
       "      <td>\\\"Vibrionales\\\"</td>\n",
       "      <td>Vibrionaceae</td>\n",
       "      <td>Lucibacterium</td>\n",
       "    </tr>\n",
       "    <tr>\n",
       "      <th>3</th>\n",
       "      <td>Alphaproteobacteria</td>\n",
       "      <td>Rhodobacterales</td>\n",
       "      <td>Rhodobacteraceae</td>\n",
       "      <td>Rhodobaca</td>\n",
       "    </tr>\n",
       "    <tr>\n",
       "      <th>4</th>\n",
       "      <td>Gammaproteobacteria</td>\n",
       "      <td>Alteromonadales</td>\n",
       "      <td>Ferrimonadaceae</td>\n",
       "      <td>Ferrimonas</td>\n",
       "    </tr>\n",
       "  </tbody>\n",
       "</table>\n",
       "</div>"
      ],
      "text/plain": [
       "                     0                1                 2              3\n",
       "0  Gammaproteobacteria  Alteromonadales     Moritellaceae      Moritella\n",
       "1  Alphaproteobacteria  Rhodobacterales  Rhodobacteraceae      Sagittula\n",
       "2  Gammaproteobacteria  \\\"Vibrionales\\\"      Vibrionaceae  Lucibacterium\n",
       "3  Alphaproteobacteria  Rhodobacterales  Rhodobacteraceae      Rhodobaca\n",
       "4  Gammaproteobacteria  Alteromonadales   Ferrimonadaceae     Ferrimonas"
      ]
     },
     "execution_count": 83,
     "metadata": {},
     "output_type": "execute_result"
    }
   ],
   "source": [
    "pd.DataFrame(sg_reads_tax[0:5])"
   ]
  },
  {
   "cell_type": "code",
   "execution_count": 86,
   "id": "0050a551",
   "metadata": {},
   "outputs": [
    {
     "name": "stdout",
     "output_type": "stream",
     "text": [
      "GCCCCGGGCTCAACCTGGGAACTGCATTTCGAACTGGCAAACTAGAGTTCTTGAGAGGGTGGTAGAATTTCAGGTGTAGCGGTGAAATGCGAAGAGATCTGAAGGATTACCAGTGGCGAAGGCGGCCTACCGGCAACTATCCGACTCTCGGATGCGAAAGCGAGGTACCGGACGGGATCCGTTGAGCTGTATTTGCCCGCGGTAAATGGATTCCGCTAGCGGGACTCGGAGAGCCTTAGTGGAACCAC\n"
     ]
    }
   ],
   "source": [
    "print(sg_reads_seq[0])"
   ]
  }
 ],
 "metadata": {
  "kernelspec": {
   "display_name": "Python 3",
   "language": "python",
   "name": "python3"
  },
  "language_info": {
   "codemirror_mode": {
    "name": "ipython",
    "version": 3
   },
   "file_extension": ".py",
   "mimetype": "text/x-python",
   "name": "python",
   "nbconvert_exporter": "python",
   "pygments_lexer": "ipython3",
   "version": "3.8.8"
  }
 },
 "nbformat": 4,
 "nbformat_minor": 5
}
