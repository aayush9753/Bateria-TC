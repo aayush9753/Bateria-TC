{
 "cells": [
  {
   "cell_type": "code",
   "execution_count": 1,
   "id": "68392820",
   "metadata": {},
   "outputs": [
    {
     "data": {
      "text/plain": [
       "device(type='cuda')"
      ]
     },
     "execution_count": 1,
     "metadata": {},
     "output_type": "execute_result"
    }
   ],
   "source": [
    "from Bio import SeqIO\n",
    "from tqdm import tqdm, tqdm_notebook\n",
    "import numpy as np\n",
    "\n",
    "from pathlib import Path\n",
    "\n",
    "import pandas as pd\n",
    "import torch\n",
    "import torch.nn.functional as F\n",
    "import torch.nn as nn\n",
    "import torch.optim as optim\n",
    "from google_drive_downloader import GoogleDriveDownloader as gdd\n",
    "from sklearn.feature_extraction.text import CountVectorizer\n",
    "from torch.nn.utils.rnn import pack_padded_sequence, pad_packed_sequence\n",
    "from torch.utils.data import DataLoader, Dataset\n",
    "from tqdm import tqdm, tqdm_notebook\n",
    "\n",
    "device = torch.device('cuda' if torch.cuda.is_available() else 'cpu')\n",
    "random_state = 4\n",
    "device"
   ]
  },
  {
   "cell_type": "code",
   "execution_count": 2,
   "id": "8eebeaa1",
   "metadata": {},
   "outputs": [
    {
     "data": {
      "text/plain": [
       "(28224, 28224)"
      ]
     },
     "execution_count": 2,
     "metadata": {},
     "output_type": "execute_result"
    }
   ],
   "source": [
    "sg_reads_seq = []\n",
    "sg_reads_tax = []\n",
    "\n",
    "for seq_record in SeqIO.parse('data/16S-SG-reads.fa/16S-reads.fa', \"fasta\"):\n",
    "    sg_reads_seq.append(seq_record.seq)\n",
    "    sg_reads_tax.append(seq_record.description[seq_record.description.find('description=')+12+1:-1].split())\n",
    "    \n",
    "len(sg_reads_seq), len(sg_reads_tax)"
   ]
  },
  {
   "cell_type": "code",
   "execution_count": 3,
   "id": "8ba596bc",
   "metadata": {},
   "outputs": [
    {
     "data": {
      "text/plain": [
       "Bio.Seq.Seq"
      ]
     },
     "execution_count": 3,
     "metadata": {},
     "output_type": "execute_result"
    }
   ],
   "source": [
    "type(sg_reads_seq[0])"
   ]
  },
  {
   "cell_type": "code",
   "execution_count": 4,
   "id": "c064795b",
   "metadata": {},
   "outputs": [
    {
     "name": "stdout",
     "output_type": "stream",
     "text": [
      "GCCCCGGGCTCAACCTGGGAACTGCATTTCGAACTGGCAAACTAGAGTTCTTGAGAGGGTGGTAGAATTTCAGGTGTAGCGGTGAAATGCGAAGAGATCTGAAGGATTACCAGTGGCGAAGGCGGCCTACCGGCAACTATCCGACTCTCGGATGCGAAAGCGAGGTACCGGACGGGATCCGTTGAGCTGTATTTGCCCGCGGTAAATGGATTCCGCTAGCGGGACTCGGAGAGCCTTAGTGGAACCAC\n"
     ]
    }
   ],
   "source": [
    "print(sg_reads_seq[0])"
   ]
  },
  {
   "cell_type": "code",
   "execution_count": 5,
   "id": "1c54caa4",
   "metadata": {},
   "outputs": [
    {
     "name": "stdout",
     "output_type": "stream",
     "text": [
      "['Gammaproteobacteria', 'Alteromonadales', 'Moritellaceae', 'Moritella']\n"
     ]
    }
   ],
   "source": [
    "print(sg_reads_tax[0])"
   ]
  },
  {
   "cell_type": "code",
   "execution_count": 6,
   "id": "0059b2d8",
   "metadata": {},
   "outputs": [],
   "source": [
    "tax = [\"Class\", \"Order\", \"Family\", \"Genus\"]"
   ]
  },
  {
   "cell_type": "code",
   "execution_count": 7,
   "id": "f2627015",
   "metadata": {},
   "outputs": [],
   "source": [
    "sg = pd.DataFrame()\n",
    "for i in range(4):\n",
    "    col = []\n",
    "    for j in sg_reads_tax:\n",
    "        if (len(j))==3:\n",
    "            j.append('Simiduia')\n",
    "        col.append(j[i])\n",
    "    sg[tax[i]] = col"
   ]
  },
  {
   "cell_type": "code",
   "execution_count": 8,
   "id": "64de788c",
   "metadata": {},
   "outputs": [
    {
     "data": {
      "text/html": [
       "<div>\n",
       "<style scoped>\n",
       "    .dataframe tbody tr th:only-of-type {\n",
       "        vertical-align: middle;\n",
       "    }\n",
       "\n",
       "    .dataframe tbody tr th {\n",
       "        vertical-align: top;\n",
       "    }\n",
       "\n",
       "    .dataframe thead th {\n",
       "        text-align: right;\n",
       "    }\n",
       "</style>\n",
       "<table border=\"1\" class=\"dataframe\">\n",
       "  <thead>\n",
       "    <tr style=\"text-align: right;\">\n",
       "      <th></th>\n",
       "      <th>Class</th>\n",
       "      <th>Order</th>\n",
       "      <th>Family</th>\n",
       "      <th>Genus</th>\n",
       "    </tr>\n",
       "  </thead>\n",
       "  <tbody>\n",
       "    <tr>\n",
       "      <th>0</th>\n",
       "      <td>Gammaproteobacteria</td>\n",
       "      <td>Alteromonadales</td>\n",
       "      <td>Moritellaceae</td>\n",
       "      <td>Moritella</td>\n",
       "    </tr>\n",
       "    <tr>\n",
       "      <th>1</th>\n",
       "      <td>Alphaproteobacteria</td>\n",
       "      <td>Rhodobacterales</td>\n",
       "      <td>Rhodobacteraceae</td>\n",
       "      <td>Sagittula</td>\n",
       "    </tr>\n",
       "    <tr>\n",
       "      <th>2</th>\n",
       "      <td>Gammaproteobacteria</td>\n",
       "      <td>\\\"Vibrionales\\\"</td>\n",
       "      <td>Vibrionaceae</td>\n",
       "      <td>Lucibacterium</td>\n",
       "    </tr>\n",
       "    <tr>\n",
       "      <th>3</th>\n",
       "      <td>Alphaproteobacteria</td>\n",
       "      <td>Rhodobacterales</td>\n",
       "      <td>Rhodobacteraceae</td>\n",
       "      <td>Rhodobaca</td>\n",
       "    </tr>\n",
       "    <tr>\n",
       "      <th>4</th>\n",
       "      <td>Gammaproteobacteria</td>\n",
       "      <td>Alteromonadales</td>\n",
       "      <td>Ferrimonadaceae</td>\n",
       "      <td>Ferrimonas</td>\n",
       "    </tr>\n",
       "  </tbody>\n",
       "</table>\n",
       "</div>"
      ],
      "text/plain": [
       "                 Class            Order            Family          Genus\n",
       "0  Gammaproteobacteria  Alteromonadales     Moritellaceae      Moritella\n",
       "1  Alphaproteobacteria  Rhodobacterales  Rhodobacteraceae      Sagittula\n",
       "2  Gammaproteobacteria  \\\"Vibrionales\\\"      Vibrionaceae  Lucibacterium\n",
       "3  Alphaproteobacteria  Rhodobacterales  Rhodobacteraceae      Rhodobaca\n",
       "4  Gammaproteobacteria  Alteromonadales   Ferrimonadaceae     Ferrimonas"
      ]
     },
     "execution_count": 8,
     "metadata": {},
     "output_type": "execute_result"
    }
   ],
   "source": [
    "sg.head()"
   ]
  },
  {
   "cell_type": "markdown",
   "id": "93acb38e",
   "metadata": {},
   "source": [
    "# Word Vectors using  Bag of Words model"
   ]
  },
  {
   "cell_type": "code",
   "execution_count": 9,
   "id": "c201d72f",
   "metadata": {},
   "outputs": [],
   "source": [
    "human = pd.DataFrame()\n",
    "human['sequence'] = [str(i) for i in sg_reads_seq]"
   ]
  },
  {
   "cell_type": "code",
   "execution_count": 10,
   "id": "bfb57015",
   "metadata": {
    "scrolled": true
   },
   "outputs": [
    {
     "data": {
      "text/html": [
       "<div>\n",
       "<style scoped>\n",
       "    .dataframe tbody tr th:only-of-type {\n",
       "        vertical-align: middle;\n",
       "    }\n",
       "\n",
       "    .dataframe tbody tr th {\n",
       "        vertical-align: top;\n",
       "    }\n",
       "\n",
       "    .dataframe thead th {\n",
       "        text-align: right;\n",
       "    }\n",
       "</style>\n",
       "<table border=\"1\" class=\"dataframe\">\n",
       "  <thead>\n",
       "    <tr style=\"text-align: right;\">\n",
       "      <th></th>\n",
       "      <th>sequence</th>\n",
       "    </tr>\n",
       "  </thead>\n",
       "  <tbody>\n",
       "    <tr>\n",
       "      <th>0</th>\n",
       "      <td>GCCCCGGGCTCAACCTGGGAACTGCATTTCGAACTGGCAAACTAGA...</td>\n",
       "    </tr>\n",
       "    <tr>\n",
       "      <th>1</th>\n",
       "      <td>ACTGCCTCCAAAACTATCAGTCTAGAGTTCGAGAGAGGTGAGTGGA...</td>\n",
       "    </tr>\n",
       "    <tr>\n",
       "      <th>2</th>\n",
       "      <td>TAGCGGCGTCGTTTGACGTTAGCGACAGAAGAAGCACCGGCTAACT...</td>\n",
       "    </tr>\n",
       "    <tr>\n",
       "      <th>3</th>\n",
       "      <td>CTAGCGTTGTTCGGAATTACTGGGCGTATAGCGCGCGTTAGGCGGA...</td>\n",
       "    </tr>\n",
       "    <tr>\n",
       "      <th>4</th>\n",
       "      <td>CATGGCTCAGATTGAACGCTGGCGGCAGGCCTAACACATGCAAGTC...</td>\n",
       "    </tr>\n",
       "  </tbody>\n",
       "</table>\n",
       "</div>"
      ],
      "text/plain": [
       "                                            sequence\n",
       "0  GCCCCGGGCTCAACCTGGGAACTGCATTTCGAACTGGCAAACTAGA...\n",
       "1  ACTGCCTCCAAAACTATCAGTCTAGAGTTCGAGAGAGGTGAGTGGA...\n",
       "2  TAGCGGCGTCGTTTGACGTTAGCGACAGAAGAAGCACCGGCTAACT...\n",
       "3  CTAGCGTTGTTCGGAATTACTGGGCGTATAGCGCGCGTTAGGCGGA...\n",
       "4  CATGGCTCAGATTGAACGCTGGCGGCAGGCCTAACACATGCAAGTC..."
      ]
     },
     "execution_count": 10,
     "metadata": {},
     "output_type": "execute_result"
    }
   ],
   "source": [
    "human.head()"
   ]
  },
  {
   "cell_type": "code",
   "execution_count": 11,
   "id": "d5123e09",
   "metadata": {},
   "outputs": [],
   "source": [
    "# function to convert sequence strings into k-mer words, default size = 6 (hexamer words)\n",
    "def getKmers(sequence, size=6):\n",
    "    return [sequence[x:x+size].lower() for x in range(len(sequence) - size + 1)]"
   ]
  },
  {
   "cell_type": "code",
   "execution_count": 12,
   "id": "0a488986",
   "metadata": {},
   "outputs": [],
   "source": [
    "human['words'] = human.apply(lambda x: getKmers(x['sequence'], size=11), axis=1) # default size = 6\n",
    "human = human.drop('sequence', axis=1)"
   ]
  },
  {
   "cell_type": "code",
   "execution_count": 13,
   "id": "fb663ca7",
   "metadata": {},
   "outputs": [
    {
     "data": {
      "text/html": [
       "<div>\n",
       "<style scoped>\n",
       "    .dataframe tbody tr th:only-of-type {\n",
       "        vertical-align: middle;\n",
       "    }\n",
       "\n",
       "    .dataframe tbody tr th {\n",
       "        vertical-align: top;\n",
       "    }\n",
       "\n",
       "    .dataframe thead th {\n",
       "        text-align: right;\n",
       "    }\n",
       "</style>\n",
       "<table border=\"1\" class=\"dataframe\">\n",
       "  <thead>\n",
       "    <tr style=\"text-align: right;\">\n",
       "      <th></th>\n",
       "      <th>words</th>\n",
       "    </tr>\n",
       "  </thead>\n",
       "  <tbody>\n",
       "    <tr>\n",
       "      <th>0</th>\n",
       "      <td>[gccccgggctc, ccccgggctca, cccgggctcaa, ccgggc...</td>\n",
       "    </tr>\n",
       "    <tr>\n",
       "      <th>1</th>\n",
       "      <td>[actgcctccaa, ctgcctccaaa, tgcctccaaaa, gcctcc...</td>\n",
       "    </tr>\n",
       "    <tr>\n",
       "      <th>2</th>\n",
       "      <td>[tagcggcgtcg, agcggcgtcgt, gcggcgtcgtt, cggcgt...</td>\n",
       "    </tr>\n",
       "    <tr>\n",
       "      <th>3</th>\n",
       "      <td>[ctagcgttgtt, tagcgttgttc, agcgttgttcg, gcgttg...</td>\n",
       "    </tr>\n",
       "    <tr>\n",
       "      <th>4</th>\n",
       "      <td>[catggctcaga, atggctcagat, tggctcagatt, ggctca...</td>\n",
       "    </tr>\n",
       "  </tbody>\n",
       "</table>\n",
       "</div>"
      ],
      "text/plain": [
       "                                               words\n",
       "0  [gccccgggctc, ccccgggctca, cccgggctcaa, ccgggc...\n",
       "1  [actgcctccaa, ctgcctccaaa, tgcctccaaaa, gcctcc...\n",
       "2  [tagcggcgtcg, agcggcgtcgt, gcggcgtcgtt, cggcgt...\n",
       "3  [ctagcgttgtt, tagcgttgttc, agcgttgttcg, gcgttg...\n",
       "4  [catggctcaga, atggctcagat, tggctcagatt, ggctca..."
      ]
     },
     "execution_count": 13,
     "metadata": {},
     "output_type": "execute_result"
    }
   ],
   "source": [
    "human.head()"
   ]
  },
  {
   "cell_type": "code",
   "execution_count": 14,
   "id": "a0121660",
   "metadata": {},
   "outputs": [
    {
     "name": "stdout",
     "output_type": "stream",
     "text": [
      "gccccgggctc ccccgggctca cccgggctcaa ccgggctcaac cgggctcaacc gggctcaacct ggctcaacctg gctcaacctgg ctcaacctggg tcaacctggga caacctgggaa aacctgggaac acctgggaact cctgggaactg ctgggaactgc tgggaactgca gggaactgcat ggaactgcatt gaactgcattt aactgcatttc actgcatttcg ctgcatttcga tgcatttcgaa gcatttcgaac catttcgaact atttcgaactg tttcgaactgg ttcgaactggc tcgaactggca cgaactggcaa gaactggcaaa aactggcaaac actggcaaact ctggcaaacta tggcaaactag ggcaaactaga gcaaactagag caaactagagt aaactagagtt aactagagttc actagagttct ctagagttctt tagagttcttg agagttcttga gagttcttgag agttcttgaga gttcttgagag ttcttgagagg tcttgagaggg cttgagagggt ttgagagggtg tgagagggtgg gagagggtggt agagggtggta gagggtggtag agggtggtaga gggtggtagaa ggtggtagaat gtggtagaatt tggtagaattt ggtagaatttc gtagaatttca tagaatttcag agaatttcagg gaatttcaggt aatttcaggtg atttcaggtgt tttcaggtgta ttcaggtgtag tcaggtgtagc caggtgtagcg aggtgtagcgg ggtgtagcggt gtgtagcggtg tgtagcggtga gtagcggtgaa tagcggtgaaa agcggtgaaat gcggtgaaatg cggtgaaatgc ggtgaaatgcg gtgaaatgcga tgaaatgcgaa gaaatgcgaag aaatgcgaaga aatgcgaagag atgcgaagaga tgcgaagagat gcgaagagatc cgaagagatct gaagagatctg aagagatctga agagatctgaa gagatctgaag agatctgaagg gatctgaagga atctgaaggat tctgaaggatt ctgaaggatta tgaaggattac gaaggattacc aaggattacca aggattaccag ggattaccagt gattaccagtg attaccagtgg ttaccagtggc taccagtggcg accagtggcga ccagtggcgaa cagtggcgaag agtggcgaagg gtggcgaaggc tggcgaaggcg ggcgaaggcgg gcgaaggcggc cgaaggcggcc gaaggcggcct aaggcggccta aggcggcctac ggcggcctacc gcggcctaccg cggcctaccgg ggcctaccggc gcctaccggca cctaccggcaa ctaccggcaac taccggcaact accggcaacta ccggcaactat cggcaactatc ggcaactatcc gcaactatccg caactatccga aactatccgac actatccgact ctatccgactc tatccgactct atccgactctc tccgactctcg ccgactctcgg cgactctcgga gactctcggat actctcggatg ctctcggatgc tctcggatgcg ctcggatgcga tcggatgcgaa cggatgcgaaa ggatgcgaaag gatgcgaaagc atgcgaaagcg tgcgaaagcga gcgaaagcgag cgaaagcgagg gaaagcgaggt aaagcgaggta aagcgaggtac agcgaggtacc gcgaggtaccg cgaggtaccgg gaggtaccgga aggtaccggac ggtaccggacg gtaccggacgg taccggacggg accggacggga ccggacgggat cggacgggatc ggacgggatcc gacgggatccg acgggatccgt cgggatccgtt gggatccgttg ggatccgttga gatccgttgag atccgttgagc tccgttgagct ccgttgagctg cgttgagctgt gttgagctgta ttgagctgtat tgagctgtatt gagctgtattt agctgtatttg gctgtatttgc ctgtatttgcc tgtatttgccc gtatttgcccg tatttgcccgc atttgcccgcg tttgcccgcgg ttgcccgcggt tgcccgcggta gcccgcggtaa cccgcggtaaa ccgcggtaaat cgcggtaaatg gcggtaaatgg cggtaaatgga ggtaaatggat gtaaatggatt taaatggattc aaatggattcc aatggattccg atggattccgc tggattccgct ggattccgcta gattccgctag attccgctagc ttccgctagcg tccgctagcgg ccgctagcggg cgctagcggga gctagcgggac ctagcgggact tagcgggactc agcgggactcg gcgggactcgg cgggactcgga gggactcggag ggactcggaga gactcggagag actcggagagc ctcggagagcc tcggagagcct cggagagcctt ggagagcctta gagagccttag agagccttagt gagccttagtg agccttagtgg gccttagtgga ccttagtggaa cttagtggaac ttagtggaacc tagtggaacca agtggaaccac\n"
     ]
    }
   ],
   "source": [
    "human_texts = list(human['words'])\n",
    "for item in range(len(human_texts)):\n",
    "    human_texts[item] = ' '.join(human_texts[item])\n",
    "print(human_texts[0])"
   ]
  },
  {
   "cell_type": "code",
   "execution_count": 15,
   "id": "1c01142e",
   "metadata": {},
   "outputs": [],
   "source": [
    "# Creating the Bag of Words model using CountVectorizer()\n",
    "# This is equivalent to k-mer counting\n",
    "# The n-gram size of 4 was previously determined by testing\n",
    "from sklearn.feature_extraction.text import CountVectorizer\n",
    "cv = CountVectorizer(ngram_range=(1,4)) # initial : (4, 4)\n",
    "X = cv.fit_transform(human_texts)"
   ]
  },
  {
   "cell_type": "code",
   "execution_count": 17,
   "id": "01cfedb4",
   "metadata": {},
   "outputs": [
    {
     "data": {
      "text/plain": [
       "(28224, 11386484)"
      ]
     },
     "execution_count": 17,
     "metadata": {},
     "output_type": "execute_result"
    }
   ],
   "source": [
    "X.shape"
   ]
  },
  {
   "cell_type": "code",
   "execution_count": 16,
   "id": "c21221ed",
   "metadata": {},
   "outputs": [
    {
     "data": {
      "text/plain": [
       "{'gccccgggctc': 6635508,\n",
       " 'ccccgggctca': 3749443,\n",
       " 'cccgggctcaa': 3790631,\n",
       " 'ccgggctcaac': 3961284,\n",
       " 'cgggctcaacc': 4667272,\n",
       " 'gggctcaacct': 7703298,\n",
       " 'ggctcaacctg': 7551955,\n",
       " 'gctcaacctgg': 7017458,\n",
       " 'ctcaacctggg': 5084694,\n",
       " 'tcaacctggga': 9441159,\n",
       " 'caacctgggaa': 2925693,\n",
       " 'aacctgggaac': 258618,\n",
       " 'acctgggaact': 1055488,\n",
       " 'cctgggaactg': 4120235,\n",
       " 'ctgggaactgc': 5346011,\n",
       " 'tgggaactgca': 10510079,\n",
       " 'gggaactgcat': 7597327,\n",
       " 'ggaactgcatt': 7173812,\n",
       " 'gaactgcattt': 5662227,\n",
       " 'aactgcatttc': 339480,\n",
       " 'actgcatttcg': 1351922,\n",
       " 'ctgcatttcga': 5286499,\n",
       " 'tgcatttcgaa': 10269441,\n",
       " 'gcatttcgaac': 6570166,\n",
       " 'catttcgaact': 3528042,\n",
       " 'atttcgaactg': 2843188,\n",
       " 'tttcgaactgg': 11306176,\n",
       " 'ttcgaactggc': 11011021,\n",
       " 'tcgaactggca': 9726665,\n",
       " 'cgaactggcaa': 4204631,\n",
       " 'gaactggcaaa': 5663721,\n",
       " 'aactggcaaac': 343770,\n",
       " 'actggcaaact': 1366018,\n",
       " 'ctggcaaacta': 5333336,\n",
       " 'tggcaaactag': 10456987,\n",
       " 'ggcaaactaga': 7380517,\n",
       " 'gcaaactagag': 6379885,\n",
       " 'caaactagagt': 2881861,\n",
       " 'aaactagagtt': 75536,\n",
       " 'aactagagttc': 316515,\n",
       " 'actagagttct': 1277185,\n",
       " 'ctagagttctt': 5014260,\n",
       " 'tagagttcttg': 9156949,\n",
       " 'agagttcttga': 1573135,\n",
       " 'gagttcttgag': 6179599,\n",
       " 'agttcttgaga': 2206194,\n",
       " 'gttcttgagag': 8692059,\n",
       " 'ttcttgagagg': 11078953,\n",
       " 'tcttgagaggg': 10012567,\n",
       " 'cttgagagggt': 5495481,\n",
       " 'ttgagagggtg': 11107113,\n",
       " 'tgagagggtgg': 10138644,\n",
       " 'gagagggtggt': 6002222,\n",
       " 'agagggtggta': 1558110,\n",
       " 'gagggtggtag': 6119069,\n",
       " 'agggtggtaga': 1988508,\n",
       " 'gggtggtagaa': 7822988,\n",
       " 'ggtggtagaat': 7985193,\n",
       " 'gtggtagaatt': 8555391,\n",
       " 'tggtagaattt': 10581624,\n",
       " 'ggtagaatttc': 7870238,\n",
       " 'gtagaatttca': 8148078,\n",
       " 'tagaatttcag': 9133390,\n",
       " 'agaatttcagg': 1473545,\n",
       " 'gaatttcaggt': 5779489,\n",
       " 'aatttcaggtg': 737717,\n",
       " 'atttcaggtgt': 2840442,\n",
       " 'tttcaggtgta': 11296510,\n",
       " 'ttcaggtgtag': 10967697,\n",
       " 'tcaggtgtagc': 9533519,\n",
       " 'caggtgtagcg': 3338555,\n",
       " 'aggtgtagcgg': 2029431,\n",
       " 'ggtgtagcggt': 7991050,\n",
       " 'gtgtagcggtg': 8574857,\n",
       " 'tgtagcggtga': 10651760,\n",
       " 'gtagcggtgaa': 8167337,\n",
       " 'tagcggtgaaa': 9197721,\n",
       " 'agcggtgaaat': 1764351,\n",
       " 'gcggtgaaatg': 6908293,\n",
       " 'cggtgaaatgc': 4722602,\n",
       " 'ggtgaaatgcg': 7939216,\n",
       " 'gtgaaatgcga': 8404279,\n",
       " 'tgaaatgcgaa': 10040686,\n",
       " 'gaaatgcgaag': 5615544,\n",
       " 'aaatgcgaaga': 163628,\n",
       " 'aatgcgaagag': 672505,\n",
       " 'atgcgaagaga': 2600414,\n",
       " 'tgcgaagagat': 10318017,\n",
       " 'gcgaagagatc': 6768151,\n",
       " 'cgaagagatct': 4207786,\n",
       " 'gaagagatctg': 5677622,\n",
       " 'aagagatctga': 386163,\n",
       " 'agagatctgaa': 1531383,\n",
       " 'gagatctgaag': 6012965,\n",
       " 'agatctgaagg': 1595918,\n",
       " 'gatctgaagga': 6268851,\n",
       " 'atctgaaggat': 2512924,\n",
       " 'tctgaaggatt': 9959555,\n",
       " 'ctgaaggatta': 5233983,\n",
       " 'tgaaggattac': 10060049,\n",
       " 'gaaggattacc': 5702189,\n",
       " 'aaggattacca': 476929,\n",
       " 'aggattaccag': 1879777,\n",
       " 'ggattaccagt': 7365365,\n",
       " 'gattaccagtg': 6334399,\n",
       " 'attaccagtgg': 2727524,\n",
       " 'ttaccagtggc': 10842880,\n",
       " 'taccagtggcg': 9009064,\n",
       " 'accagtggcga': 935847,\n",
       " 'ccagtggcgaa': 3652312,\n",
       " 'cagtggcgaag': 3369851,\n",
       " 'agtggcgaagg': 2164461,\n",
       " 'gtggcgaaggc': 8527552,\n",
       " 'tggcgaaggcg': 10482101,\n",
       " 'ggcgaaggcgg': 7483310,\n",
       " 'gcgaaggcggc': 6770703,\n",
       " 'cgaaggcggcc': 4215165,\n",
       " 'gaaggcggcct': 5706409,\n",
       " 'aaggcggccta': 488987,\n",
       " 'aggcggcctac': 1917418,\n",
       " 'ggcggcctacc': 7515128,\n",
       " 'gcggcctaccg': 6880939,\n",
       " 'cggcctaccgg': 4615405,\n",
       " 'ggcctaccggc': 7467969,\n",
       " 'gcctaccggca': 6717619,\n",
       " 'cctaccggcaa': 4035026,\n",
       " 'ctaccggcaac': 4982881,\n",
       " 'taccggcaact': 9027754,\n",
       " 'accggcaacta': 1012258,\n",
       " 'ccggcaactat': 3943794,\n",
       " 'cggcaactatc': 4595319,\n",
       " 'ggcaactatcc': 7385421,\n",
       " 'gcaactatccg': 6399454,\n",
       " 'caactatccga': 2940429,\n",
       " 'aactatccgac': 319406,\n",
       " 'actatccgact': 1288174,\n",
       " 'ctatccgactc': 5060294,\n",
       " 'tatccgactct': 9343160,\n",
       " 'atccgactctc': 2436879,\n",
       " 'tccgactctcg': 9652842,\n",
       " 'ccgactctcgg': 3864338,\n",
       " 'cgactctcgga': 4264369,\n",
       " 'gactctcggat': 5938605,\n",
       " 'actctcggatg': 1330488,\n",
       " 'ctctcggatgc': 5206959,\n",
       " 'tctcggatgcg': 9947021,\n",
       " 'ctcggatgcga': 5175659,\n",
       " 'tcggatgcgaa': 9815905,\n",
       " 'cggatgcgaaa': 4587500,\n",
       " 'ggatgcgaaag': 7354937,\n",
       " 'gatgcgaaagc': 6296534,\n",
       " 'atgcgaaagcg': 2599982,\n",
       " 'tgcgaaagcga': 10316304,\n",
       " 'gcgaaagcgag': 6761956,\n",
       " 'cgaaagcgagg': 4190555,\n",
       " 'gaaagcgaggt': 5598221,\n",
       " 'aaagcgaggta': 106835,\n",
       " 'aagcgaggtac': 437941,\n",
       " 'agcgaggtacc': 1735505,\n",
       " 'gcgaggtaccg': 6798771,\n",
       " 'cgaggtaccgg': 4303951,\n",
       " 'gaggtaccgga': 6122022,\n",
       " 'aggtaccggac': 1997856,\n",
       " 'ggtaccggacg': 7862693,\n",
       " 'gtaccggacgg': 8121018,\n",
       " 'taccggacggg': 9027096,\n",
       " 'accggacggga': 1009881,\n",
       " 'ccggacgggat': 3935210,\n",
       " 'cggacgggatc': 4560869,\n",
       " 'ggacgggatcc': 7242438,\n",
       " 'gacgggatccg': 5899492,\n",
       " 'acgggatccgt': 1188937,\n",
       " 'cgggatccgtt': 4654966,\n",
       " 'gggatccgttg': 7646795,\n",
       " 'ggatccgttga': 7341710,\n",
       " 'gatccgttgag': 6251413,\n",
       " 'atccgttgagc': 2445492,\n",
       " 'tccgttgagct': 9686783,\n",
       " 'ccgttgagctg': 4016852,\n",
       " 'cgttgagctgt': 4905574,\n",
       " 'gttgagctgta': 8700384,\n",
       " 'ttgagctgtat': 11110527,\n",
       " 'tgagctgtatt': 10154759,\n",
       " 'gagctgtattt': 6069448,\n",
       " 'agctgtatttg': 1815834,\n",
       " 'gctgtatttgc': 7097751,\n",
       " 'ctgtatttgcc': 5384504,\n",
       " 'tgtatttgccc': 10665470,\n",
       " 'gtatttgcccg': 8231739,\n",
       " 'tatttgcccgc': 9423982,\n",
       " 'atttgcccgcg': 2850769,\n",
       " 'tttgcccgcgg': 11334302,\n",
       " 'ttgcccgcggt': 11140480,\n",
       " 'tgcccgcggta': 10288122,\n",
       " 'gcccgcggtaa': 6644241,\n",
       " 'cccgcggtaaa': 3779074,\n",
       " 'ccgcggtaaat': 3916394,\n",
       " 'cgcggtaaatg': 4482485,\n",
       " 'gcggtaaatgg': 6901800,\n",
       " 'cggtaaatgga': 4699360,\n",
       " 'ggtaaatggat': 7845954,\n",
       " 'gtaaatggatt': 8066451,\n",
       " 'taaatggattc': 8827440,\n",
       " 'aaatggattcc': 165955,\n",
       " 'aatggattccg': 681687,\n",
       " 'atggattccgc': 2632602,\n",
       " 'tggattccgct': 10454539,\n",
       " 'ggattccgcta': 7369987,\n",
       " 'gattccgctag': 6346911,\n",
       " 'attccgctagc': 2766708,\n",
       " 'ttccgctagcg': 10997565,\n",
       " 'tccgctagcgg': 9665410,\n",
       " 'ccgctagcggg': 3923180,\n",
       " 'cgctagcggga': 4505928,\n",
       " 'gctagcgggac': 6998504,\n",
       " 'ctagcgggact': 5024012,\n",
       " 'tagcgggactc': 9196648,\n",
       " 'agcgggactcg': 1759268,\n",
       " 'gcgggactcgg': 6889720,\n",
       " 'cgggactcgga': 4648357,\n",
       " 'gggactcggag': 7619896,\n",
       " 'ggactcggaga': 7251954,\n",
       " 'gactcggagag': 5936508,\n",
       " 'actcggagagc': 1321352,\n",
       " 'ctcggagagcc': 5174700,\n",
       " 'tcggagagcct': 9810834,\n",
       " 'cggagagcctt': 4567468,\n",
       " 'ggagagcctta': 7269691,\n",
       " 'gagagccttag': 5996698,\n",
       " 'agagccttagt': 1539951,\n",
       " 'gagccttagtg': 6046359,\n",
       " 'agccttagtgg': 1724376,\n",
       " 'gccttagtgga': 6748942,\n",
       " 'ccttagtggaa': 4147892,\n",
       " 'cttagtggaac': 5445143,\n",
       " 'ttagtggaacc': 10909313,\n",
       " 'tagtggaacca': 9285719,\n",
       " 'agtggaaccac': 2158937,\n",
       " 'gccccgggctc ccccgggctca': 6635509,\n",
       " 'ccccgggctca cccgggctcaa': 3749444,\n",
       " 'cccgggctcaa ccgggctcaac': 3790637,\n",
       " 'ccgggctcaac cgggctcaacc': 3961292,\n",
       " 'cgggctcaacc gggctcaacct': 4667301,\n",
       " 'gggctcaacct ggctcaacctg': 7703316,\n",
       " 'ggctcaacctg gctcaacctgg': 7551970,\n",
       " 'gctcaacctgg ctcaacctggg': 7017471,\n",
       " 'ctcaacctggg tcaacctggga': 5084695,\n",
       " 'tcaacctggga caacctgggaa': 9441160,\n",
       " 'caacctgggaa aacctgggaac': 2925700,\n",
       " 'aacctgggaac acctgggaact': 258644,\n",
       " 'acctgggaact cctgggaactg': 1055501,\n",
       " 'cctgggaactg ctgggaactgc': 4120244,\n",
       " 'ctgggaactgc tgggaactgca': 5346012,\n",
       " 'tgggaactgca gggaactgcat': 10510106,\n",
       " 'gggaactgcat ggaactgcatt': 7597350,\n",
       " 'ggaactgcatt gaactgcattt': 7173834,\n",
       " 'gaactgcattt aactgcatttc': 5662234,\n",
       " 'aactgcatttc actgcatttcg': 339491,\n",
       " 'actgcatttcg ctgcatttcga': 1351923,\n",
       " 'ctgcatttcga tgcatttcgaa': 5286500,\n",
       " 'tgcatttcgaa gcatttcgaac': 10269445,\n",
       " 'gcatttcgaac catttcgaact': 6570167,\n",
       " 'catttcgaact atttcgaactg': 3528043,\n",
       " 'atttcgaactg tttcgaactgg': 2843192,\n",
       " 'tttcgaactgg ttcgaactggc': 11306177,\n",
       " 'ttcgaactggc tcgaactggca': 11011022,\n",
       " 'tcgaactggca cgaactggcaa': 9726666,\n",
       " 'cgaactggcaa gaactggcaaa': 4204632,\n",
       " 'gaactggcaaa aactggcaaac': 5663725,\n",
       " 'aactggcaaac actggcaaact': 343774,\n",
       " 'actggcaaact ctggcaaacta': 1366019,\n",
       " 'ctggcaaacta tggcaaactag': 5333337,\n",
       " 'tggcaaactag ggcaaactaga': 10456988,\n",
       " 'ggcaaactaga gcaaactagag': 7380518,\n",
       " 'gcaaactagag caaactagagt': 6379889,\n",
       " 'caaactagagt aaactagagtt': 2881876,\n",
       " 'aaactagagtt aactagagttc': 75537,\n",
       " 'aactagagttc actagagttct': 316522,\n",
       " 'actagagttct ctagagttctt': 1277186,\n",
       " 'ctagagttctt tagagttcttg': 5014261,\n",
       " 'tagagttcttg agagttcttga': 9156950,\n",
       " 'agagttcttga gagttcttgag': 1573139,\n",
       " 'gagttcttgag agttcttgaga': 6179600,\n",
       " 'agttcttgaga gttcttgagag': 2206198,\n",
       " 'gttcttgagag ttcttgagagg': 8692066,\n",
       " 'ttcttgagagg tcttgagaggg': 11078957,\n",
       " 'tcttgagaggg cttgagagggt': 10012576,\n",
       " 'cttgagagggt ttgagagggtg': 5495485,\n",
       " 'ttgagagggtg tgagagggtgg': 11107117,\n",
       " 'tgagagggtgg gagagggtggt': 10138658,\n",
       " 'gagagggtggt agagggtggta': 6002223,\n",
       " 'agagggtggta gagggtggtag': 1558120,\n",
       " 'gagggtggtag agggtggtaga': 6119070,\n",
       " 'agggtggtaga gggtggtagaa': 1988509,\n",
       " 'gggtggtagaa ggtggtagaat': 7823000,\n",
       " 'ggtggtagaat gtggtagaatt': 7985202,\n",
       " 'gtggtagaatt tggtagaattt': 8555403,\n",
       " 'tggtagaattt ggtagaatttc': 10581628,\n",
       " 'ggtagaatttc gtagaatttca': 7870239,\n",
       " 'gtagaatttca tagaatttcag': 8148087,\n",
       " 'tagaatttcag agaatttcagg': 9133398,\n",
       " 'agaatttcagg gaatttcaggt': 1473565,\n",
       " 'gaatttcaggt aatttcaggtg': 5779498,\n",
       " 'aatttcaggtg atttcaggtgt': 737729,\n",
       " 'atttcaggtgt tttcaggtgta': 2840443,\n",
       " 'tttcaggtgta ttcaggtgtag': 11296522,\n",
       " 'ttcaggtgtag tcaggtgtagc': 10967698,\n",
       " 'tcaggtgtagc caggtgtagcg': 9533523,\n",
       " 'caggtgtagcg aggtgtagcgg': 3338568,\n",
       " 'aggtgtagcgg ggtgtagcggt': 2029445,\n",
       " 'ggtgtagcggt gtgtagcggtg': 7991061,\n",
       " 'gtgtagcggtg tgtagcggtga': 8574858,\n",
       " 'tgtagcggtga gtagcggtgaa': 10651761,\n",
       " 'gtagcggtgaa tagcggtgaaa': 8167338,\n",
       " 'tagcggtgaaa agcggtgaaat': 9197749,\n",
       " 'agcggtgaaat gcggtgaaatg': 1764369,\n",
       " 'gcggtgaaatg cggtgaaatgc': 6908297,\n",
       " 'cggtgaaatgc ggtgaaatgcg': 4722617,\n",
       " 'ggtgaaatgcg gtgaaatgcga': 7939217,\n",
       " 'gtgaaatgcga tgaaatgcgaa': 8404280,\n",
       " 'tgaaatgcgaa gaaatgcgaag': 10040694,\n",
       " 'gaaatgcgaag aaatgcgaaga': 5615545,\n",
       " 'aaatgcgaaga aatgcgaagag': 163640,\n",
       " 'aatgcgaagag atgcgaagaga': 672506,\n",
       " 'atgcgaagaga tgcgaagagat': 2600423,\n",
       " 'tgcgaagagat gcgaagagatc': 10318018,\n",
       " 'gcgaagagatc cgaagagatct': 6768159,\n",
       " 'cgaagagatct gaagagatctg': 4207793,\n",
       " 'gaagagatctg aagagatctga': 5677623,\n",
       " 'aagagatctga agagatctgaa': 386164,\n",
       " 'agagatctgaa gagatctgaag': 1531391,\n",
       " 'gagatctgaag agatctgaagg': 6012975,\n",
       " 'agatctgaagg gatctgaagga': 1595919,\n",
       " 'gatctgaagga atctgaaggat': 6268873,\n",
       " 'atctgaaggat tctgaaggatt': 2512931,\n",
       " 'tctgaaggatt ctgaaggatta': 9959556,\n",
       " 'ctgaaggatta tgaaggattac': 5233984,\n",
       " 'tgaaggattac gaaggattacc': 10060050,\n",
       " 'gaaggattacc aaggattacca': 5702190,\n",
       " 'aaggattacca aggattaccag': 476935,\n",
       " 'aggattaccag ggattaccagt': 1879785,\n",
       " 'ggattaccagt gattaccagtg': 7365369,\n",
       " 'gattaccagtg attaccagtgg': 6334403,\n",
       " 'attaccagtgg ttaccagtggc': 2727525,\n",
       " 'ttaccagtggc taccagtggcg': 10842881,\n",
       " 'taccagtggcg accagtggcga': 9009065,\n",
       " 'accagtggcga ccagtggcgaa': 935848,\n",
       " 'ccagtggcgaa cagtggcgaag': 3652330,\n",
       " 'cagtggcgaag agtggcgaagg': 3369876,\n",
       " 'agtggcgaagg gtggcgaaggc': 2164472,\n",
       " 'gtggcgaaggc tggcgaaggcg': 8527576,\n",
       " 'tggcgaaggcg ggcgaaggcgg': 10482133,\n",
       " 'ggcgaaggcgg gcgaaggcggc': 7483323,\n",
       " 'gcgaaggcggc cgaaggcggcc': 6770721,\n",
       " 'cgaaggcggcc gaaggcggcct': 4215205,\n",
       " 'gaaggcggcct aaggcggccta': 5706410,\n",
       " 'aaggcggccta aggcggcctac': 488988,\n",
       " 'aggcggcctac ggcggcctacc': 1917419,\n",
       " 'ggcggcctacc gcggcctaccg': 7515129,\n",
       " 'gcggcctaccg cggcctaccgg': 6880940,\n",
       " 'cggcctaccgg ggcctaccggc': 4615406,\n",
       " 'ggcctaccggc gcctaccggca': 7467970,\n",
       " 'gcctaccggca cctaccggcaa': 6717620,\n",
       " 'cctaccggcaa ctaccggcaac': 4035027,\n",
       " 'ctaccggcaac taccggcaact': 4982882,\n",
       " 'taccggcaact accggcaacta': 9027755,\n",
       " 'accggcaacta ccggcaactat': 1012259,\n",
       " 'ccggcaactat cggcaactatc': 3943795,\n",
       " 'cggcaactatc ggcaactatcc': 4595320,\n",
       " 'ggcaactatcc gcaactatccg': 7385427,\n",
       " 'gcaactatccg caactatccga': 6399455,\n",
       " 'caactatccga aactatccgac': 2940430,\n",
       " 'aactatccgac actatccgact': 319407,\n",
       " 'actatccgact ctatccgactc': 1288175,\n",
       " 'ctatccgactc tatccgactct': 5060295,\n",
       " 'tatccgactct atccgactctc': 9343161,\n",
       " 'atccgactctc tccgactctcg': 2436883,\n",
       " 'tccgactctcg ccgactctcgg': 9652843,\n",
       " 'ccgactctcgg cgactctcgga': 3864339,\n",
       " 'cgactctcgga gactctcggat': 4264373,\n",
       " 'gactctcggat actctcggatg': 5938606,\n",
       " 'actctcggatg ctctcggatgc': 1330489,\n",
       " 'ctctcggatgc tctcggatgcg': 5206960,\n",
       " 'tctcggatgcg ctcggatgcga': 9947022,\n",
       " 'ctcggatgcga tcggatgcgaa': 5175660,\n",
       " 'tcggatgcgaa cggatgcgaaa': 9815906,\n",
       " 'cggatgcgaaa ggatgcgaaag': 4587501,\n",
       " 'ggatgcgaaag gatgcgaaagc': 7354938,\n",
       " 'gatgcgaaagc atgcgaaagcg': 6296541,\n",
       " 'atgcgaaagcg tgcgaaagcga': 2599983,\n",
       " 'tgcgaaagcga gcgaaagcgag': 10316308,\n",
       " 'gcgaaagcgag cgaaagcgagg': 6761962,\n",
       " 'cgaaagcgagg gaaagcgaggt': 4190571,\n",
       " 'gaaagcgaggt aaagcgaggta': 5598222,\n",
       " 'aaagcgaggta aagcgaggtac': 106836,\n",
       " 'aagcgaggtac agcgaggtacc': 437942,\n",
       " 'agcgaggtacc gcgaggtaccg': 1735509,\n",
       " 'gcgaggtaccg cgaggtaccgg': 6798772,\n",
       " 'cgaggtaccgg gaggtaccgga': 4303952,\n",
       " 'gaggtaccgga aggtaccggac': 6122023,\n",
       " 'aggtaccggac ggtaccggacg': 1997860,\n",
       " 'ggtaccggacg gtaccggacgg': 7862697,\n",
       " 'gtaccggacgg taccggacggg': 8121019,\n",
       " 'taccggacggg accggacggga': 9027097,\n",
       " 'accggacggga ccggacgggat': 1009882,\n",
       " 'ccggacgggat cggacgggatc': 3935211,\n",
       " 'cggacgggatc ggacgggatcc': 4560870,\n",
       " 'ggacgggatcc gacgggatccg': 7242439,\n",
       " 'gacgggatccg acgggatccgt': 5899499,\n",
       " 'acgggatccgt cgggatccgtt': 1188938,\n",
       " 'cgggatccgtt gggatccgttg': 4654967,\n",
       " 'gggatccgttg ggatccgttga': 7646796,\n",
       " 'ggatccgttga gatccgttgag': 7341711,\n",
       " 'gatccgttgag atccgttgagc': 6251417,\n",
       " 'atccgttgagc tccgttgagct': 2445493,\n",
       " 'tccgttgagct ccgttgagctg': 9686787,\n",
       " 'ccgttgagctg cgttgagctgt': 4016860,\n",
       " 'cgttgagctgt gttgagctgta': 4905575,\n",
       " 'gttgagctgta ttgagctgtat': 8700385,\n",
       " 'ttgagctgtat tgagctgtatt': 11110528,\n",
       " 'tgagctgtatt gagctgtattt': 10154760,\n",
       " 'gagctgtattt agctgtatttg': 6069449,\n",
       " 'agctgtatttg gctgtatttgc': 1815835,\n",
       " 'gctgtatttgc ctgtatttgcc': 7097752,\n",
       " 'ctgtatttgcc tgtatttgccc': 5384506,\n",
       " 'tgtatttgccc gtatttgcccg': 10665471,\n",
       " 'gtatttgcccg tatttgcccgc': 8231740,\n",
       " 'tatttgcccgc atttgcccgcg': 9423988,\n",
       " 'atttgcccgcg tttgcccgcgg': 2850770,\n",
       " 'tttgcccgcgg ttgcccgcggt': 11334306,\n",
       " 'ttgcccgcggt tgcccgcggta': 11140481,\n",
       " 'tgcccgcggta gcccgcggtaa': 10288123,\n",
       " 'gcccgcggtaa cccgcggtaaa': 6644242,\n",
       " 'cccgcggtaaa ccgcggtaaat': 3779081,\n",
       " 'ccgcggtaaat cgcggtaaatg': 3916404,\n",
       " 'cgcggtaaatg gcggtaaatgg': 4482486,\n",
       " 'gcggtaaatgg cggtaaatgga': 6901801,\n",
       " 'cggtaaatgga ggtaaatggat': 4699361,\n",
       " 'ggtaaatggat gtaaatggatt': 7845955,\n",
       " 'gtaaatggatt taaatggattc': 8066455,\n",
       " 'taaatggattc aaatggattcc': 8827441,\n",
       " 'aaatggattcc aatggattccg': 165956,\n",
       " 'aatggattccg atggattccgc': 681688,\n",
       " 'atggattccgc tggattccgct': 2632603,\n",
       " 'tggattccgct ggattccgcta': 10454540,\n",
       " 'ggattccgcta gattccgctag': 7369988,\n",
       " 'gattccgctag attccgctagc': 6346912,\n",
       " 'attccgctagc ttccgctagcg': 2766709,\n",
       " 'ttccgctagcg tccgctagcgg': 10997566,\n",
       " 'tccgctagcgg ccgctagcggg': 9665411,\n",
       " 'ccgctagcggg cgctagcggga': 3923181,\n",
       " 'cgctagcggga gctagcgggac': 4505929,\n",
       " 'gctagcgggac ctagcgggact': 6998505,\n",
       " 'ctagcgggact tagcgggactc': 5024013,\n",
       " 'tagcgggactc agcgggactcg': 9196649,\n",
       " 'agcgggactcg gcgggactcgg': 1759272,\n",
       " 'gcgggactcgg cgggactcgga': 6889721,\n",
       " 'cgggactcgga gggactcggag': 4648358,\n",
       " 'gggactcggag ggactcggaga': 7619897,\n",
       " 'ggactcggaga gactcggagag': 7251960,\n",
       " 'gactcggagag actcggagagc': 5936509,\n",
       " 'actcggagagc ctcggagagcc': 1321353,\n",
       " 'ctcggagagcc tcggagagcct': 5174701,\n",
       " 'tcggagagcct cggagagcctt': 9810835,\n",
       " 'cggagagcctt ggagagcctta': 4567469,\n",
       " 'ggagagcctta gagagccttag': 7269692,\n",
       " 'gagagccttag agagccttagt': 5996704,\n",
       " 'agagccttagt gagccttagtg': 1539952,\n",
       " 'gagccttagtg agccttagtgg': 6046366,\n",
       " 'agccttagtgg gccttagtgga': 1724377,\n",
       " 'gccttagtgga ccttagtggaa': 6748943,\n",
       " 'ccttagtggaa cttagtggaac': 4147893,\n",
       " 'cttagtggaac ttagtggaacc': 5445144,\n",
       " 'ttagtggaacc tagtggaacca': 10909314,\n",
       " 'tagtggaacca agtggaaccac': 9285720,\n",
       " 'gccccgggctc ccccgggctca cccgggctcaa': 6635510,\n",
       " 'ccccgggctca cccgggctcaa ccgggctcaac': 3749447,\n",
       " 'cccgggctcaa ccgggctcaac cgggctcaacc': 3790642,\n",
       " 'ccgggctcaac cgggctcaacc gggctcaacct': 3961304,\n",
       " 'cgggctcaacc gggctcaacct ggctcaacctg': 4667306,\n",
       " 'gggctcaacct ggctcaacctg gctcaacctgg': 7703323,\n",
       " 'ggctcaacctg gctcaacctgg ctcaacctggg': 7551977,\n",
       " 'gctcaacctgg ctcaacctggg tcaacctggga': 7017472,\n",
       " 'ctcaacctggg tcaacctggga caacctgggaa': 5084696,\n",
       " 'tcaacctggga caacctgggaa aacctgggaac': 9441164,\n",
       " 'caacctgggaa aacctgggaac acctgggaact': 2925709,\n",
       " 'aacctgggaac acctgggaact cctgggaactg': 258651,\n",
       " 'acctgggaact cctgggaactg ctgggaactgc': 1055506,\n",
       " 'cctgggaactg ctgggaactgc tgggaactgca': 4120245,\n",
       " 'ctgggaactgc tgggaactgca gggaactgcat': 5346022,\n",
       " 'tgggaactgca gggaactgcat ggaactgcatt': 10510116,\n",
       " 'gggaactgcat ggaactgcatt gaactgcattt': 7597362,\n",
       " 'ggaactgcatt gaactgcattt aactgcatttc': 7173838,\n",
       " 'gaactgcattt aactgcatttc actgcatttcg': 5662241,\n",
       " 'aactgcatttc actgcatttcg ctgcatttcga': 339492,\n",
       " 'actgcatttcg ctgcatttcga tgcatttcgaa': 1351924,\n",
       " 'ctgcatttcga tgcatttcgaa gcatttcgaac': 5286503,\n",
       " 'tgcatttcgaa gcatttcgaac catttcgaact': 10269446,\n",
       " 'gcatttcgaac catttcgaact atttcgaactg': 6570168,\n",
       " 'catttcgaact atttcgaactg tttcgaactgg': 3528046,\n",
       " 'atttcgaactg tttcgaactgg ttcgaactggc': 2843193,\n",
       " 'tttcgaactgg ttcgaactggc tcgaactggca': 11306178,\n",
       " 'ttcgaactggc tcgaactggca cgaactggcaa': 11011023,\n",
       " 'tcgaactggca cgaactggcaa gaactggcaaa': 9726667,\n",
       " 'cgaactggcaa gaactggcaaa aactggcaaac': 4204633,\n",
       " 'gaactggcaaa aactggcaaac actggcaaact': 5663728,\n",
       " 'aactggcaaac actggcaaact ctggcaaacta': 343775,\n",
       " 'actggcaaact ctggcaaacta tggcaaactag': 1366020,\n",
       " 'ctggcaaacta tggcaaactag ggcaaactaga': 5333338,\n",
       " 'tggcaaactag ggcaaactaga gcaaactagag': 10456989,\n",
       " 'ggcaaactaga gcaaactagag caaactagagt': 7380521,\n",
       " 'gcaaactagag caaactagagt aaactagagtt': 6379897,\n",
       " 'caaactagagt aaactagagtt aactagagttc': 2881877,\n",
       " 'aaactagagtt aactagagttc actagagttct': 75540,\n",
       " 'aactagagttc actagagttct ctagagttctt': 316523,\n",
       " 'actagagttct ctagagttctt tagagttcttg': 1277187,\n",
       " 'ctagagttctt tagagttcttg agagttcttga': 5014262,\n",
       " 'tagagttcttg agagttcttga gagttcttgag': 9156953,\n",
       " 'agagttcttga gagttcttgag agttcttgaga': 1573140,\n",
       " 'gagttcttgag agttcttgaga gttcttgagag': 6179601,\n",
       " 'agttcttgaga gttcttgagag ttcttgagagg': 2206203,\n",
       " 'gttcttgagag ttcttgagagg tcttgagaggg': 8692069,\n",
       " 'ttcttgagagg tcttgagaggg cttgagagggt': 11078960,\n",
       " 'tcttgagaggg cttgagagggt ttgagagggtg': 10012579,\n",
       " 'cttgagagggt ttgagagggtg tgagagggtgg': 5495486,\n",
       " 'ttgagagggtg tgagagggtgg gagagggtggt': 11107118,\n",
       " 'tgagagggtgg gagagggtggt agagggtggta': 10138659,\n",
       " 'gagagggtggt agagggtggta gagggtggtag': 6002226,\n",
       " 'agagggtggta gagggtggtag agggtggtaga': 1558121,\n",
       " 'gagggtggtag agggtggtaga gggtggtagaa': 6119071,\n",
       " 'agggtggtaga gggtggtagaa ggtggtagaat': 1988517,\n",
       " 'gggtggtagaa ggtggtagaat gtggtagaatt': 7823005,\n",
       " 'ggtggtagaat gtggtagaatt tggtagaattt': 7985208,\n",
       " 'gtggtagaatt tggtagaattt ggtagaatttc': 8555406,\n",
       " 'tggtagaattt ggtagaatttc gtagaatttca': 10581629,\n",
       " 'ggtagaatttc gtagaatttca tagaatttcag': 7870244,\n",
       " 'gtagaatttca tagaatttcag agaatttcagg': 8148092,\n",
       " 'tagaatttcag agaatttcagg gaatttcaggt': 9133409,\n",
       " 'agaatttcagg gaatttcaggt aatttcaggtg': 1473571,\n",
       " 'gaatttcaggt aatttcaggtg atttcaggtgt': 5779506,\n",
       " 'aatttcaggtg atttcaggtgt tttcaggtgta': 737730,\n",
       " 'atttcaggtgt tttcaggtgta ttcaggtgtag': 2840449,\n",
       " 'tttcaggtgta ttcaggtgtag tcaggtgtagc': 11296523,\n",
       " 'ttcaggtgtag tcaggtgtagc caggtgtagcg': 10967701,\n",
       " 'tcaggtgtagc caggtgtagcg aggtgtagcgg': 9533529,\n",
       " 'caggtgtagcg aggtgtagcgg ggtgtagcggt': 3338576,\n",
       " 'aggtgtagcgg ggtgtagcggt gtgtagcggtg': 2029450,\n",
       " 'ggtgtagcggt gtgtagcggtg tgtagcggtga': 7991062,\n",
       " 'gtgtagcggtg tgtagcggtga gtagcggtgaa': 8574859,\n",
       " 'tgtagcggtga gtagcggtgaa tagcggtgaaa': 10651762,\n",
       " 'gtagcggtgaa tagcggtgaaa agcggtgaaat': 8167350,\n",
       " 'tagcggtgaaa agcggtgaaat gcggtgaaatg': 9197757,\n",
       " 'agcggtgaaat gcggtgaaatg cggtgaaatgc': 1764372,\n",
       " 'gcggtgaaatg cggtgaaatgc ggtgaaatgcg': 6908304,\n",
       " 'cggtgaaatgc ggtgaaatgcg gtgaaatgcga': 4722618,\n",
       " 'ggtgaaatgcg gtgaaatgcga tgaaatgcgaa': 7939218,\n",
       " 'gtgaaatgcga tgaaatgcgaa gaaatgcgaag': 8404284,\n",
       " 'tgaaatgcgaa gaaatgcgaag aaatgcgaaga': 10040695,\n",
       " 'gaaatgcgaag aaatgcgaaga aatgcgaagag': 5615552,\n",
       " 'aaatgcgaaga aatgcgaagag atgcgaagaga': 163641,\n",
       " 'aatgcgaagag atgcgaagaga tgcgaagagat': 672511,\n",
       " 'atgcgaagaga tgcgaagagat gcgaagagatc': 2600424,\n",
       " 'tgcgaagagat gcgaagagatc cgaagagatct': 10318023,\n",
       " 'gcgaagagatc cgaagagatct gaagagatctg': 6768162,\n",
       " 'cgaagagatct gaagagatctg aagagatctga': 4207794,\n",
       " 'gaagagatctg aagagatctga agagatctgaa': 5677624,\n",
       " 'aagagatctga agagatctgaa gagatctgaag': 386165,\n",
       " 'agagatctgaa gagatctgaag agatctgaagg': 1531397,\n",
       " 'gagatctgaag agatctgaagg gatctgaagga': 6012976,\n",
       " 'agatctgaagg gatctgaagga atctgaaggat': 1595929,\n",
       " 'gatctgaagga atctgaaggat tctgaaggatt': 6268878,\n",
       " 'atctgaaggat tctgaaggatt ctgaaggatta': 2512932,\n",
       " 'tctgaaggatt ctgaaggatta tgaaggattac': 9959557,\n",
       " 'ctgaaggatta tgaaggattac gaaggattacc': 5233985,\n",
       " 'tgaaggattac gaaggattacc aaggattacca': 10060051,\n",
       " 'gaaggattacc aaggattacca aggattaccag': 5702193,\n",
       " 'aaggattacca aggattaccag ggattaccagt': 476938,\n",
       " 'aggattaccag ggattaccagt gattaccagtg': 1879788,\n",
       " 'ggattaccagt gattaccagtg attaccagtgg': 7365372,\n",
       " 'gattaccagtg attaccagtgg ttaccagtggc': 6334404,\n",
       " 'attaccagtgg ttaccagtggc taccagtggcg': 2727526,\n",
       " 'ttaccagtggc taccagtggcg accagtggcga': 10842882,\n",
       " 'taccagtggcg accagtggcga ccagtggcgaa': 9009066,\n",
       " 'accagtggcga ccagtggcgaa cagtggcgaag': 935857,\n",
       " 'ccagtggcgaa cagtggcgaag agtggcgaagg': 3652339,\n",
       " 'cagtggcgaag agtggcgaagg gtggcgaaggc': 3369881,\n",
       " 'agtggcgaagg gtggcgaaggc tggcgaaggcg': 2164482,\n",
       " 'gtggcgaaggc tggcgaaggcg ggcgaaggcgg': 8527586,\n",
       " 'tggcgaaggcg ggcgaaggcgg gcgaaggcggc': 10482138,\n",
       " 'ggcgaaggcgg gcgaaggcggc cgaaggcggcc': 7483329,\n",
       " 'gcgaaggcggc cgaaggcggcc gaaggcggcct': 6770736,\n",
       " 'cgaaggcggcc gaaggcggcct aaggcggccta': 4215206,\n",
       " 'gaaggcggcct aaggcggccta aggcggcctac': 5706411,\n",
       " 'aaggcggccta aggcggcctac ggcggcctacc': 488989,\n",
       " 'aggcggcctac ggcggcctacc gcggcctaccg': 1917420,\n",
       " 'ggcggcctacc gcggcctaccg cggcctaccgg': 7515130,\n",
       " 'gcggcctaccg cggcctaccgg ggcctaccggc': 6880941,\n",
       " 'cggcctaccgg ggcctaccggc gcctaccggca': 4615407,\n",
       " 'ggcctaccggc gcctaccggca cctaccggcaa': 7467971,\n",
       " 'gcctaccggca cctaccggcaa ctaccggcaac': 6717621,\n",
       " 'cctaccggcaa ctaccggcaac taccggcaact': 4035028,\n",
       " 'ctaccggcaac taccggcaact accggcaacta': 4982883,\n",
       " 'taccggcaact accggcaacta ccggcaactat': 9027756,\n",
       " 'accggcaacta ccggcaactat cggcaactatc': 1012260,\n",
       " 'ccggcaactat cggcaactatc ggcaactatcc': 3943796,\n",
       " 'cggcaactatc ggcaactatcc gcaactatccg': 4595321,\n",
       " 'ggcaactatcc gcaactatccg caactatccga': 7385428,\n",
       " 'gcaactatccg caactatccga aactatccgac': 6399456,\n",
       " 'caactatccga aactatccgac actatccgact': 2940431,\n",
       " 'aactatccgac actatccgact ctatccgactc': 319408,\n",
       " 'actatccgact ctatccgactc tatccgactct': 1288176,\n",
       " 'ctatccgactc tatccgactct atccgactctc': 5060296,\n",
       " 'tatccgactct atccgactctc tccgactctcg': 9343162,\n",
       " 'atccgactctc tccgactctcg ccgactctcgg': 2436884,\n",
       " 'tccgactctcg ccgactctcgg cgactctcgga': 9652844,\n",
       " 'ccgactctcgg cgactctcgga gactctcggat': 3864340,\n",
       " 'cgactctcgga gactctcggat actctcggatg': 4264374,\n",
       " 'gactctcggat actctcggatg ctctcggatgc': 5938607,\n",
       " 'actctcggatg ctctcggatgc tctcggatgcg': 1330490,\n",
       " 'ctctcggatgc tctcggatgcg ctcggatgcga': 5206961,\n",
       " 'tctcggatgcg ctcggatgcga tcggatgcgaa': 9947023,\n",
       " 'ctcggatgcga tcggatgcgaa cggatgcgaaa': 5175661,\n",
       " 'tcggatgcgaa cggatgcgaaa ggatgcgaaag': 9815907,\n",
       " 'cggatgcgaaa ggatgcgaaag gatgcgaaagc': 4587502,\n",
       " 'ggatgcgaaag gatgcgaaagc atgcgaaagcg': 7354939,\n",
       " 'gatgcgaaagc atgcgaaagcg tgcgaaagcga': 6296542,\n",
       " 'atgcgaaagcg tgcgaaagcga gcgaaagcgag': 2599986,\n",
       " 'tgcgaaagcga gcgaaagcgag cgaaagcgagg': 10316311,\n",
       " 'gcgaaagcgag cgaaagcgagg gaaagcgaggt': 6761969,\n",
       " 'cgaaagcgagg gaaagcgaggt aaagcgaggta': 4190572,\n",
       " 'gaaagcgaggt aaagcgaggta aagcgaggtac': 5598223,\n",
       " 'aaagcgaggta aagcgaggtac agcgaggtacc': 106837,\n",
       " 'aagcgaggtac agcgaggtacc gcgaggtaccg': 437945,\n",
       " 'agcgaggtacc gcgaggtaccg cgaggtaccgg': 1735510,\n",
       " 'gcgaggtaccg cgaggtaccgg gaggtaccgga': 6798773,\n",
       " 'cgaggtaccgg gaggtaccgga aggtaccggac': 4303953,\n",
       " 'gaggtaccgga aggtaccggac ggtaccggacg': 6122026,\n",
       " 'aggtaccggac ggtaccggacg gtaccggacgg': 1997861,\n",
       " 'ggtaccggacg gtaccggacgg taccggacggg': 7862698,\n",
       " 'gtaccggacgg taccggacggg accggacggga': 8121020,\n",
       " 'taccggacggg accggacggga ccggacgggat': 9027098,\n",
       " 'accggacggga ccggacgggat cggacgggatc': 1009883,\n",
       " 'ccggacgggat cggacgggatc ggacgggatcc': 3935212,\n",
       " 'cggacgggatc ggacgggatcc gacgggatccg': 4560871,\n",
       " 'ggacgggatcc gacgggatccg acgggatccgt': 7242440,\n",
       " 'gacgggatccg acgggatccgt cgggatccgtt': 5899500,\n",
       " 'acgggatccgt cgggatccgtt gggatccgttg': 1188939,\n",
       " 'cgggatccgtt gggatccgttg ggatccgttga': 4654968,\n",
       " 'gggatccgttg ggatccgttga gatccgttgag': 7646797,\n",
       " 'ggatccgttga gatccgttgag atccgttgagc': 7341712,\n",
       " 'gatccgttgag atccgttgagc tccgttgagct': 6251418,\n",
       " 'atccgttgagc tccgttgagct ccgttgagctg': 2445496,\n",
       " 'tccgttgagct ccgttgagctg cgttgagctgt': 9686788,\n",
       " 'ccgttgagctg cgttgagctgt gttgagctgta': 4016861,\n",
       " 'cgttgagctgt gttgagctgta ttgagctgtat': 4905576,\n",
       " 'gttgagctgta ttgagctgtat tgagctgtatt': 8700386,\n",
       " 'ttgagctgtat tgagctgtatt gagctgtattt': 11110529,\n",
       " 'tgagctgtatt gagctgtattt agctgtatttg': 10154761,\n",
       " 'gagctgtattt agctgtatttg gctgtatttgc': 6069450,\n",
       " 'agctgtatttg gctgtatttgc ctgtatttgcc': 1815836,\n",
       " 'gctgtatttgc ctgtatttgcc tgtatttgccc': 7097753,\n",
       " 'ctgtatttgcc tgtatttgccc gtatttgcccg': 5384507,\n",
       " 'tgtatttgccc gtatttgcccg tatttgcccgc': 10665472,\n",
       " 'gtatttgcccg tatttgcccgc atttgcccgcg': 8231741,\n",
       " 'tatttgcccgc atttgcccgcg tttgcccgcgg': 9423989,\n",
       " 'atttgcccgcg tttgcccgcgg ttgcccgcggt': 2850771,\n",
       " 'tttgcccgcgg ttgcccgcggt tgcccgcggta': 11334307,\n",
       " 'ttgcccgcggt tgcccgcggta gcccgcggtaa': 11140482,\n",
       " 'tgcccgcggta gcccgcggtaa cccgcggtaaa': 10288124,\n",
       " 'gcccgcggtaa cccgcggtaaa ccgcggtaaat': 6644245,\n",
       " 'cccgcggtaaa ccgcggtaaat cgcggtaaatg': 3779082,\n",
       " 'ccgcggtaaat cgcggtaaatg gcggtaaatgg': 3916405,\n",
       " 'cgcggtaaatg gcggtaaatgg cggtaaatgga': 4482487,\n",
       " 'gcggtaaatgg cggtaaatgga ggtaaatggat': 6901802,\n",
       " 'cggtaaatgga ggtaaatggat gtaaatggatt': 4699362,\n",
       " 'ggtaaatggat gtaaatggatt taaatggattc': 7845956,\n",
       " 'gtaaatggatt taaatggattc aaatggattcc': 8066456,\n",
       " 'taaatggattc aaatggattcc aatggattccg': 8827442,\n",
       " 'aaatggattcc aatggattccg atggattccgc': 165957,\n",
       " 'aatggattccg atggattccgc tggattccgct': 681689,\n",
       " 'atggattccgc tggattccgct ggattccgcta': 2632604,\n",
       " 'tggattccgct ggattccgcta gattccgctag': 10454541,\n",
       " 'ggattccgcta gattccgctag attccgctagc': 7369989,\n",
       " 'gattccgctag attccgctagc ttccgctagcg': 6346913,\n",
       " 'attccgctagc ttccgctagcg tccgctagcgg': 2766710,\n",
       " 'ttccgctagcg tccgctagcgg ccgctagcggg': 10997567,\n",
       " 'tccgctagcgg ccgctagcggg cgctagcggga': 9665412,\n",
       " 'ccgctagcggg cgctagcggga gctagcgggac': 3923182,\n",
       " 'cgctagcggga gctagcgggac ctagcgggact': 4505930,\n",
       " 'gctagcgggac ctagcgggact tagcgggactc': 6998506,\n",
       " 'ctagcgggact tagcgggactc agcgggactcg': 5024014,\n",
       " 'tagcgggactc agcgggactcg gcgggactcgg': 9196650,\n",
       " 'agcgggactcg gcgggactcgg cgggactcgga': 1759273,\n",
       " 'gcgggactcgg cgggactcgga gggactcggag': 6889722,\n",
       " 'cgggactcgga gggactcggag ggactcggaga': 4648359,\n",
       " 'gggactcggag ggactcggaga gactcggagag': 7619900,\n",
       " 'ggactcggaga gactcggagag actcggagagc': 7251961,\n",
       " 'gactcggagag actcggagagc ctcggagagcc': 5936510,\n",
       " 'actcggagagc ctcggagagcc tcggagagcct': 1321354,\n",
       " 'ctcggagagcc tcggagagcct cggagagcctt': 5174702,\n",
       " 'tcggagagcct cggagagcctt ggagagcctta': 9810836,\n",
       " 'cggagagcctt ggagagcctta gagagccttag': 4567470,\n",
       " 'ggagagcctta gagagccttag agagccttagt': 7269693,\n",
       " 'gagagccttag agagccttagt gagccttagtg': 5996705,\n",
       " 'agagccttagt gagccttagtg agccttagtgg': 1539957,\n",
       " 'gagccttagtg agccttagtgg gccttagtgga': 6046367,\n",
       " 'agccttagtgg gccttagtgga ccttagtggaa': 1724378,\n",
       " 'gccttagtgga ccttagtggaa cttagtggaac': 6748944,\n",
       " 'ccttagtggaa cttagtggaac ttagtggaacc': 4147894,\n",
       " 'cttagtggaac ttagtggaacc tagtggaacca': 5445145,\n",
       " 'ttagtggaacc tagtggaacca agtggaaccac': 10909315,\n",
       " 'gccccgggctc ccccgggctca cccgggctcaa ccgggctcaac': 6635512,\n",
       " 'ccccgggctca cccgggctcaa ccgggctcaac cgggctcaacc': 3749449,\n",
       " 'cccgggctcaa ccgggctcaac cgggctcaacc gggctcaacct': 3790646,\n",
       " 'ccgggctcaac cgggctcaacc gggctcaacct ggctcaacctg': 3961307,\n",
       " 'cgggctcaacc gggctcaacct ggctcaacctg gctcaacctgg': 4667309,\n",
       " 'gggctcaacct ggctcaacctg gctcaacctgg ctcaacctggg': 7703326,\n",
       " 'ggctcaacctg gctcaacctgg ctcaacctggg tcaacctggga': 7551978,\n",
       " 'gctcaacctgg ctcaacctggg tcaacctggga caacctgggaa': 7017473,\n",
       " 'ctcaacctggg tcaacctggga caacctgggaa aacctgggaac': 5084698,\n",
       " 'tcaacctggga caacctgggaa aacctgggaac acctgggaact': 9441168,\n",
       " 'caacctgggaa aacctgggaac acctgggaact cctgggaactg': 2925710,\n",
       " 'aacctgggaac acctgggaact cctgggaactg ctgggaactgc': 258653,\n",
       " 'acctgggaact cctgggaactg ctgggaactgc tgggaactgca': 1055507,\n",
       " 'cctgggaactg ctgggaactgc tgggaactgca gggaactgcat': 4120249,\n",
       " 'ctgggaactgc tgggaactgca gggaactgcat ggaactgcatt': 5346026,\n",
       " 'tgggaactgca gggaactgcat ggaactgcatt gaactgcattt': 10510120,\n",
       " 'gggaactgcat ggaactgcatt gaactgcattt aactgcatttc': 7597364,\n",
       " 'ggaactgcatt gaactgcattt aactgcatttc actgcatttcg': 7173841,\n",
       " 'gaactgcattt aactgcatttc actgcatttcg ctgcatttcga': 5662242,\n",
       " 'aactgcatttc actgcatttcg ctgcatttcga tgcatttcgaa': 339493,\n",
       " 'actgcatttcg ctgcatttcga tgcatttcgaa gcatttcgaac': 1351926,\n",
       " 'ctgcatttcga tgcatttcgaa gcatttcgaac catttcgaact': 5286504,\n",
       " 'tgcatttcgaa gcatttcgaac catttcgaact atttcgaactg': 10269447,\n",
       " 'gcatttcgaac catttcgaact atttcgaactg tttcgaactgg': 6570170,\n",
       " 'catttcgaact atttcgaactg tttcgaactgg ttcgaactggc': 3528047,\n",
       " 'atttcgaactg tttcgaactgg ttcgaactggc tcgaactggca': 2843194,\n",
       " 'tttcgaactgg ttcgaactggc tcgaactggca cgaactggcaa': 11306179,\n",
       " 'ttcgaactggc tcgaactggca cgaactggcaa gaactggcaaa': 11011024,\n",
       " 'tcgaactggca cgaactggcaa gaactggcaaa aactggcaaac': 9726668,\n",
       " 'cgaactggcaa gaactggcaaa aactggcaaac actggcaaact': 4204634,\n",
       " 'gaactggcaaa aactggcaaac actggcaaact ctggcaaacta': 5663729,\n",
       " 'aactggcaaac actggcaaact ctggcaaacta tggcaaactag': 343776,\n",
       " 'actggcaaact ctggcaaacta tggcaaactag ggcaaactaga': 1366021,\n",
       " 'ctggcaaacta tggcaaactag ggcaaactaga gcaaactagag': 5333339,\n",
       " 'tggcaaactag ggcaaactaga gcaaactagag caaactagagt': 10456991,\n",
       " 'ggcaaactaga gcaaactagag caaactagagt aaactagagtt': 7380525,\n",
       " 'gcaaactagag caaactagagt aaactagagtt aactagagttc': 6379898,\n",
       " 'caaactagagt aaactagagtt aactagagttc actagagttct': 2881879,\n",
       " 'aaactagagtt aactagagttc actagagttct ctagagttctt': 75541,\n",
       " 'aactagagttc actagagttct ctagagttctt tagagttcttg': 316524,\n",
       " 'actagagttct ctagagttctt tagagttcttg agagttcttga': 1277188,\n",
       " 'ctagagttctt tagagttcttg agagttcttga gagttcttgag': 5014264,\n",
       " 'tagagttcttg agagttcttga gagttcttgag agttcttgaga': 9156954,\n",
       " 'agagttcttga gagttcttgag agttcttgaga gttcttgagag': 1573141,\n",
       " 'gagttcttgag agttcttgaga gttcttgagag ttcttgagagg': 6179604,\n",
       " 'agttcttgaga gttcttgagag ttcttgagagg tcttgagaggg': 2206204,\n",
       " 'gttcttgagag ttcttgagagg tcttgagaggg cttgagagggt': 8692071,\n",
       " 'ttcttgagagg tcttgagaggg cttgagagggt ttgagagggtg': 11078961,\n",
       " 'tcttgagaggg cttgagagggt ttgagagggtg tgagagggtgg': 10012580,\n",
       " 'cttgagagggt ttgagagggtg tgagagggtgg gagagggtggt': 5495487,\n",
       " 'ttgagagggtg tgagagggtgg gagagggtggt agagggtggta': 11107119,\n",
       " 'tgagagggtgg gagagggtggt agagggtggta gagggtggtag': 10138661,\n",
       " 'gagagggtggt agagggtggta gagggtggtag agggtggtaga': 6002227,\n",
       " 'agagggtggta gagggtggtag agggtggtaga gggtggtagaa': 1558122,\n",
       " 'gagggtggtag agggtggtaga gggtggtagaa ggtggtagaat': 6119075,\n",
       " 'agggtggtaga gggtggtagaa ggtggtagaat gtggtagaatt': 1988520,\n",
       " 'gggtggtagaa ggtggtagaat gtggtagaatt tggtagaattt': 7823007,\n",
       " 'ggtggtagaat gtggtagaatt tggtagaattt ggtagaatttc': 7985210,\n",
       " 'gtggtagaatt tggtagaattt ggtagaatttc gtagaatttca': 8555407,\n",
       " 'tggtagaattt ggtagaatttc gtagaatttca tagaatttcag': 10581632,\n",
       " 'ggtagaatttc gtagaatttca tagaatttcag agaatttcagg': 7870247,\n",
       " 'gtagaatttca tagaatttcag agaatttcagg gaatttcaggt': 8148096,\n",
       " 'tagaatttcag agaatttcagg gaatttcaggt aatttcaggtg': 9133412,\n",
       " 'agaatttcagg gaatttcaggt aatttcaggtg atttcaggtgt': 1473575,\n",
       " 'gaatttcaggt aatttcaggtg atttcaggtgt tttcaggtgta': 5779507,\n",
       " 'aatttcaggtg atttcaggtgt tttcaggtgta ttcaggtgtag': 737733,\n",
       " 'atttcaggtgt tttcaggtgta ttcaggtgtag tcaggtgtagc': 2840450,\n",
       " 'tttcaggtgta ttcaggtgtag tcaggtgtagc caggtgtagcg': 11296525,\n",
       " 'ttcaggtgtag tcaggtgtagc caggtgtagcg aggtgtagcgg': 10967704,\n",
       " 'tcaggtgtagc caggtgtagcg aggtgtagcgg ggtgtagcggt': 9533533,\n",
       " 'caggtgtagcg aggtgtagcgg ggtgtagcggt gtgtagcggtg': 3338579,\n",
       " 'aggtgtagcgg ggtgtagcggt gtgtagcggtg tgtagcggtga': 2029451,\n",
       " 'ggtgtagcggt gtgtagcggtg tgtagcggtga gtagcggtgaa': 7991063,\n",
       " 'gtgtagcggtg tgtagcggtga gtagcggtgaa tagcggtgaaa': 8574860,\n",
       " 'tgtagcggtga gtagcggtgaa tagcggtgaaa agcggtgaaat': 10651766,\n",
       " 'gtagcggtgaa tagcggtgaaa agcggtgaaat gcggtgaaatg': 8167353,\n",
       " 'tagcggtgaaa agcggtgaaat gcggtgaaatg cggtgaaatgc': 9197759,\n",
       " 'agcggtgaaat gcggtgaaatg cggtgaaatgc ggtgaaatgcg': 1764375,\n",
       " 'gcggtgaaatg cggtgaaatgc ggtgaaatgcg gtgaaatgcga': 6908305,\n",
       " 'cggtgaaatgc ggtgaaatgcg gtgaaatgcga tgaaatgcgaa': 4722619,\n",
       " 'ggtgaaatgcg gtgaaatgcga tgaaatgcgaa gaaatgcgaag': 7939220,\n",
       " 'gtgaaatgcga tgaaatgcgaa gaaatgcgaag aaatgcgaaga': 8404285,\n",
       " 'tgaaatgcgaa gaaatgcgaag aaatgcgaaga aatgcgaagag': 10040698,\n",
       " 'gaaatgcgaag aaatgcgaaga aatgcgaagag atgcgaagaga': 5615553,\n",
       " 'aaatgcgaaga aatgcgaagag atgcgaagaga tgcgaagagat': 163644,\n",
       " 'aatgcgaagag atgcgaagaga tgcgaagagat gcgaagagatc': 672512,\n",
       " 'atgcgaagaga tgcgaagagat gcgaagagatc cgaagagatct': 2600427,\n",
       " 'tgcgaagagat gcgaagagatc cgaagagatct gaagagatctg': 10318024,\n",
       " 'gcgaagagatc cgaagagatct gaagagatctg aagagatctga': 6768163,\n",
       " 'cgaagagatct gaagagatctg aagagatctga agagatctgaa': 4207795,\n",
       " 'gaagagatctg aagagatctga agagatctgaa gagatctgaag': 5677625,\n",
       " 'aagagatctga agagatctgaa gagatctgaag agatctgaagg': 386166,\n",
       " 'agagatctgaa gagatctgaag agatctgaagg gatctgaagga': 1531398,\n",
       " 'gagatctgaag agatctgaagg gatctgaagga atctgaaggat': 6012980,\n",
       " 'agatctgaagg gatctgaagga atctgaaggat tctgaaggatt': 1595931,\n",
       " 'gatctgaagga atctgaaggat tctgaaggatt ctgaaggatta': 6268879,\n",
       " 'atctgaaggat tctgaaggatt ctgaaggatta tgaaggattac': 2512933,\n",
       " 'tctgaaggatt ctgaaggatta tgaaggattac gaaggattacc': 9959558,\n",
       " 'ctgaaggatta tgaaggattac gaaggattacc aaggattacca': 5233986,\n",
       " 'tgaaggattac gaaggattacc aaggattacca aggattaccag': 10060052,\n",
       " 'gaaggattacc aaggattacca aggattaccag ggattaccagt': 5702194,\n",
       " 'aaggattacca aggattaccag ggattaccagt gattaccagtg': 476939,\n",
       " 'aggattaccag ggattaccagt gattaccagtg attaccagtgg': 1879789,\n",
       " 'ggattaccagt gattaccagtg attaccagtgg ttaccagtggc': 7365373,\n",
       " 'gattaccagtg attaccagtgg ttaccagtggc taccagtggcg': 6334405,\n",
       " 'attaccagtgg ttaccagtggc taccagtggcg accagtggcga': 2727527,\n",
       " 'ttaccagtggc taccagtggcg accagtggcga ccagtggcgaa': 10842883,\n",
       " 'taccagtggcg accagtggcga ccagtggcgaa cagtggcgaag': 9009069,\n",
       " 'accagtggcga ccagtggcgaa cagtggcgaag agtggcgaagg': 935860,\n",
       " 'ccagtggcgaa cagtggcgaag agtggcgaagg gtggcgaaggc': 3652341,\n",
       " 'cagtggcgaag agtggcgaagg gtggcgaaggc tggcgaaggcg': 3369884,\n",
       " 'agtggcgaagg gtggcgaaggc tggcgaaggcg ggcgaaggcgg': 2164485,\n",
       " 'gtggcgaaggc tggcgaaggcg ggcgaaggcgg gcgaaggcggc': 8527588,\n",
       " 'tggcgaaggcg ggcgaaggcgg gcgaaggcggc cgaaggcggcc': 10482140,\n",
       " 'ggcgaaggcgg gcgaaggcggc cgaaggcggcc gaaggcggcct': 7483333,\n",
       " 'gcgaaggcggc cgaaggcggcc gaaggcggcct aaggcggccta': 6770737,\n",
       " 'cgaaggcggcc gaaggcggcct aaggcggccta aggcggcctac': 4215207,\n",
       " 'gaaggcggcct aaggcggccta aggcggcctac ggcggcctacc': 5706412,\n",
       " 'aaggcggccta aggcggcctac ggcggcctacc gcggcctaccg': 488990,\n",
       " 'aggcggcctac ggcggcctacc gcggcctaccg cggcctaccgg': 1917421,\n",
       " 'ggcggcctacc gcggcctaccg cggcctaccgg ggcctaccggc': 7515131,\n",
       " 'gcggcctaccg cggcctaccgg ggcctaccggc gcctaccggca': 6880942,\n",
       " 'cggcctaccgg ggcctaccggc gcctaccggca cctaccggcaa': 4615408,\n",
       " 'ggcctaccggc gcctaccggca cctaccggcaa ctaccggcaac': 7467972,\n",
       " 'gcctaccggca cctaccggcaa ctaccggcaac taccggcaact': 6717622,\n",
       " 'cctaccggcaa ctaccggcaac taccggcaact accggcaacta': 4035029,\n",
       " 'ctaccggcaac taccggcaact accggcaacta ccggcaactat': 4982884,\n",
       " 'taccggcaact accggcaacta ccggcaactat cggcaactatc': 9027757,\n",
       " 'accggcaacta ccggcaactat cggcaactatc ggcaactatcc': 1012261,\n",
       " 'ccggcaactat cggcaactatc ggcaactatcc gcaactatccg': 3943797,\n",
       " 'cggcaactatc ggcaactatcc gcaactatccg caactatccga': 4595322,\n",
       " 'ggcaactatcc gcaactatccg caactatccga aactatccgac': 7385429,\n",
       " 'gcaactatccg caactatccga aactatccgac actatccgact': 6399457,\n",
       " 'caactatccga aactatccgac actatccgact ctatccgactc': 2940432,\n",
       " 'aactatccgac actatccgact ctatccgactc tatccgactct': 319409,\n",
       " 'actatccgact ctatccgactc tatccgactct atccgactctc': 1288177,\n",
       " 'ctatccgactc tatccgactct atccgactctc tccgactctcg': 5060297,\n",
       " 'tatccgactct atccgactctc tccgactctcg ccgactctcgg': 9343163,\n",
       " 'atccgactctc tccgactctcg ccgactctcgg cgactctcgga': 2436885,\n",
       " 'tccgactctcg ccgactctcgg cgactctcgga gactctcggat': 9652845,\n",
       " 'ccgactctcgg cgactctcgga gactctcggat actctcggatg': 3864341,\n",
       " 'cgactctcgga gactctcggat actctcggatg ctctcggatgc': 4264375,\n",
       " 'gactctcggat actctcggatg ctctcggatgc tctcggatgcg': 5938608,\n",
       " 'actctcggatg ctctcggatgc tctcggatgcg ctcggatgcga': 1330491,\n",
       " 'ctctcggatgc tctcggatgcg ctcggatgcga tcggatgcgaa': 5206962,\n",
       " 'tctcggatgcg ctcggatgcga tcggatgcgaa cggatgcgaaa': 9947024,\n",
       " 'ctcggatgcga tcggatgcgaa cggatgcgaaa ggatgcgaaag': 5175662,\n",
       " 'tcggatgcgaa cggatgcgaaa ggatgcgaaag gatgcgaaagc': 9815908,\n",
       " 'cggatgcgaaa ggatgcgaaag gatgcgaaagc atgcgaaagcg': 4587503,\n",
       " 'ggatgcgaaag gatgcgaaagc atgcgaaagcg tgcgaaagcga': 7354940,\n",
       " 'gatgcgaaagc atgcgaaagcg tgcgaaagcga gcgaaagcgag': 6296544,\n",
       " 'atgcgaaagcg tgcgaaagcga gcgaaagcgag cgaaagcgagg': 2599987,\n",
       " 'tgcgaaagcga gcgaaagcgag cgaaagcgagg gaaagcgaggt': 10316313,\n",
       " 'gcgaaagcgag cgaaagcgagg gaaagcgaggt aaagcgaggta': 6761970,\n",
       " 'cgaaagcgagg gaaagcgaggt aaagcgaggta aagcgaggtac': 4190573,\n",
       " 'gaaagcgaggt aaagcgaggta aagcgaggtac agcgaggtacc': 5598224,\n",
       " 'aaagcgaggta aagcgaggtac agcgaggtacc gcgaggtaccg': 106839,\n",
       " 'aagcgaggtac agcgaggtacc gcgaggtaccg cgaggtaccgg': 437946,\n",
       " 'agcgaggtacc gcgaggtaccg cgaggtaccgg gaggtaccgga': 1735511,\n",
       " 'gcgaggtaccg cgaggtaccgg gaggtaccgga aggtaccggac': 6798774,\n",
       " 'cgaggtaccgg gaggtaccgga aggtaccggac ggtaccggacg': 4303954,\n",
       " 'gaggtaccgga aggtaccggac ggtaccggacg gtaccggacgg': 6122027,\n",
       " 'aggtaccggac ggtaccggacg gtaccggacgg taccggacggg': 1997862,\n",
       " 'ggtaccggacg gtaccggacgg taccggacggg accggacggga': 7862699,\n",
       " 'gtaccggacgg taccggacggg accggacggga ccggacgggat': 8121021,\n",
       " 'taccggacggg accggacggga ccggacgggat cggacgggatc': 9027099,\n",
       " 'accggacggga ccggacgggat cggacgggatc ggacgggatcc': 1009884,\n",
       " 'ccggacgggat cggacgggatc ggacgggatcc gacgggatccg': 3935213,\n",
       " 'cggacgggatc ggacgggatcc gacgggatccg acgggatccgt': 4560872,\n",
       " 'ggacgggatcc gacgggatccg acgggatccgt cgggatccgtt': 7242441,\n",
       " 'gacgggatccg acgggatccgt cgggatccgtt gggatccgttg': 5899501,\n",
       " 'acgggatccgt cgggatccgtt gggatccgttg ggatccgttga': 1188940,\n",
       " 'cgggatccgtt gggatccgttg ggatccgttga gatccgttgag': 4654969,\n",
       " 'gggatccgttg ggatccgttga gatccgttgag atccgttgagc': 7646798,\n",
       " 'ggatccgttga gatccgttgag atccgttgagc tccgttgagct': 7341713,\n",
       " 'gatccgttgag atccgttgagc tccgttgagct ccgttgagctg': 6251419,\n",
       " 'atccgttgagc tccgttgagct ccgttgagctg cgttgagctgt': 2445497,\n",
       " 'tccgttgagct ccgttgagctg cgttgagctgt gttgagctgta': 9686789,\n",
       " 'ccgttgagctg cgttgagctgt gttgagctgta ttgagctgtat': 4016862,\n",
       " 'cgttgagctgt gttgagctgta ttgagctgtat tgagctgtatt': 4905577,\n",
       " 'gttgagctgta ttgagctgtat tgagctgtatt gagctgtattt': 8700387,\n",
       " 'ttgagctgtat tgagctgtatt gagctgtattt agctgtatttg': 11110530,\n",
       " 'tgagctgtatt gagctgtattt agctgtatttg gctgtatttgc': 10154762,\n",
       " 'gagctgtattt agctgtatttg gctgtatttgc ctgtatttgcc': 6069451,\n",
       " 'agctgtatttg gctgtatttgc ctgtatttgcc tgtatttgccc': 1815837,\n",
       " 'gctgtatttgc ctgtatttgcc tgtatttgccc gtatttgcccg': 7097754,\n",
       " 'ctgtatttgcc tgtatttgccc gtatttgcccg tatttgcccgc': 5384508,\n",
       " 'tgtatttgccc gtatttgcccg tatttgcccgc atttgcccgcg': 10665473,\n",
       " 'gtatttgcccg tatttgcccgc atttgcccgcg tttgcccgcgg': 8231742,\n",
       " 'tatttgcccgc atttgcccgcg tttgcccgcgg ttgcccgcggt': 9423990,\n",
       " 'atttgcccgcg tttgcccgcgg ttgcccgcggt tgcccgcggta': 2850772,\n",
       " 'tttgcccgcgg ttgcccgcggt tgcccgcggta gcccgcggtaa': 11334308,\n",
       " 'ttgcccgcggt tgcccgcggta gcccgcggtaa cccgcggtaaa': 11140483,\n",
       " 'tgcccgcggta gcccgcggtaa cccgcggtaaa ccgcggtaaat': 10288125,\n",
       " 'gcccgcggtaa cccgcggtaaa ccgcggtaaat cgcggtaaatg': 6644246,\n",
       " 'cccgcggtaaa ccgcggtaaat cgcggtaaatg gcggtaaatgg': 3779083,\n",
       " 'ccgcggtaaat cgcggtaaatg gcggtaaatgg cggtaaatgga': 3916406,\n",
       " 'cgcggtaaatg gcggtaaatgg cggtaaatgga ggtaaatggat': 4482488,\n",
       " 'gcggtaaatgg cggtaaatgga ggtaaatggat gtaaatggatt': 6901803,\n",
       " 'cggtaaatgga ggtaaatggat gtaaatggatt taaatggattc': 4699363,\n",
       " 'ggtaaatggat gtaaatggatt taaatggattc aaatggattcc': 7845957,\n",
       " 'gtaaatggatt taaatggattc aaatggattcc aatggattccg': 8066457,\n",
       " 'taaatggattc aaatggattcc aatggattccg atggattccgc': 8827443,\n",
       " 'aaatggattcc aatggattccg atggattccgc tggattccgct': 165958,\n",
       " 'aatggattccg atggattccgc tggattccgct ggattccgcta': 681690,\n",
       " 'atggattccgc tggattccgct ggattccgcta gattccgctag': 2632605,\n",
       " 'tggattccgct ggattccgcta gattccgctag attccgctagc': 10454542,\n",
       " 'ggattccgcta gattccgctag attccgctagc ttccgctagcg': 7369990,\n",
       " 'gattccgctag attccgctagc ttccgctagcg tccgctagcgg': 6346914,\n",
       " 'attccgctagc ttccgctagcg tccgctagcgg ccgctagcggg': 2766711,\n",
       " 'ttccgctagcg tccgctagcgg ccgctagcggg cgctagcggga': 10997568,\n",
       " 'tccgctagcgg ccgctagcggg cgctagcggga gctagcgggac': 9665413,\n",
       " 'ccgctagcggg cgctagcggga gctagcgggac ctagcgggact': 3923183,\n",
       " 'cgctagcggga gctagcgggac ctagcgggact tagcgggactc': 4505931,\n",
       " 'gctagcgggac ctagcgggact tagcgggactc agcgggactcg': 6998507,\n",
       " 'ctagcgggact tagcgggactc agcgggactcg gcgggactcgg': 5024015,\n",
       " 'tagcgggactc agcgggactcg gcgggactcgg cgggactcgga': 9196651,\n",
       " 'agcgggactcg gcgggactcgg cgggactcgga gggactcggag': 1759274,\n",
       " 'gcgggactcgg cgggactcgga gggactcggag ggactcggaga': 6889723,\n",
       " 'cgggactcgga gggactcggag ggactcggaga gactcggagag': 4648360,\n",
       " 'gggactcggag ggactcggaga gactcggagag actcggagagc': 7619901,\n",
       " 'ggactcggaga gactcggagag actcggagagc ctcggagagcc': 7251962,\n",
       " 'gactcggagag actcggagagc ctcggagagcc tcggagagcct': 5936511,\n",
       " 'actcggagagc ctcggagagcc tcggagagcct cggagagcctt': 1321355,\n",
       " 'ctcggagagcc tcggagagcct cggagagcctt ggagagcctta': 5174703,\n",
       " 'tcggagagcct cggagagcctt ggagagcctta gagagccttag': 9810837,\n",
       " 'cggagagcctt ggagagcctta gagagccttag agagccttagt': 4567471,\n",
       " 'ggagagcctta gagagccttag agagccttagt gagccttagtg': 7269694,\n",
       " 'gagagccttag agagccttagt gagccttagtg agccttagtgg': 5996707,\n",
       " 'agagccttagt gagccttagtg agccttagtgg gccttagtgga': 1539958,\n",
       " 'gagccttagtg agccttagtgg gccttagtgga ccttagtggaa': 6046368,\n",
       " 'agccttagtgg gccttagtgga ccttagtggaa cttagtggaac': 1724379,\n",
       " 'gccttagtgga ccttagtggaa cttagtggaac ttagtggaacc': 6748945,\n",
       " 'ccttagtggaa cttagtggaac ttagtggaacc tagtggaacca': 4147895,\n",
       " 'cttagtggaac ttagtggaacc tagtggaacca agtggaaccac': 5445146,\n",
       " 'actgcctccaa': 1355126,\n",
       " 'ctgcctccaaa': 5295927,\n",
       " 'tgcctccaaaa': 10307737,\n",
       " 'gcctccaaaac': 6726218,\n",
       " 'cctccaaaact': 4067281,\n",
       " 'ctccaaaacta': 5119062,\n",
       " 'tccaaaactat': 9577723,\n",
       " 'ccaaaactatc': 3534106,\n",
       " 'caaaactatca': 2867853,\n",
       " 'aaaactatcag': 17729,\n",
       " 'aaactatcagt': 76266,\n",
       " 'aactatcagtc': 319296,\n",
       " 'actatcagtct': 1287838,\n",
       " 'ctatcagtcta': 5058941,\n",
       " 'tatcagtctag': 9337609,\n",
       " 'atcagtctaga': 2406053,\n",
       " 'tcagtctagag': 9538879,\n",
       " 'cagtctagagt': 3360145,\n",
       " 'agtctagagtt': 2125206,\n",
       " 'gtctagagttc': 8367232,\n",
       " 'tctagagttcg': 9913441,\n",
       " 'ctagagttcga': 5014198,\n",
       " 'tagagttcgag': 9156811,\n",
       " 'agagttcgaga': 1572804,\n",
       " 'gagttcgagag': 6178242,\n",
       " 'agttcgagaga': 2200847,\n",
       " 'gttcgagagag': 8674615,\n",
       " 'ttcgagagagg': 11015205,\n",
       " 'tcgagagaggt': 9743377,\n",
       " 'cgagagaggtg': 4275541,\n",
       " 'gagagaggtga': 5993492,\n",
       " 'agagaggtgag': 1528578,\n",
       " 'gagaggtgagt': 6002950,\n",
       " 'agaggtgagtg': 1560706,\n",
       " 'gaggtgagtgg': 6128271,\n",
       " 'aggtgagtgga': 2018936,\n",
       " 'ggtgagtggaa': 7951830,\n",
       " 'gtgagtggaat': 8444217,\n",
       " 'tgagtggaatt': 10177395,\n",
       " 'gagtggaattc': 6167228,\n",
       " 'agtggaattcc': 2159718,\n",
       " 'gtggaattccg': 8509017,\n",
       " 'tggaattccga': 10414367,\n",
       " 'ggaattccgag': 7208204,\n",
       " 'gaattccgagt': 5772783,\n",
       " 'aattccgagtg': 716645,\n",
       " 'attccgagtgt': 2765852,\n",
       " 'ttccgagtgta': 10995160,\n",
       " 'tccgagtgtag': 9655729,\n",
       " 'ccgagtgtaga': 3875540,\n",
       " 'cgagtgtagag': 4314878,\n",
       " 'gagtgtagagg': 6171557,\n",
       " 'agtgtagaggt': 2176857,\n",
       " 'gtgtagaggtg': 8573774,\n",
       " ...}"
      ]
     },
     "execution_count": 16,
     "metadata": {},
     "output_type": "execute_result"
    }
   ],
   "source": [
    "cv.vocabulary_"
   ]
  },
  {
   "cell_type": "markdown",
   "id": "33412e4d",
   "metadata": {},
   "source": [
    "# Class "
   ]
  },
  {
   "cell_type": "code",
   "execution_count": 18,
   "id": "a6ee26f6",
   "metadata": {},
   "outputs": [
    {
     "name": "stdout",
     "output_type": "stream",
     "text": [
      "['Alphaproteobacteria', 'Betaproteobacteria', 'Gammaproteobacteria'] 3\n"
     ]
    }
   ],
   "source": [
    "print(list(sg.groupby('Class').count().index), len(sg.groupby('Class').count().index))"
   ]
  },
  {
   "cell_type": "code",
   "execution_count": 19,
   "id": "e685c491",
   "metadata": {},
   "outputs": [
    {
     "name": "stdout",
     "output_type": "stream",
     "text": [
      "['class_Alphaproteobacteria', 'class_Betaproteobacteria', 'class_Gammaproteobacteria']\n"
     ]
    }
   ],
   "source": [
    "classes = list(pd.get_dummies(sg['Class']).columns)\n",
    "classes = ['class_' + i for i in classes]\n",
    "print(classes)"
   ]
  },
  {
   "cell_type": "code",
   "execution_count": 20,
   "id": "cd19b96c",
   "metadata": {},
   "outputs": [
    {
     "name": "stdout",
     "output_type": "stream",
     "text": [
      "[2 0 2 ... 0 0 2] 28224\n"
     ]
    }
   ],
   "source": [
    "labels_classes = np.argmax(np.array(pd.get_dummies(sg['Class'])), axis=1)\n",
    "print(labels_classes, len(labels_classes))"
   ]
  },
  {
   "cell_type": "code",
   "execution_count": 21,
   "id": "b283c05f",
   "metadata": {},
   "outputs": [],
   "source": [
    "# Splitting the human dataset into the training set and test set\n",
    "from sklearn.model_selection import train_test_split\n",
    "X_train_c, X_test_c, y_train_c, y_test_c = train_test_split(X, \n",
    "                                                    labels_classes, \n",
    "                                                    test_size = 0.10, \n",
    "                                                    random_state=42)"
   ]
  },
  {
   "cell_type": "code",
   "execution_count": 22,
   "id": "6ac96f1b",
   "metadata": {},
   "outputs": [
    {
     "name": "stdout",
     "output_type": "stream",
     "text": [
      "(25401, 11386484)\n",
      "(2823, 11386484)\n"
     ]
    }
   ],
   "source": [
    "print(X_train_c.shape)\n",
    "print(X_test_c.shape)"
   ]
  },
  {
   "cell_type": "code",
   "execution_count": 23,
   "id": "87b48cd7",
   "metadata": {},
   "outputs": [
    {
     "data": {
      "text/plain": [
       "MultinomialNB(alpha=0.1)"
      ]
     },
     "execution_count": 23,
     "metadata": {},
     "output_type": "execute_result"
    }
   ],
   "source": [
    "### Multinomial Naive Bayes Classifier ###\n",
    "# The alpha parameter was determined by grid search previously\n",
    "from sklearn.naive_bayes import MultinomialNB\n",
    "classifier_c = MultinomialNB(alpha=0.1)\n",
    "classifier_c.fit(X_train_c, y_train_c)"
   ]
  },
  {
   "cell_type": "code",
   "execution_count": 24,
   "id": "2d73b21d",
   "metadata": {},
   "outputs": [
    {
     "data": {
      "text/plain": [
       "array([2, 0, 0, ..., 0, 2, 0], dtype=int64)"
      ]
     },
     "execution_count": 24,
     "metadata": {},
     "output_type": "execute_result"
    }
   ],
   "source": [
    "y_pred_c = classifier_c.predict(X_test_c)\n",
    "y_pred_c"
   ]
  },
  {
   "cell_type": "code",
   "execution_count": 25,
   "id": "617215a3",
   "metadata": {
    "scrolled": false
   },
   "outputs": [
    {
     "name": "stdout",
     "output_type": "stream",
     "text": [
      "Confusion matrix\n",
      "\n",
      "Predicted     0    1     2\n",
      "Actual                    \n",
      "0          1281   22     0\n",
      "1             0  195     0\n",
      "2             1   33  1291\n",
      "accuracy = 0.980 \n",
      "precision = 0.984 \n",
      "recall = 0.980 \n",
      "f1 = 0.981\n"
     ]
    }
   ],
   "source": [
    "from sklearn.metrics import accuracy_score, f1_score, precision_score, recall_score\n",
    "print(\"Confusion matrix\\n\")\n",
    "print(pd.crosstab(pd.Series(y_test_c, name='Actual'), pd.Series(y_pred_c, name='Predicted')))\n",
    "def get_metrics(y_test, y_predicted):\n",
    "    accuracy = accuracy_score(y_test, y_predicted)\n",
    "    precision = precision_score(y_test, y_predicted, average='weighted')\n",
    "    recall = recall_score(y_test, y_predicted, average='weighted')\n",
    "    f1 = f1_score(y_test, y_predicted, average='weighted')\n",
    "    return accuracy, precision, recall, f1\n",
    "accuracy, precision, recall, f1 = get_metrics(y_test_c, y_pred_c)\n",
    "print(\"accuracy = %.3f \\nprecision = %.3f \\nrecall = %.3f \\nf1 = %.3f\" % (accuracy, precision, recall, f1))"
   ]
  },
  {
   "cell_type": "code",
   "execution_count": 26,
   "id": "2449e077",
   "metadata": {},
   "outputs": [],
   "source": [
    "def predict_c(seq):\n",
    "    if type(seq)== str:\n",
    "        seq = [seq]\n",
    "    return classifier_c.predict(cv.transform(seq))\n",
    "def find_class(seq):\n",
    "    pred = predict_c(seq)\n",
    "    return [classes[i] for i in pred]"
   ]
  },
  {
   "cell_type": "code",
   "execution_count": 27,
   "id": "8986ce7e",
   "metadata": {},
   "outputs": [
    {
     "data": {
      "text/plain": [
       "2"
      ]
     },
     "execution_count": 27,
     "metadata": {},
     "output_type": "execute_result"
    }
   ],
   "source": [
    "predict_c(human_texts[0]).item()"
   ]
  },
  {
   "cell_type": "code",
   "execution_count": 28,
   "id": "6afefda1",
   "metadata": {},
   "outputs": [
    {
     "data": {
      "text/plain": [
       "(['class_Gammaproteobacteria',\n",
       "  'class_Alphaproteobacteria',\n",
       "  'class_Gammaproteobacteria',\n",
       "  'class_Alphaproteobacteria',\n",
       "  'class_Gammaproteobacteria'],\n",
       " ['class_Gammaproteobacteria'])"
      ]
     },
     "execution_count": 28,
     "metadata": {},
     "output_type": "execute_result"
    }
   ],
   "source": [
    "find_class(human_texts[0:5]), find_class(human_texts[0])"
   ]
  },
  {
   "cell_type": "markdown",
   "id": "64bf39f2",
   "metadata": {},
   "source": [
    "# Order"
   ]
  },
  {
   "cell_type": "code",
   "execution_count": 29,
   "id": "f01e3c03",
   "metadata": {
    "scrolled": true
   },
   "outputs": [
    {
     "name": "stdout",
     "output_type": "stream",
     "text": [
      "['Aeromonadales', 'Alteromonadales', 'Caulobacterales', 'Chromatiales', 'Ferrovales', 'Gammaproteobacteria_incertae_sedis', 'Legionellales', 'Methylophilales', 'Neisseriales', 'Oceanospirillales', 'Pasteurellales', 'Pseudomonadales', 'Rhizobiales', 'Rhodobacterales', 'Rhodospirillales', 'Sphingomonadales', 'Thiotrichales', 'Vibrionales', 'Xanthomonadales', '\\\\\"Salinisphaerales\\\\\"', '\\\\\"Vibrionales\\\\\"'] 21\n"
     ]
    }
   ],
   "source": [
    "print(list(sg.groupby('Order').count().index), len(sg.groupby('Order').count().index))"
   ]
  },
  {
   "cell_type": "code",
   "execution_count": 30,
   "id": "a4ea6bad",
   "metadata": {},
   "outputs": [],
   "source": [
    "orders = []\n",
    "for i in sg['Order']:\n",
    "    if i[0:2]==   r\"\\\"\":\n",
    "        i = i[2:-2]\n",
    "    orders.append(i)\n",
    "sg['Order'] = orders"
   ]
  },
  {
   "cell_type": "code",
   "execution_count": 31,
   "id": "c414866c",
   "metadata": {},
   "outputs": [],
   "source": []
  },
  {
   "cell_type": "code",
   "execution_count": 32,
   "id": "4e4f1f6c",
   "metadata": {},
   "outputs": [
    {
     "name": "stdout",
     "output_type": "stream",
     "text": [
      "['Aeromonadales', 'Alteromonadales', 'Caulobacterales', 'Chromatiales', 'Ferrovales', 'Gammaproteobacteria_incertae_sedis', 'Legionellales', 'Methylophilales', 'Neisseriales', 'Oceanospirillales', 'Pasteurellales', 'Pseudomonadales', 'Rhizobiales', 'Rhodobacterales', 'Rhodospirillales', 'Salinisphaerales', 'Sphingomonadales', 'Thiotrichales', 'Vibrionales', 'Xanthomonadales'] 20\n"
     ]
    }
   ],
   "source": [
    "print(list(sg.groupby('Order').count().index), len(sg.groupby('Order').count().index))"
   ]
  },
  {
   "cell_type": "code",
   "execution_count": 33,
   "id": "7b852c44",
   "metadata": {},
   "outputs": [
    {
     "name": "stdout",
     "output_type": "stream",
     "text": [
      "[ 1 13 18 ... 13 12 19] 28224\n"
     ]
    }
   ],
   "source": [
    "orders = list(pd.get_dummies(sg['Order']).columns)\n",
    "orders = ['order_' + i for i in orders]\n",
    "\n",
    "labels_orders = np.argmax(np.array(pd.get_dummies(sg['Order'])), axis=1)\n",
    "print(labels_orders, len(labels_orders))"
   ]
  },
  {
   "cell_type": "code",
   "execution_count": 34,
   "id": "c6f00b43",
   "metadata": {},
   "outputs": [
    {
     "name": "stdout",
     "output_type": "stream",
     "text": [
      "['order_Aeromonadales', 'order_Alteromonadales', 'order_Caulobacterales', 'order_Chromatiales', 'order_Ferrovales', 'order_Gammaproteobacteria_incertae_sedis', 'order_Legionellales', 'order_Methylophilales', 'order_Neisseriales', 'order_Oceanospirillales', 'order_Pasteurellales', 'order_Pseudomonadales', 'order_Rhizobiales', 'order_Rhodobacterales', 'order_Rhodospirillales', 'order_Salinisphaerales', 'order_Sphingomonadales', 'order_Thiotrichales', 'order_Vibrionales', 'order_Xanthomonadales']\n"
     ]
    }
   ],
   "source": [
    "print(orders)"
   ]
  },
  {
   "cell_type": "code",
   "execution_count": 35,
   "id": "e7234158",
   "metadata": {},
   "outputs": [],
   "source": [
    "# Splitting the human dataset into the training set and test set\n",
    "from sklearn.model_selection import train_test_split\n",
    "X_train_o, X_test_o, y_train_o, y_test_o = train_test_split(X, \n",
    "                                                    labels_orders, \n",
    "                                                    test_size = 0.10, \n",
    "                                                    random_state=42)"
   ]
  },
  {
   "cell_type": "code",
   "execution_count": 36,
   "id": "43683fc2",
   "metadata": {},
   "outputs": [
    {
     "name": "stdout",
     "output_type": "stream",
     "text": [
      "(25401, 11386484)\n",
      "(2823, 11386484)\n"
     ]
    }
   ],
   "source": [
    "print(X_train_o.shape)\n",
    "print(X_test_o.shape)"
   ]
  },
  {
   "cell_type": "code",
   "execution_count": 37,
   "id": "59c6437c",
   "metadata": {},
   "outputs": [
    {
     "data": {
      "text/plain": [
       "MultinomialNB(alpha=0.1)"
      ]
     },
     "execution_count": 37,
     "metadata": {},
     "output_type": "execute_result"
    }
   ],
   "source": [
    "### Multinomial Naive Bayes Classifier ###\n",
    "# The alpha parameter was determined by grid search previously\n",
    "from sklearn.naive_bayes import MultinomialNB\n",
    "classifier_o = MultinomialNB(alpha=0.1)\n",
    "classifier_o.fit(X_train_o, y_train_o)"
   ]
  },
  {
   "cell_type": "code",
   "execution_count": 38,
   "id": "88065d3f",
   "metadata": {},
   "outputs": [
    {
     "data": {
      "text/plain": [
       "array([19, 13, 13, ..., 13,  5, 13], dtype=int64)"
      ]
     },
     "execution_count": 38,
     "metadata": {},
     "output_type": "execute_result"
    }
   ],
   "source": [
    "y_pred_o = classifier_o.predict(X_test_o)\n",
    "y_pred_o"
   ]
  },
  {
   "cell_type": "code",
   "execution_count": 39,
   "id": "a5cf3a61",
   "metadata": {},
   "outputs": [
    {
     "name": "stdout",
     "output_type": "stream",
     "text": [
      "Confusion matrix\n",
      "\n",
      "Predicted  0    1    2   3   4   5   6   7    8    9    10  11   12   13  14  \\\n",
      "Actual                                                                         \n",
      "0          20    0    0   0   0   0   0   0    0    0    0   0    0    0   0   \n",
      "1           1  309    0   0   0   4   0   0    0    8    0   4    0    0   0   \n",
      "2           0    0  114   0   0   0   0   0    0    0    0   0    0    0   0   \n",
      "3           0    0    0  48   0   0   0   0    0    0    0   0    0    0   0   \n",
      "4           0    0    0   0  37   0   0   0    0    0    0   0    0    0   0   \n",
      "5           0    5    0   0   0  21   0   0    0    1    0   0    0    0   0   \n",
      "6           0    0    0   0   0   0  57   0    0    0    0   0    0    0   0   \n",
      "7           0    0    0   0   0   0   0  19    1    0    0   0    0    0   0   \n",
      "8           0    0    0   0   0   0   0   0  138    0    0   0    0    0   0   \n",
      "9           0    4    0   0   1   2   1   0    0  310    0   1    0    0   0   \n",
      "10          0    0    0   0   0   2   0   0    0    0  195   0    0    0   0   \n",
      "11          0    0    0   0   0   0   0   0    0    0    0  30    0    0   0   \n",
      "12          0    0    3   1   0   0   0   0    0    0    0   0  460    1   4   \n",
      "13          0    0    1   0   0   0   0   0    0    0    0   0   12  435   2   \n",
      "14          0    0    0   0   0   0   0   0    0    0    0   0    1    0  88   \n",
      "15          0    0    0   0   0   0   0   0    0    0    0   0    0    0   0   \n",
      "16          0    0    0   0   0   0   0   0    0    0    0   0    0    0   0   \n",
      "17          0    0    0   0   0   0   0   0    0    1    0   0    0    0   0   \n",
      "18          0    0    0   0   0   0   0   0    0    1    0   0    0    0   0   \n",
      "19          0    0    0   0   0   0   0   0    0    0    0   0    0    0   0   \n",
      "\n",
      "Predicted  15   16  17  18   19  \n",
      "Actual                           \n",
      "0           0    0   0   0    0  \n",
      "1           0    2   0   8    0  \n",
      "2           0    0   0   0    0  \n",
      "3           0    0   0   0    0  \n",
      "4           0    0   0   0    0  \n",
      "5           0    0   0   0    2  \n",
      "6           0    0   0   0    0  \n",
      "7           0    0   0   0    0  \n",
      "8           0    0   0   0    0  \n",
      "9           0    1   0   3    1  \n",
      "10          0    0   0   4    0  \n",
      "11          0    0   0   0    0  \n",
      "12          1    1   0   1    0  \n",
      "13          0    1   0   0    0  \n",
      "14          0    1   0   0    0  \n",
      "15         28    0   0   0    0  \n",
      "16          0  175   0   0    1  \n",
      "17          0    0  38   0    0  \n",
      "18          0    0   0  66    0  \n",
      "19          0    0   0   0  146  \n",
      "accuracy = 0.968 \n",
      "precision = 0.970 \n",
      "recall = 0.968 \n",
      "f1 = 0.969\n"
     ]
    }
   ],
   "source": [
    "print(\"Confusion matrix\\n\")\n",
    "print(pd.crosstab(pd.Series(y_test_o, name='Actual'), pd.Series(y_pred_o, name='Predicted')))\n",
    "def get_metrics(y_test, y_predicted):\n",
    "    accuracy = accuracy_score(y_test, y_predicted)\n",
    "    precision = precision_score(y_test, y_predicted, average='weighted')\n",
    "    recall = recall_score(y_test, y_predicted, average='weighted')\n",
    "    f1 = f1_score(y_test, y_predicted, average='weighted')\n",
    "    return accuracy, precision, recall, f1\n",
    "accuracy, precision, recall, f1 = get_metrics(y_test_o, y_pred_o)\n",
    "print(\"accuracy = %.3f \\nprecision = %.3f \\nrecall = %.3f \\nf1 = %.3f\" % (accuracy, precision, recall, f1))"
   ]
  },
  {
   "cell_type": "code",
   "execution_count": 40,
   "id": "053d3e51",
   "metadata": {},
   "outputs": [],
   "source": [
    "def predict_o(seq):\n",
    "    if type(seq)== str:\n",
    "        seq = [seq]\n",
    "    return classifier_o.predict(cv.transform(seq))\n",
    "\n",
    "def find_order(seq):\n",
    "    pred = predict_o(seq)\n",
    "    return [orders[i] for i in pred]"
   ]
  },
  {
   "cell_type": "code",
   "execution_count": 41,
   "id": "5b4605d6",
   "metadata": {},
   "outputs": [
    {
     "data": {
      "text/plain": [
       "13"
      ]
     },
     "execution_count": 41,
     "metadata": {},
     "output_type": "execute_result"
    }
   ],
   "source": [
    "predict_o(human_texts[3]).item()"
   ]
  },
  {
   "cell_type": "code",
   "execution_count": 42,
   "id": "40076710",
   "metadata": {},
   "outputs": [
    {
     "data": {
      "text/plain": [
       "['order_Alteromonadales',\n",
       " 'order_Rhodobacterales',\n",
       " 'order_Vibrionales',\n",
       " 'order_Rhodobacterales',\n",
       " 'order_Alteromonadales']"
      ]
     },
     "execution_count": 42,
     "metadata": {},
     "output_type": "execute_result"
    }
   ],
   "source": [
    "find_order(human_texts[0:5])"
   ]
  },
  {
   "cell_type": "markdown",
   "id": "b96ccaf7",
   "metadata": {},
   "source": [
    "# Family"
   ]
  },
  {
   "cell_type": "code",
   "execution_count": 43,
   "id": "ea1f8eb1",
   "metadata": {
    "scrolled": true
   },
   "outputs": [
    {
     "name": "stdout",
     "output_type": "stream",
     "text": [
      "['Aeromonadaceae', 'Alteromonadaceae', 'Alteromonadales_incertae_sedis', 'Bradyrhizobiaceae', 'Brucellaceae', 'Caulobacteraceae', 'Chromatiaceae', 'Colwelliaceae', 'Coxiellaceae', 'Erythrobacteraceae', 'Ferrimonadaceae', 'Ferrovaceae', 'Hahellaceae', 'Halomonadaceae', 'Hyphomicrobiaceae', 'Hyphomonadaceae', 'Idiomarinaceae', 'Legionellaceae', 'Methylophilaceae', 'Moritellaceae', 'Neisseriaceae', 'Oceanospirillaceae', 'Oceanospirillales_incertae_sedis', 'Pasteurellaceae', 'Phyllobacteriaceae', 'Piscirickettsiaceae', 'Pseudoalteromonadaceae', 'Pseudomonadaceae', 'Psychromonadaceae', 'Rhizobiaceae', 'Rhodobacteraceae', 'Rhodospirillaceae', 'Simiduia', 'Sinobacteraceae', 'Sphingomonadaceae', 'Vibrionaceae', 'Xanthobacteraceae', 'Xanthomonadaceae', '\\\\\"Salinisphaeraceae\\\\\"'] \n",
      " 39\n"
     ]
    }
   ],
   "source": [
    "print(list(sg.groupby('Family').count().index),'\\n', len(sg.groupby('Family').count().index))"
   ]
  },
  {
   "cell_type": "code",
   "execution_count": 44,
   "id": "a62c3062",
   "metadata": {},
   "outputs": [],
   "source": [
    "families = []\n",
    "for i in sg['Family']:\n",
    "    if i[0:2]==   r\"\\\"\":\n",
    "        i = i[2:-2]\n",
    "    families.append(i)\n",
    "    \n",
    "sg['Family'] = families"
   ]
  },
  {
   "cell_type": "code",
   "execution_count": 45,
   "id": "17097c3b",
   "metadata": {},
   "outputs": [],
   "source": []
  },
  {
   "cell_type": "code",
   "execution_count": 46,
   "id": "8ae041cc",
   "metadata": {},
   "outputs": [
    {
     "name": "stdout",
     "output_type": "stream",
     "text": [
      "['Aeromonadaceae', 'Alteromonadaceae', 'Alteromonadales_incertae_sedis', 'Bradyrhizobiaceae', 'Brucellaceae', 'Caulobacteraceae', 'Chromatiaceae', 'Colwelliaceae', 'Coxiellaceae', 'Erythrobacteraceae', 'Ferrimonadaceae', 'Ferrovaceae', 'Hahellaceae', 'Halomonadaceae', 'Hyphomicrobiaceae', 'Hyphomonadaceae', 'Idiomarinaceae', 'Legionellaceae', 'Methylophilaceae', 'Moritellaceae', 'Neisseriaceae', 'Oceanospirillaceae', 'Oceanospirillales_incertae_sedis', 'Pasteurellaceae', 'Phyllobacteriaceae', 'Piscirickettsiaceae', 'Pseudoalteromonadaceae', 'Pseudomonadaceae', 'Psychromonadaceae', 'Rhizobiaceae', 'Rhodobacteraceae', 'Rhodospirillaceae', 'Salinisphaeraceae', 'Simiduia', 'Sinobacteraceae', 'Sphingomonadaceae', 'Vibrionaceae', 'Xanthobacteraceae', 'Xanthomonadaceae'] 39\n"
     ]
    }
   ],
   "source": [
    "print(list(sg.groupby('Family').count().index), len(sg.groupby('Family').count().index))"
   ]
  },
  {
   "cell_type": "code",
   "execution_count": 47,
   "id": "fc661562",
   "metadata": {},
   "outputs": [
    {
     "name": "stdout",
     "output_type": "stream",
     "text": [
      "[19 30 36 ... 30 37 38] 28224\n"
     ]
    }
   ],
   "source": [
    "families = list(pd.get_dummies(sg['Family']).columns)\n",
    "families = ['familiy_' + i for i in families]\n",
    "\n",
    "labels_families = np.argmax(np.array(pd.get_dummies(sg['Family'])), axis=1)\n",
    "print(labels_families, len(labels_families))"
   ]
  },
  {
   "cell_type": "code",
   "execution_count": 48,
   "id": "2501cc52",
   "metadata": {},
   "outputs": [
    {
     "name": "stdout",
     "output_type": "stream",
     "text": [
      "['familiy_Aeromonadaceae', 'familiy_Alteromonadaceae', 'familiy_Alteromonadales_incertae_sedis', 'familiy_Bradyrhizobiaceae', 'familiy_Brucellaceae', 'familiy_Caulobacteraceae', 'familiy_Chromatiaceae', 'familiy_Colwelliaceae', 'familiy_Coxiellaceae', 'familiy_Erythrobacteraceae', 'familiy_Ferrimonadaceae', 'familiy_Ferrovaceae', 'familiy_Hahellaceae', 'familiy_Halomonadaceae', 'familiy_Hyphomicrobiaceae', 'familiy_Hyphomonadaceae', 'familiy_Idiomarinaceae', 'familiy_Legionellaceae', 'familiy_Methylophilaceae', 'familiy_Moritellaceae', 'familiy_Neisseriaceae', 'familiy_Oceanospirillaceae', 'familiy_Oceanospirillales_incertae_sedis', 'familiy_Pasteurellaceae', 'familiy_Phyllobacteriaceae', 'familiy_Piscirickettsiaceae', 'familiy_Pseudoalteromonadaceae', 'familiy_Pseudomonadaceae', 'familiy_Psychromonadaceae', 'familiy_Rhizobiaceae', 'familiy_Rhodobacteraceae', 'familiy_Rhodospirillaceae', 'familiy_Salinisphaeraceae', 'familiy_Simiduia', 'familiy_Sinobacteraceae', 'familiy_Sphingomonadaceae', 'familiy_Vibrionaceae', 'familiy_Xanthobacteraceae', 'familiy_Xanthomonadaceae']\n"
     ]
    }
   ],
   "source": [
    "print(families)"
   ]
  },
  {
   "cell_type": "code",
   "execution_count": 49,
   "id": "9ad2c866",
   "metadata": {},
   "outputs": [
    {
     "data": {
      "text/plain": [
       "39"
      ]
     },
     "execution_count": 49,
     "metadata": {},
     "output_type": "execute_result"
    }
   ],
   "source": [
    "len(families)"
   ]
  },
  {
   "cell_type": "code",
   "execution_count": 50,
   "id": "8ea215d1",
   "metadata": {},
   "outputs": [],
   "source": [
    "# Splitting the human dataset into the training set and test set\n",
    "from sklearn.model_selection import train_test_split\n",
    "X_train_f, X_test_f, y_train_f, y_test_f = train_test_split(X, \n",
    "                                                    labels_families, \n",
    "                                                    test_size = 0.10, \n",
    "                                                    random_state=42)"
   ]
  },
  {
   "cell_type": "code",
   "execution_count": 51,
   "id": "ec0d3811",
   "metadata": {},
   "outputs": [
    {
     "name": "stdout",
     "output_type": "stream",
     "text": [
      "(25401, 11386484)\n",
      "(2823, 11386484)\n"
     ]
    }
   ],
   "source": [
    "print(X_train_f.shape)\n",
    "print(X_test_f.shape)"
   ]
  },
  {
   "cell_type": "code",
   "execution_count": 52,
   "id": "63631b4f",
   "metadata": {},
   "outputs": [
    {
     "data": {
      "text/plain": [
       "MultinomialNB(alpha=0.1)"
      ]
     },
     "execution_count": 52,
     "metadata": {},
     "output_type": "execute_result"
    }
   ],
   "source": [
    "### Multinomial Naive Bayes Classifier ###\n",
    "# The alpha parameter was determined by grid search previously\n",
    "from sklearn.naive_bayes import MultinomialNB\n",
    "classifier_f = MultinomialNB(alpha=0.1)\n",
    "classifier_f.fit(X_train_f, y_train_f)"
   ]
  },
  {
   "cell_type": "code",
   "execution_count": 53,
   "id": "5118cede",
   "metadata": {},
   "outputs": [
    {
     "data": {
      "text/plain": [
       "array([38, 30, 30, ..., 30, 33, 30], dtype=int64)"
      ]
     },
     "execution_count": 53,
     "metadata": {},
     "output_type": "execute_result"
    }
   ],
   "source": [
    "y_pred_f = classifier_f.predict(X_test_f)\n",
    "y_pred_f"
   ]
  },
  {
   "cell_type": "code",
   "execution_count": 54,
   "id": "a9c4755b",
   "metadata": {},
   "outputs": [
    {
     "name": "stdout",
     "output_type": "stream",
     "text": [
      "Confusion matrix\n",
      "\n",
      "Predicted  0    1   2   3   4   5   6   7   8   9   ...  29   30  31  32  33  \\\n",
      "Actual                                              ...                        \n",
      "0          19    0   0   0   0   0   0   0   0   0  ...   0    0   0   0   0   \n",
      "1           0  115   0   0   0   0   0   0   0   0  ...   0    0   0   0   0   \n",
      "2           0    0  29   0   0   0   0   0   0   0  ...   0    0   0   0   1   \n",
      "3           0    0   0  76   0   0   0   0   0   0  ...   0    0   0   0   0   \n",
      "4           0    0   0   0  28   0   0   0   0   0  ...   0    0   0   0   0   \n",
      "5           0    0   0   0   0  60   0   0   0   0  ...   0    0   0   0   0   \n",
      "6           0    0   0   0   0   0  48   0   0   0  ...   0    0   0   0   0   \n",
      "7           0    1   0   0   0   0   0  27   0   0  ...   0    0   0   0   0   \n",
      "8           0    0   0   0   0   0   1   0  28   0  ...   0    0   0   0   0   \n",
      "9           0    0   0   0   0   0   0   0   0  47  ...   0    0   0   0   0   \n",
      "10          0    0   0   0   0   0   0   1   0   0  ...   0    0   0   0   0   \n",
      "11          0    0   0   0   0   0   0   0   0   0  ...   0    0   0   0   0   \n",
      "12          0    0   0   0   0   0   0   0   0   0  ...   0    0   0   0   0   \n",
      "13          0    0   0   0   0   0   0   0   0   0  ...   0    0   0   0   0   \n",
      "14          0    0   0   0   0   0   0   0   0   0  ...   2    0   0   0   0   \n",
      "15          0    0   0   0   0   0   0   0   0   0  ...   0    0   0   0   0   \n",
      "16          1    0   0   0   0   0   0   1   0   0  ...   0    0   0   0   0   \n",
      "17          0    0   0   0   0   0   0   0   0   0  ...   0    0   0   0   0   \n",
      "18          0    0   0   0   0   0   0   0   0   0  ...   0    0   0   0   0   \n",
      "19          0    0   0   0   0   0   0   0   0   0  ...   0    0   0   0   0   \n",
      "20          0    0   0   0   0   0   0   0   0   0  ...   0    0   0   0   0   \n",
      "21          0    0   0   0   0   0   0   0   0   0  ...   0    0   0   0   1   \n",
      "22          0    0   0   0   0   0   0   0   0   0  ...   0    0   0   0   0   \n",
      "23          0    0   0   0   0   0   0   0   0   0  ...   0    0   0   0   0   \n",
      "24          0    0   0   0   0   0   0   0   0   0  ...   4    1   0   0   0   \n",
      "25          0    1   0   0   0   0   0   0   0   0  ...   0    0   0   0   0   \n",
      "26          0    0   0   0   0   0   0   0   0   0  ...   0    0   0   0   0   \n",
      "27          0    0   0   0   0   0   0   0   0   0  ...   0    0   0   0   0   \n",
      "28          0    0   0   0   0   0   0   0   0   0  ...   0    0   0   0   0   \n",
      "29          0    0   0   0   0   0   0   0   0   0  ...  63    0   0   0   0   \n",
      "30          0    0   0   2   0   0   0   0   0   0  ...   6  422   3   0   0   \n",
      "31          0    0   0   0   0   0   0   0   0   1  ...   0    0  88   0   0   \n",
      "32          0    0   0   0   0   0   0   0   0   0  ...   0    0   0  28   0   \n",
      "33          0    2   3   0   0   0   0   0   0   0  ...   0    0   0   0  21   \n",
      "34          0    0   0   0   0   0   0   0   0   0  ...   0    0   0   0   0   \n",
      "35          0    0   0   0   0   0   0   0   0   5  ...   0    0   0   0   0   \n",
      "36          0    0   0   0   0   0   0   0   0   0  ...   0    0   0   0   0   \n",
      "37          0    0   0   0   0   0   0   0   0   0  ...   0    0   0   0   0   \n",
      "38          0    0   0   0   0   0   0   0   0   0  ...   0    0   0   0   0   \n",
      "\n",
      "Predicted  34   35  36   37   38  \n",
      "Actual                            \n",
      "0           0    0   0    0    0  \n",
      "1           0    0   1    0    0  \n",
      "2           0    0   0    0    0  \n",
      "3           0    0   0    0    0  \n",
      "4           0    0   0    0    0  \n",
      "5           0    0   0    1    0  \n",
      "6           0    0   0    0    0  \n",
      "7           0    0   0    0    0  \n",
      "8           0    1   0    0    0  \n",
      "9           0    5   0    0    0  \n",
      "10          0    0   0    0    0  \n",
      "11          0    0   0    0    0  \n",
      "12          0    0   0    0    0  \n",
      "13          0    0   1    0    0  \n",
      "14          0    0   0    0    0  \n",
      "15          0    0   0    0    0  \n",
      "16          0    0   0    0    0  \n",
      "17          0    0   0    0    0  \n",
      "18          0    0   0    0    0  \n",
      "19          0    0   0    0    0  \n",
      "20          0    0   0    0    0  \n",
      "21          0    0   0    0    0  \n",
      "22          0    0   0    0    0  \n",
      "23          0    0   4    0    0  \n",
      "24          0    0   0    2    0  \n",
      "25          0    0   0    0    0  \n",
      "26          0    0   0    0    0  \n",
      "27          0    0   0    0    0  \n",
      "28          0    0   0    0    0  \n",
      "29          0    0   0    0    0  \n",
      "30          0    0   0    4    0  \n",
      "31          0    0   0    0    0  \n",
      "32          0    0   0    0    0  \n",
      "33          0    0   0    0    2  \n",
      "34         17    0   0    0    0  \n",
      "35          0  116   0    1    0  \n",
      "36          0    0  66    0    0  \n",
      "37          0    0   0  164    0  \n",
      "38          0    0   0    0  128  \n",
      "\n",
      "[39 rows x 39 columns]\n",
      "accuracy = 0.959 \n",
      "precision = 0.961 \n",
      "recall = 0.959 \n",
      "f1 = 0.960\n"
     ]
    }
   ],
   "source": [
    "print(\"Confusion matrix\\n\")\n",
    "print(pd.crosstab(pd.Series(y_test_f, name='Actual'), pd.Series(y_pred_f, name='Predicted')))\n",
    "def get_metrics(y_test, y_predicted):\n",
    "    accuracy = accuracy_score(y_test, y_predicted)\n",
    "    precision = precision_score(y_test, y_predicted, average='weighted')\n",
    "    recall = recall_score(y_test, y_predicted, average='weighted')\n",
    "    f1 = f1_score(y_test, y_predicted, average='weighted')\n",
    "    return accuracy, precision, recall, f1\n",
    "accuracy, precision, recall, f1 = get_metrics(y_test_f, y_pred_f)\n",
    "print(\"accuracy = %.3f \\nprecision = %.3f \\nrecall = %.3f \\nf1 = %.3f\" % (accuracy, precision, recall, f1))"
   ]
  },
  {
   "cell_type": "code",
   "execution_count": 55,
   "id": "103cff7c",
   "metadata": {},
   "outputs": [],
   "source": [
    "def predict_f(seq):\n",
    "    if type(seq)== str:\n",
    "        seq = [seq]\n",
    "    return classifier_f.predict(cv.transform(seq))\n",
    "\n",
    "def find_family(seq):\n",
    "    pred = predict_f(seq)\n",
    "    return [families[i] for i in pred]"
   ]
  },
  {
   "cell_type": "code",
   "execution_count": 56,
   "id": "cfb8e078",
   "metadata": {},
   "outputs": [
    {
     "data": {
      "text/plain": [
       "30"
      ]
     },
     "execution_count": 56,
     "metadata": {},
     "output_type": "execute_result"
    }
   ],
   "source": [
    "predict_f(human_texts[3]).item()"
   ]
  },
  {
   "cell_type": "code",
   "execution_count": 57,
   "id": "4782bfb3",
   "metadata": {},
   "outputs": [
    {
     "data": {
      "text/plain": [
       "['familiy_Moritellaceae',\n",
       " 'familiy_Rhodobacteraceae',\n",
       " 'familiy_Vibrionaceae',\n",
       " 'familiy_Rhodobacteraceae',\n",
       " 'familiy_Ferrimonadaceae']"
      ]
     },
     "execution_count": 57,
     "metadata": {},
     "output_type": "execute_result"
    }
   ],
   "source": [
    "find_family(human_texts[0:5])"
   ]
  },
  {
   "cell_type": "markdown",
   "id": "e05bf75d",
   "metadata": {},
   "source": [
    "# GENUS"
   ]
  },
  {
   "cell_type": "code",
   "execution_count": 58,
   "id": "32401dd7",
   "metadata": {
    "scrolled": true
   },
   "outputs": [
    {
     "name": "stdout",
     "output_type": "stream",
     "text": [
      "['Actinobacillus', 'Afipia', 'Agarivorans', 'Aggregatibacter', 'Algimonas', 'Aliidiomarina', 'Aliiroseovarius', 'Allochromatium', 'Alteromonas', 'Amphritea', 'Amylibacter', 'Ancylobacter', 'Aquaspirillum', 'Azorhizobium', 'Brevundimonas', 'Caulobacter', 'Celeribacter', 'Cellvibrio', 'Chelonobacter', 'Chitinibacter', 'Chromohalobacter', 'Cobetia', 'Coxiella', 'Croceicoccus', 'Erythrobacter', 'Falsochrobactrum', 'Ferrimonas', 'Ferrovum', 'Hahella', 'Halovibrio', 'Henriciella', 'Histophilus', 'Kingella', 'Labrys', 'Legionella', 'Leisingera', 'Loktanella', 'Lucibacterium', 'Luteibacter', 'Marinobacter', 'Marinomonas', 'Marinospirillum', 'Maritalea', 'Marivita', 'Mesorhizobium', 'Methylobacillus', 'Moritella', 'Nautella', 'Necropsobacter', 'Neisseria', 'Neorhizobium', 'Nevskia', 'Nicoletella', 'Nitrincola', 'Nitrosococcus', 'Niveispirillum', 'Novispirillum', 'Oceanisphaera', 'Pannonibacter', 'Paraglaciecola', 'Pedomicrobium', 'Pelagibacterium', 'Pelagibius', 'Phaeobacter', 'Phocoenobacter', 'Photobacterium', 'Phyllobacterium', 'Planktomarina', 'Polymorphobacter', 'Ponticoccus', 'Pseudogulbenkiania', 'Pseudophaeobacter', 'Pseudoxanthomonas', 'Psychromonas', 'Psychrosphaera', 'Rhizobium', 'Rhizorhabdus', 'Rhodobaca', 'Rhodopseudomonas', 'Rhodovulum', 'Roseivivax', 'Ruegeria', 'Sagittula', 'Salicola', 'Salinisphaera', 'Salinivibrio', 'Shinella', 'Simiduia', 'Sphingomonas', 'Sphingorhabdus', 'Sphingosinicella', 'Starkeya', 'Stenotrophomonas', 'Tardiphaga', 'Teredinibacter', 'Thalassotalea', 'Thermomonas', 'Thioalkalimicrobium', 'Xanthobacter', 'Zymobacter'] \n",
      " 100\n"
     ]
    }
   ],
   "source": [
    "print(list(sg.groupby('Genus').count().index),'\\n', len(sg.groupby('Genus').count().index))"
   ]
  },
  {
   "cell_type": "code",
   "execution_count": 59,
   "id": "3186a00d",
   "metadata": {},
   "outputs": [
    {
     "name": "stdout",
     "output_type": "stream",
     "text": [
      "[46 82 37 ...  6 13 92] 28224\n"
     ]
    }
   ],
   "source": [
    "genes = list(pd.get_dummies(sg['Genus']).columns)\n",
    "genes = ['genus_' + i for i in genes]\n",
    "\n",
    "labels_genes = np.argmax(np.array(pd.get_dummies(sg['Genus'])), axis=1)\n",
    "print(labels_genes, len(labels_genes))"
   ]
  },
  {
   "cell_type": "code",
   "execution_count": 60,
   "id": "f724488b",
   "metadata": {
    "scrolled": true
   },
   "outputs": [
    {
     "name": "stdout",
     "output_type": "stream",
     "text": [
      "['genus_Actinobacillus', 'genus_Afipia', 'genus_Agarivorans', 'genus_Aggregatibacter', 'genus_Algimonas', 'genus_Aliidiomarina', 'genus_Aliiroseovarius', 'genus_Allochromatium', 'genus_Alteromonas', 'genus_Amphritea', 'genus_Amylibacter', 'genus_Ancylobacter', 'genus_Aquaspirillum', 'genus_Azorhizobium', 'genus_Brevundimonas', 'genus_Caulobacter', 'genus_Celeribacter', 'genus_Cellvibrio', 'genus_Chelonobacter', 'genus_Chitinibacter', 'genus_Chromohalobacter', 'genus_Cobetia', 'genus_Coxiella', 'genus_Croceicoccus', 'genus_Erythrobacter', 'genus_Falsochrobactrum', 'genus_Ferrimonas', 'genus_Ferrovum', 'genus_Hahella', 'genus_Halovibrio', 'genus_Henriciella', 'genus_Histophilus', 'genus_Kingella', 'genus_Labrys', 'genus_Legionella', 'genus_Leisingera', 'genus_Loktanella', 'genus_Lucibacterium', 'genus_Luteibacter', 'genus_Marinobacter', 'genus_Marinomonas', 'genus_Marinospirillum', 'genus_Maritalea', 'genus_Marivita', 'genus_Mesorhizobium', 'genus_Methylobacillus', 'genus_Moritella', 'genus_Nautella', 'genus_Necropsobacter', 'genus_Neisseria', 'genus_Neorhizobium', 'genus_Nevskia', 'genus_Nicoletella', 'genus_Nitrincola', 'genus_Nitrosococcus', 'genus_Niveispirillum', 'genus_Novispirillum', 'genus_Oceanisphaera', 'genus_Pannonibacter', 'genus_Paraglaciecola', 'genus_Pedomicrobium', 'genus_Pelagibacterium', 'genus_Pelagibius', 'genus_Phaeobacter', 'genus_Phocoenobacter', 'genus_Photobacterium', 'genus_Phyllobacterium', 'genus_Planktomarina', 'genus_Polymorphobacter', 'genus_Ponticoccus', 'genus_Pseudogulbenkiania', 'genus_Pseudophaeobacter', 'genus_Pseudoxanthomonas', 'genus_Psychromonas', 'genus_Psychrosphaera', 'genus_Rhizobium', 'genus_Rhizorhabdus', 'genus_Rhodobaca', 'genus_Rhodopseudomonas', 'genus_Rhodovulum', 'genus_Roseivivax', 'genus_Ruegeria', 'genus_Sagittula', 'genus_Salicola', 'genus_Salinisphaera', 'genus_Salinivibrio', 'genus_Shinella', 'genus_Simiduia', 'genus_Sphingomonas', 'genus_Sphingorhabdus', 'genus_Sphingosinicella', 'genus_Starkeya', 'genus_Stenotrophomonas', 'genus_Tardiphaga', 'genus_Teredinibacter', 'genus_Thalassotalea', 'genus_Thermomonas', 'genus_Thioalkalimicrobium', 'genus_Xanthobacter', 'genus_Zymobacter']\n"
     ]
    },
    {
     "data": {
      "text/plain": [
       "100"
      ]
     },
     "execution_count": 60,
     "metadata": {},
     "output_type": "execute_result"
    }
   ],
   "source": [
    "print(genes)\n",
    "len(genes)"
   ]
  },
  {
   "cell_type": "code",
   "execution_count": 61,
   "id": "3655f38c",
   "metadata": {},
   "outputs": [],
   "source": [
    "# Splitting the human dataset into the training set and test set\n",
    "from sklearn.model_selection import train_test_split\n",
    "X_train_g, X_test_g, y_train_g, y_test_g = train_test_split(X, \n",
    "                                                    labels_genes, \n",
    "                                                    test_size = 0.10, \n",
    "                                                    random_state=42)"
   ]
  },
  {
   "cell_type": "code",
   "execution_count": 62,
   "id": "ef7f525b",
   "metadata": {},
   "outputs": [
    {
     "name": "stdout",
     "output_type": "stream",
     "text": [
      "(25401, 11386484)\n",
      "(2823, 11386484)\n"
     ]
    }
   ],
   "source": [
    "print(X_train_g.shape)\n",
    "print(X_test_g.shape)"
   ]
  },
  {
   "cell_type": "code",
   "execution_count": 63,
   "id": "04facc07",
   "metadata": {},
   "outputs": [
    {
     "data": {
      "text/plain": [
       "MultinomialNB(alpha=0.1)"
      ]
     },
     "execution_count": 63,
     "metadata": {},
     "output_type": "execute_result"
    }
   ],
   "source": [
    "### Multinomial Naive Bayes Classifier ###\n",
    "# The alpha parameter was determined by grid search previously\n",
    "from sklearn.naive_bayes import MultinomialNB\n",
    "classifier_g = MultinomialNB(alpha=0.1)\n",
    "classifier_g.fit(X_train_g, y_train_g)"
   ]
  },
  {
   "cell_type": "code",
   "execution_count": 64,
   "id": "f92b6068",
   "metadata": {},
   "outputs": [
    {
     "data": {
      "text/plain": [
       "array([96, 67, 10, ..., 47, 87, 69], dtype=int64)"
      ]
     },
     "execution_count": 64,
     "metadata": {},
     "output_type": "execute_result"
    }
   ],
   "source": [
    "y_pred_g = classifier_g.predict(X_test_g)\n",
    "y_pred_g"
   ]
  },
  {
   "cell_type": "code",
   "execution_count": 65,
   "id": "3495c5fb",
   "metadata": {},
   "outputs": [
    {
     "name": "stdout",
     "output_type": "stream",
     "text": [
      "Confusion matrix\n",
      "\n",
      "Predicted  0   1   2   3   4   5   6   7   8   9   ...  90  91  92  93  94  \\\n",
      "Actual                                             ...                       \n",
      "0          17   0   0   1   0   0   0   0   0   0  ...   0   0   0   0   0   \n",
      "1           0  16   0   0   0   0   0   0   0   0  ...   0   0   0   0   0   \n",
      "2           0   0  26   0   0   0   0   0   0   0  ...   0   0   0   0   0   \n",
      "3           0   0   0  39   0   0   0   0   0   0  ...   0   0   0   0   0   \n",
      "4           0   0   0   0  29   0   0   0   0   0  ...   0   0   0   0   0   \n",
      "...        ..  ..  ..  ..  ..  ..  ..  ..  ..  ..  ...  ..  ..  ..  ..  ..   \n",
      "95          0   0   0   0   0   0   0   0   0   0  ...   0   0   0   0   0   \n",
      "96          0   0   0   0   0   0   0   0   0   0  ...   0   0   4   0   0   \n",
      "97          0   0   0   0   0   0   0   0   0   0  ...   0   0   0   0   0   \n",
      "98          0   0   0   0   0   0   0   0   0   0  ...   0   0   0   0   0   \n",
      "99          0   0   0   0   0   0   0   0   0   0  ...   0   0   0   0   0   \n",
      "\n",
      "Predicted  95  96  97  98  99  \n",
      "Actual                         \n",
      "0           0   0   0   0   0  \n",
      "1           0   0   0   0   0  \n",
      "2           0   0   0   0   0  \n",
      "3           0   0   0   0   0  \n",
      "4           0   0   0   0   0  \n",
      "...        ..  ..  ..  ..  ..  \n",
      "95         28   0   0   0   0  \n",
      "96          0  26   0   0   0  \n",
      "97          1   0  38   0   0  \n",
      "98          0   0   0  31   0  \n",
      "99          0   0   0   0  51  \n",
      "\n",
      "[100 rows x 100 columns]\n",
      "accuracy = 0.887 \n",
      "precision = 0.895 \n",
      "recall = 0.887 \n",
      "f1 = 0.888\n"
     ]
    }
   ],
   "source": [
    "print(\"Confusion matrix\\n\")\n",
    "print(pd.crosstab(pd.Series(y_test_g, name='Actual'), pd.Series(y_pred_g, name='Predicted')))\n",
    "def get_metrics(y_test, y_predicted):\n",
    "    accuracy = accuracy_score(y_test, y_predicted)\n",
    "    precision = precision_score(y_test, y_predicted, average='weighted')\n",
    "    recall = recall_score(y_test, y_predicted, average='weighted')\n",
    "    f1 = f1_score(y_test, y_predicted, average='weighted')\n",
    "    return accuracy, precision, recall, f1\n",
    "accuracy, precision, recall, f1 = get_metrics(y_test_g, y_pred_g)\n",
    "print(\"accuracy = %.3f \\nprecision = %.3f \\nrecall = %.3f \\nf1 = %.3f\" % (accuracy, precision, recall, f1))"
   ]
  },
  {
   "cell_type": "code",
   "execution_count": 66,
   "id": "94844ce7",
   "metadata": {},
   "outputs": [],
   "source": [
    "def predict_g(seq):\n",
    "    if type(seq)== str:\n",
    "        seq = [seq]\n",
    "    return classifier_g.predict(cv.transform(seq))\n",
    "\n",
    "def find_genus(seq):\n",
    "    pred = predict_g(seq)\n",
    "    return [genes[i] for i in pred]"
   ]
  },
  {
   "cell_type": "code",
   "execution_count": 67,
   "id": "687457fe",
   "metadata": {},
   "outputs": [
    {
     "data": {
      "text/plain": [
       "77"
      ]
     },
     "execution_count": 67,
     "metadata": {},
     "output_type": "execute_result"
    }
   ],
   "source": [
    "predict_g(human_texts[3]).item()"
   ]
  },
  {
   "cell_type": "code",
   "execution_count": 68,
   "id": "eca410f7",
   "metadata": {
    "scrolled": true
   },
   "outputs": [
    {
     "data": {
      "text/plain": [
       "['genus_Moritella',\n",
       " 'genus_Sagittula',\n",
       " 'genus_Lucibacterium',\n",
       " 'genus_Rhodobaca',\n",
       " 'genus_Ferrimonas']"
      ]
     },
     "execution_count": 68,
     "metadata": {},
     "output_type": "execute_result"
    }
   ],
   "source": [
    "find_genus(human_texts[0:5])"
   ]
  },
  {
   "cell_type": "markdown",
   "id": "caedeca6",
   "metadata": {},
   "source": [
    "# Test"
   ]
  },
  {
   "cell_type": "code",
   "execution_count": 69,
   "id": "9fe09f46",
   "metadata": {},
   "outputs": [],
   "source": [
    "def predict(seq):\n",
    "    if type(seq) != list:\n",
    "        seq = [seq]\n",
    "\n",
    "    t = pd.DataFrame()\n",
    "    t['sequence'] = [str(i) for i in seq]\n",
    "    t_texts = list(t.apply(lambda x: getKmers(x['sequence']), axis=1))\n",
    "    for item in range(len(t_texts)):\n",
    "        t_texts[item] = ' '.join(t_texts[item])\n",
    "    \n",
    "    class_ = find_class(t_texts)\n",
    "    order = find_order(t_texts)\n",
    "    family = find_family(t_texts)\n",
    "    genus = find_genus(t_texts)\n",
    "    \n",
    "    t['Class'] = class_\n",
    "    t['Order'] = order\n",
    "    t['Family'] = family\n",
    "    t['Genus'] = genus\n",
    "    return t"
   ]
  },
  {
   "cell_type": "code",
   "execution_count": 70,
   "id": "43b35210",
   "metadata": {},
   "outputs": [
    {
     "data": {
      "text/html": [
       "<div>\n",
       "<style scoped>\n",
       "    .dataframe tbody tr th:only-of-type {\n",
       "        vertical-align: middle;\n",
       "    }\n",
       "\n",
       "    .dataframe tbody tr th {\n",
       "        vertical-align: top;\n",
       "    }\n",
       "\n",
       "    .dataframe thead th {\n",
       "        text-align: right;\n",
       "    }\n",
       "</style>\n",
       "<table border=\"1\" class=\"dataframe\">\n",
       "  <thead>\n",
       "    <tr style=\"text-align: right;\">\n",
       "      <th></th>\n",
       "      <th>sequence</th>\n",
       "      <th>Class</th>\n",
       "      <th>Order</th>\n",
       "      <th>Family</th>\n",
       "      <th>Genus</th>\n",
       "    </tr>\n",
       "  </thead>\n",
       "  <tbody>\n",
       "    <tr>\n",
       "      <th>0</th>\n",
       "      <td>GCCCCGGGCTCAACCTGGGAACTGCATTTCGAACTGGCAAACTAGA...</td>\n",
       "      <td>class_Alphaproteobacteria</td>\n",
       "      <td>order_Rhizobiales</td>\n",
       "      <td>familiy_Rhodobacteraceae</td>\n",
       "      <td>genus_Zymobacter</td>\n",
       "    </tr>\n",
       "    <tr>\n",
       "      <th>1</th>\n",
       "      <td>ACTGCCTCCAAAACTATCAGTCTAGAGTTCGAGAGAGGTGAGTGGA...</td>\n",
       "      <td>class_Alphaproteobacteria</td>\n",
       "      <td>order_Rhizobiales</td>\n",
       "      <td>familiy_Rhodobacteraceae</td>\n",
       "      <td>genus_Zymobacter</td>\n",
       "    </tr>\n",
       "    <tr>\n",
       "      <th>2</th>\n",
       "      <td>TAGCGGCGTCGTTTGACGTTAGCGACAGAAGAAGCACCGGCTAACT...</td>\n",
       "      <td>class_Alphaproteobacteria</td>\n",
       "      <td>order_Rhizobiales</td>\n",
       "      <td>familiy_Rhodobacteraceae</td>\n",
       "      <td>genus_Zymobacter</td>\n",
       "    </tr>\n",
       "    <tr>\n",
       "      <th>3</th>\n",
       "      <td>CTAGCGTTGTTCGGAATTACTGGGCGTATAGCGCGCGTTAGGCGGA...</td>\n",
       "      <td>class_Alphaproteobacteria</td>\n",
       "      <td>order_Rhizobiales</td>\n",
       "      <td>familiy_Rhodobacteraceae</td>\n",
       "      <td>genus_Zymobacter</td>\n",
       "    </tr>\n",
       "    <tr>\n",
       "      <th>4</th>\n",
       "      <td>CATGGCTCAGATTGAACGCTGGCGGCAGGCCTAACACATGCAAGTC...</td>\n",
       "      <td>class_Alphaproteobacteria</td>\n",
       "      <td>order_Rhizobiales</td>\n",
       "      <td>familiy_Rhodobacteraceae</td>\n",
       "      <td>genus_Zymobacter</td>\n",
       "    </tr>\n",
       "  </tbody>\n",
       "</table>\n",
       "</div>"
      ],
      "text/plain": [
       "                                            sequence  \\\n",
       "0  GCCCCGGGCTCAACCTGGGAACTGCATTTCGAACTGGCAAACTAGA...   \n",
       "1  ACTGCCTCCAAAACTATCAGTCTAGAGTTCGAGAGAGGTGAGTGGA...   \n",
       "2  TAGCGGCGTCGTTTGACGTTAGCGACAGAAGAAGCACCGGCTAACT...   \n",
       "3  CTAGCGTTGTTCGGAATTACTGGGCGTATAGCGCGCGTTAGGCGGA...   \n",
       "4  CATGGCTCAGATTGAACGCTGGCGGCAGGCCTAACACATGCAAGTC...   \n",
       "\n",
       "                       Class              Order                    Family  \\\n",
       "0  class_Alphaproteobacteria  order_Rhizobiales  familiy_Rhodobacteraceae   \n",
       "1  class_Alphaproteobacteria  order_Rhizobiales  familiy_Rhodobacteraceae   \n",
       "2  class_Alphaproteobacteria  order_Rhizobiales  familiy_Rhodobacteraceae   \n",
       "3  class_Alphaproteobacteria  order_Rhizobiales  familiy_Rhodobacteraceae   \n",
       "4  class_Alphaproteobacteria  order_Rhizobiales  familiy_Rhodobacteraceae   \n",
       "\n",
       "              Genus  \n",
       "0  genus_Zymobacter  \n",
       "1  genus_Zymobacter  \n",
       "2  genus_Zymobacter  \n",
       "3  genus_Zymobacter  \n",
       "4  genus_Zymobacter  "
      ]
     },
     "execution_count": 70,
     "metadata": {},
     "output_type": "execute_result"
    }
   ],
   "source": [
    "predict(sg_reads_seq[0:5])"
   ]
  },
  {
   "cell_type": "code",
   "execution_count": 71,
   "id": "74bfe30b",
   "metadata": {},
   "outputs": [
    {
     "data": {
      "text/html": [
       "<div>\n",
       "<style scoped>\n",
       "    .dataframe tbody tr th:only-of-type {\n",
       "        vertical-align: middle;\n",
       "    }\n",
       "\n",
       "    .dataframe tbody tr th {\n",
       "        vertical-align: top;\n",
       "    }\n",
       "\n",
       "    .dataframe thead th {\n",
       "        text-align: right;\n",
       "    }\n",
       "</style>\n",
       "<table border=\"1\" class=\"dataframe\">\n",
       "  <thead>\n",
       "    <tr style=\"text-align: right;\">\n",
       "      <th></th>\n",
       "      <th>0</th>\n",
       "      <th>1</th>\n",
       "      <th>2</th>\n",
       "      <th>3</th>\n",
       "    </tr>\n",
       "  </thead>\n",
       "  <tbody>\n",
       "    <tr>\n",
       "      <th>0</th>\n",
       "      <td>Gammaproteobacteria</td>\n",
       "      <td>Alteromonadales</td>\n",
       "      <td>Moritellaceae</td>\n",
       "      <td>Moritella</td>\n",
       "    </tr>\n",
       "    <tr>\n",
       "      <th>1</th>\n",
       "      <td>Alphaproteobacteria</td>\n",
       "      <td>Rhodobacterales</td>\n",
       "      <td>Rhodobacteraceae</td>\n",
       "      <td>Sagittula</td>\n",
       "    </tr>\n",
       "    <tr>\n",
       "      <th>2</th>\n",
       "      <td>Gammaproteobacteria</td>\n",
       "      <td>\\\"Vibrionales\\\"</td>\n",
       "      <td>Vibrionaceae</td>\n",
       "      <td>Lucibacterium</td>\n",
       "    </tr>\n",
       "    <tr>\n",
       "      <th>3</th>\n",
       "      <td>Alphaproteobacteria</td>\n",
       "      <td>Rhodobacterales</td>\n",
       "      <td>Rhodobacteraceae</td>\n",
       "      <td>Rhodobaca</td>\n",
       "    </tr>\n",
       "    <tr>\n",
       "      <th>4</th>\n",
       "      <td>Gammaproteobacteria</td>\n",
       "      <td>Alteromonadales</td>\n",
       "      <td>Ferrimonadaceae</td>\n",
       "      <td>Ferrimonas</td>\n",
       "    </tr>\n",
       "  </tbody>\n",
       "</table>\n",
       "</div>"
      ],
      "text/plain": [
       "                     0                1                 2              3\n",
       "0  Gammaproteobacteria  Alteromonadales     Moritellaceae      Moritella\n",
       "1  Alphaproteobacteria  Rhodobacterales  Rhodobacteraceae      Sagittula\n",
       "2  Gammaproteobacteria  \\\"Vibrionales\\\"      Vibrionaceae  Lucibacterium\n",
       "3  Alphaproteobacteria  Rhodobacterales  Rhodobacteraceae      Rhodobaca\n",
       "4  Gammaproteobacteria  Alteromonadales   Ferrimonadaceae     Ferrimonas"
      ]
     },
     "execution_count": 71,
     "metadata": {},
     "output_type": "execute_result"
    }
   ],
   "source": [
    "pd.DataFrame(sg_reads_tax[0:5])"
   ]
  },
  {
   "cell_type": "code",
   "execution_count": 72,
   "id": "0050a551",
   "metadata": {},
   "outputs": [
    {
     "name": "stdout",
     "output_type": "stream",
     "text": [
      "GCCCCGGGCTCAACCTGGGAACTGCATTTCGAACTGGCAAACTAGAGTTCTTGAGAGGGTGGTAGAATTTCAGGTGTAGCGGTGAAATGCGAAGAGATCTGAAGGATTACCAGTGGCGAAGGCGGCCTACCGGCAACTATCCGACTCTCGGATGCGAAAGCGAGGTACCGGACGGGATCCGTTGAGCTGTATTTGCCCGCGGTAAATGGATTCCGCTAGCGGGACTCGGAGAGCCTTAGTGGAACCAC\n"
     ]
    }
   ],
   "source": [
    "print(sg_reads_seq[0])"
   ]
  },
  {
   "cell_type": "code",
   "execution_count": null,
   "id": "c01ba17c",
   "metadata": {},
   "outputs": [],
   "source": []
  }
 ],
 "metadata": {
  "kernelspec": {
   "display_name": "Python 3",
   "language": "python",
   "name": "python3"
  },
  "language_info": {
   "codemirror_mode": {
    "name": "ipython",
    "version": 3
   },
   "file_extension": ".py",
   "mimetype": "text/x-python",
   "name": "python",
   "nbconvert_exporter": "python",
   "pygments_lexer": "ipython3",
   "version": "3.8.8"
  }
 },
 "nbformat": 4,
 "nbformat_minor": 5
}
