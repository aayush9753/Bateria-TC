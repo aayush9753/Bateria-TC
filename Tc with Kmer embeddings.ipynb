{
 "cells": [
  {
   "cell_type": "markdown",
   "id": "8e355c06",
   "metadata": {},
   "source": [
    "https://towardsdatascience.com/multiclass-text-classification-using-lstm-in-pytorch-eac56baed8df\n",
    "\n",
    "https://www.kaggle.com/deshwalmahesh/nlp-beginner-1-rnn-lstm-gru-embeddings-glove"
   ]
  },
  {
   "cell_type": "code",
   "execution_count": 1,
   "id": "fc48d755",
   "metadata": {},
   "outputs": [],
   "source": [
    "from tqdm import tqdm, tqdm_notebook\n",
    "import numpy as np\n",
    "import os\n",
    "\n",
    "from pathlib import Path\n",
    "\n",
    "import pandas as pd\n",
    "import torch\n",
    "import torch.nn.functional as F\n",
    "import torch.nn as nn\n",
    "import torch.optim as optim\n",
    "from google_drive_downloader import GoogleDriveDownloader as gdd\n",
    "from sklearn.feature_extraction.text import CountVectorizer\n",
    "from torch.nn.utils.rnn import pack_padded_sequence, pad_packed_sequence\n",
    "from torch.utils.data import DataLoader, Dataset\n",
    "from tqdm import tqdm, tqdm_notebook\n",
    "\n",
    "random_state = 4\n",
    "from itertools import product\n",
    "from sklearn.model_selection import train_test_split\n",
    "from sklearn.feature_extraction.text import CountVectorizer\n",
    "import json\n",
    "import time\n",
    "\n",
    "from utils import *\n",
    "from models import *\n",
    "from training import *"
   ]
  },
  {
   "cell_type": "code",
   "execution_count": 2,
   "id": "0b380a6f",
   "metadata": {},
   "outputs": [],
   "source": [
    "path = 'data/16S-SG-reads.fa/16S-reads.fa'\n",
    "#Preprocessing\n",
    "# Loading, Cleaning and Labelling \n",
    "sg, tax_dict = preprocessing(path, size = 8)\n",
    "# Encoding\n",
    "sg_encoded = encoder(sg)"
   ]
  },
  {
   "cell_type": "markdown",
   "id": "513b0e68",
   "metadata": {},
   "source": [
    "# Dataset"
   ]
  },
  {
   "cell_type": "markdown",
   "id": "09bdaa1e",
   "metadata": {},
   "source": [
    "#### Train and Test Split"
   ]
  },
  {
   "cell_type": "code",
   "execution_count": 4,
   "id": "8261ddfd",
   "metadata": {},
   "outputs": [],
   "source": [
    "X_train, X_test, y_train, y_test = train_test_split(np.array(list(sg_encoded['encoded'])), \n",
    "                                                    np.array(list(sg_encoded['labels'])), \n",
    "                                                    test_size = 0.10, random_state=42)\n",
    "X_val, X_test, y_val, y_test = train_test_split(X_test, y_test, test_size = 0.5, random_state=42)"
   ]
  },
  {
   "cell_type": "code",
   "execution_count": 5,
   "id": "72249ae9",
   "metadata": {
    "scrolled": true
   },
   "outputs": [
    {
     "data": {
      "text/plain": [
       "(25401, 1411, 1412)"
      ]
     },
     "execution_count": 5,
     "metadata": {},
     "output_type": "execute_result"
    }
   ],
   "source": [
    "len(X_train), len(X_val), len(X_test)"
   ]
  },
  {
   "cell_type": "code",
   "execution_count": 9,
   "id": "99ba96c5",
   "metadata": {},
   "outputs": [],
   "source": [
    "#Dataset\n",
    "train = Dataset(X_train, y_train)\n",
    "val = Dataset(X_val, y_val)\n",
    "test = Dataset(X_test, y_test)\n",
    "\n",
    "#DataLoader\n",
    "train_loader = DataLoader(train, batch_size = 64, shuffle=True)\n",
    "val_loader = DataLoader(val, batch_size = 256, shuffle=True)\n",
    "test_loader = DataLoader(test, batch_size = 256, shuffle=True)"
   ]
  },
  {
   "cell_type": "markdown",
   "id": "035e653a",
   "metadata": {},
   "source": [
    "## Modeling"
   ]
  },
  {
   "cell_type": "code",
   "execution_count": 24,
   "id": "09a82209",
   "metadata": {},
   "outputs": [],
   "source": [
    "with open('vocab/word2idx.json') as json_file:\n",
    "    word2idx = json.load(json_file)\n",
    "hidden_size = 256\n",
    "in_neuron = len(word2idx)\n",
    "padding_idx = word2idx['pad']\n",
    "loss_fn = nn.CrossEntropyLoss()\n",
    "\n",
    "cuda = torch.cuda.is_available()\n",
    "lr = 0.001"
   ]
  },
  {
   "cell_type": "code",
   "execution_count": 25,
   "id": "30b0c884",
   "metadata": {},
   "outputs": [],
   "source": [
    "model_class = Network(in_neuron, padding_idx, hidden_size = hidden_size, \n",
    "                      out_neuron = tax_dict['Class'][-1], num_layers = 2,\n",
    "                     bidirectional = True)"
   ]
  },
  {
   "cell_type": "code",
   "execution_count": 26,
   "id": "46451db7",
   "metadata": {
    "scrolled": true
   },
   "outputs": [
    {
     "data": {
      "text/plain": [
       "Network(\n",
       "  (embedding): Embedding(74320, 128)\n",
       "  (lstm): LSTM(128, 256, num_layers=2, bidirectional=True)\n",
       "  (dropout): Dropout(p=0.13, inplace=False)\n",
       "  (dense): Linear(in_features=512, out_features=3, bias=True)\n",
       ")"
      ]
     },
     "execution_count": 26,
     "metadata": {},
     "output_type": "execute_result"
    }
   ],
   "source": [
    "model_class"
   ]
  },
  {
   "cell_type": "code",
   "execution_count": 27,
   "id": "a1ffae58",
   "metadata": {
    "scrolled": false
   },
   "outputs": [
    {
     "name": "stderr",
     "output_type": "stream",
     "text": [
      "Epoch: 1:   1%|▎                                                                       | 2/397 [00:00<00:46,  8.43it/s]"
     ]
    },
    {
     "name": "stdout",
     "output_type": "stream",
     "text": [
      "Batch : 0/397   Loss : 1.095173954963684   Accuracy : 0.5\n"
     ]
    },
    {
     "name": "stderr",
     "output_type": "stream",
     "text": [
      "Epoch: 1:  13%|█████████▎                                                             | 52/397 [00:05<00:37,  9.20it/s]"
     ]
    },
    {
     "name": "stdout",
     "output_type": "stream",
     "text": [
      "Batch : 50/397   Loss : 0.884985625743866   Accuracy : 0.5\n"
     ]
    },
    {
     "name": "stderr",
     "output_type": "stream",
     "text": [
      "Epoch: 1:  26%|█████████████████▉                                                    | 102/397 [00:11<00:33,  8.91it/s]"
     ]
    },
    {
     "name": "stdout",
     "output_type": "stream",
     "text": [
      "Batch : 100/397   Loss : 0.9168680310249329   Accuracy : 0.71875\n"
     ]
    },
    {
     "name": "stderr",
     "output_type": "stream",
     "text": [
      "Epoch: 1:  38%|██████████████████████████▊                                           | 152/397 [00:16<00:28,  8.69it/s]"
     ]
    },
    {
     "name": "stdout",
     "output_type": "stream",
     "text": [
      "Batch : 150/397   Loss : 0.3723166584968567   Accuracy : 0.890625\n"
     ]
    },
    {
     "name": "stderr",
     "output_type": "stream",
     "text": [
      "Epoch: 1:  51%|███████████████████████████████████▌                                  | 202/397 [00:22<00:21,  9.04it/s]"
     ]
    },
    {
     "name": "stdout",
     "output_type": "stream",
     "text": [
      "Batch : 200/397   Loss : 0.2491542100906372   Accuracy : 0.890625\n"
     ]
    },
    {
     "name": "stderr",
     "output_type": "stream",
     "text": [
      "Epoch: 1:  63%|████████████████████████████████████████████▍                         | 252/397 [00:28<00:15,  9.19it/s]"
     ]
    },
    {
     "name": "stdout",
     "output_type": "stream",
     "text": [
      "Batch : 250/397   Loss : 0.17124351859092712   Accuracy : 0.9375\n"
     ]
    },
    {
     "name": "stderr",
     "output_type": "stream",
     "text": [
      "Epoch: 1:  76%|█████████████████████████████████████████████████████▏                | 302/397 [00:33<00:10,  9.20it/s]"
     ]
    },
    {
     "name": "stdout",
     "output_type": "stream",
     "text": [
      "Batch : 300/397   Loss : 0.21080374717712402   Accuracy : 0.890625\n"
     ]
    },
    {
     "name": "stderr",
     "output_type": "stream",
     "text": [
      "Epoch: 1:  89%|██████████████████████████████████████████████████████████████        | 352/397 [00:38<00:04,  9.21it/s]"
     ]
    },
    {
     "name": "stdout",
     "output_type": "stream",
     "text": [
      "Batch : 350/397   Loss : 0.19441968202590942   Accuracy : 0.921875\n"
     ]
    },
    {
     "name": "stderr",
     "output_type": "stream",
     "text": [
      "Epoch: 1: 100%|██████████████████████████████████████████████████████████████████████| 397/397 [00:43<00:00,  9.06it/s]\n",
      "Epoch: 2:   0%|▏                                                                       | 1/397 [00:00<00:43,  9.01it/s]"
     ]
    },
    {
     "name": "stdout",
     "output_type": "stream",
     "text": [
      "End of Epoch: 1  |  Train Loss: 0.422  |  Val Loss: 0.118  |  Train Acc: 81.32%  |  Val Acc: 94.30%\n",
      "Batch : 0/397   Loss : 0.0191377904266119   Accuracy : 1.0\n"
     ]
    },
    {
     "name": "stderr",
     "output_type": "stream",
     "text": [
      "Epoch: 2:  13%|█████████▎                                                             | 52/397 [00:05<00:37,  9.13it/s]"
     ]
    },
    {
     "name": "stdout",
     "output_type": "stream",
     "text": [
      "Batch : 50/397   Loss : 0.06191684678196907   Accuracy : 1.0\n"
     ]
    },
    {
     "name": "stderr",
     "output_type": "stream",
     "text": [
      "Epoch: 2:  26%|█████████████████▉                                                    | 102/397 [00:11<00:33,  8.70it/s]"
     ]
    },
    {
     "name": "stdout",
     "output_type": "stream",
     "text": [
      "Batch : 100/397   Loss : 0.042649295181035995   Accuracy : 0.984375\n"
     ]
    },
    {
     "name": "stderr",
     "output_type": "stream",
     "text": [
      "Epoch: 2:  38%|██████████████████████████▊                                           | 152/397 [00:17<00:26,  9.10it/s]"
     ]
    },
    {
     "name": "stdout",
     "output_type": "stream",
     "text": [
      "Batch : 150/397   Loss : 0.041009869426488876   Accuracy : 1.0\n"
     ]
    },
    {
     "name": "stderr",
     "output_type": "stream",
     "text": [
      "Epoch: 2:  51%|███████████████████████████████████▌                                  | 202/397 [00:22<00:22,  8.79it/s]"
     ]
    },
    {
     "name": "stdout",
     "output_type": "stream",
     "text": [
      "Batch : 200/397   Loss : 0.08266737312078476   Accuracy : 0.984375\n"
     ]
    },
    {
     "name": "stderr",
     "output_type": "stream",
     "text": [
      "Epoch: 2:  63%|████████████████████████████████████████████▍                         | 252/397 [00:28<00:16,  8.78it/s]"
     ]
    },
    {
     "name": "stdout",
     "output_type": "stream",
     "text": [
      "Batch : 250/397   Loss : 0.011071768589317799   Accuracy : 1.0\n"
     ]
    },
    {
     "name": "stderr",
     "output_type": "stream",
     "text": [
      "Epoch: 2:  76%|█████████████████████████████████████████████████████▏                | 302/397 [00:33<00:10,  8.78it/s]"
     ]
    },
    {
     "name": "stdout",
     "output_type": "stream",
     "text": [
      "Batch : 300/397   Loss : 0.011874629184603691   Accuracy : 1.0\n"
     ]
    },
    {
     "name": "stderr",
     "output_type": "stream",
     "text": [
      "Epoch: 2:  89%|██████████████████████████████████████████████████████████████        | 352/397 [00:39<00:04,  9.18it/s]"
     ]
    },
    {
     "name": "stdout",
     "output_type": "stream",
     "text": [
      "Batch : 350/397   Loss : 0.04901648685336113   Accuracy : 0.984375\n"
     ]
    },
    {
     "name": "stderr",
     "output_type": "stream",
     "text": [
      "Epoch: 2: 100%|██████████████████████████████████████████████████████████████████████| 397/397 [00:44<00:00,  8.93it/s]\n",
      "Epoch: 3:   0%|▏                                                                       | 1/397 [00:00<00:43,  9.01it/s]"
     ]
    },
    {
     "name": "stdout",
     "output_type": "stream",
     "text": [
      "End of Epoch: 2  |  Train Loss: 0.046  |  Val Loss: 0.041  |  Train Acc: 98.83%  |  Val Acc: 98.31%\n",
      "Batch : 0/397   Loss : 0.014889195561408997   Accuracy : 1.0\n"
     ]
    },
    {
     "name": "stderr",
     "output_type": "stream",
     "text": [
      "Epoch: 3:  13%|█████████▎                                                             | 52/397 [00:05<00:38,  8.95it/s]"
     ]
    },
    {
     "name": "stdout",
     "output_type": "stream",
     "text": [
      "Batch : 50/397   Loss : 0.013180038891732693   Accuracy : 1.0\n"
     ]
    },
    {
     "name": "stderr",
     "output_type": "stream",
     "text": [
      "Epoch: 3:  15%|██████████▌                                                            | 59/397 [00:06<00:38,  8.80it/s]\n"
     ]
    },
    {
     "ename": "KeyboardInterrupt",
     "evalue": "",
     "output_type": "error",
     "traceback": [
      "\u001b[1;31m---------------------------------------------------------------------------\u001b[0m",
      "\u001b[1;31mKeyboardInterrupt\u001b[0m                         Traceback (most recent call last)",
      "\u001b[1;32m<ipython-input-27-3c340e170e84>\u001b[0m in \u001b[0;36m<module>\u001b[1;34m\u001b[0m\n\u001b[0;32m      5\u001b[0m \u001b[0mEPOCH\u001b[0m \u001b[1;33m=\u001b[0m \u001b[1;36m20\u001b[0m\u001b[1;33m\u001b[0m\u001b[1;33m\u001b[0m\u001b[0m\n\u001b[0;32m      6\u001b[0m \u001b[1;32mfor\u001b[0m \u001b[0mepoch\u001b[0m \u001b[1;32min\u001b[0m \u001b[0mrange\u001b[0m\u001b[1;33m(\u001b[0m\u001b[0mEPOCH\u001b[0m\u001b[1;33m)\u001b[0m\u001b[1;33m:\u001b[0m\u001b[1;33m\u001b[0m\u001b[1;33m\u001b[0m\u001b[0m\n\u001b[1;32m----> 7\u001b[1;33m     \u001b[0mtrain_loss\u001b[0m\u001b[1;33m,\u001b[0m \u001b[0mtrain_acc\u001b[0m \u001b[1;33m=\u001b[0m \u001b[0mtrain_network\u001b[0m\u001b[1;33m(\u001b[0m\u001b[0mmodel_class\u001b[0m\u001b[1;33m,\u001b[0m \u001b[0mtrain_loader\u001b[0m\u001b[1;33m,\u001b[0m \u001b[0moptimizer\u001b[0m\u001b[1;33m,\u001b[0m \u001b[0mloss_fn\u001b[0m\u001b[1;33m,\u001b[0m \u001b[0mepoch\u001b[0m\u001b[1;33m+\u001b[0m\u001b[1;36m1\u001b[0m\u001b[1;33m,\u001b[0m \u001b[0mtax\u001b[0m \u001b[1;33m=\u001b[0m \u001b[1;34m'Class'\u001b[0m\u001b[1;33m)\u001b[0m\u001b[1;33m\u001b[0m\u001b[1;33m\u001b[0m\u001b[0m\n\u001b[0m\u001b[0;32m      8\u001b[0m     \u001b[0mval_loss\u001b[0m\u001b[1;33m,\u001b[0m\u001b[0mval_acc\u001b[0m \u001b[1;33m=\u001b[0m \u001b[0mevaluate_network\u001b[0m\u001b[1;33m(\u001b[0m\u001b[0mmodel_class\u001b[0m\u001b[1;33m,\u001b[0m \u001b[0mtest_loader\u001b[0m\u001b[1;33m,\u001b[0m \u001b[0moptimizer\u001b[0m\u001b[1;33m,\u001b[0m\u001b[0mloss_fn\u001b[0m\u001b[1;33m,\u001b[0m \u001b[0mtax\u001b[0m \u001b[1;33m=\u001b[0m \u001b[1;34m'Class'\u001b[0m\u001b[1;33m)\u001b[0m\u001b[1;33m\u001b[0m\u001b[1;33m\u001b[0m\u001b[0m\n\u001b[0;32m      9\u001b[0m     \u001b[0mtqdm\u001b[0m\u001b[1;33m.\u001b[0m\u001b[0mwrite\u001b[0m\u001b[1;33m(\u001b[0m\u001b[1;34mf'''End of Epoch: {epoch+1}  |  Train Loss: {train_loss:.3f}  |  Val Loss: {val_loss:.3f}  |  Train Acc: {train_acc*100:.2f}%  |  Val Acc: {val_acc*100:.2f}%'''\u001b[0m\u001b[1;33m)\u001b[0m\u001b[1;33m\u001b[0m\u001b[1;33m\u001b[0m\u001b[0m\n",
      "\u001b[1;32m~\\bacteria_tc\\training.py\u001b[0m in \u001b[0;36mtrain_network\u001b[1;34m(network, train_iter, optimizer, loss_fn, epoch_num, tax)\u001b[0m\n\u001b[0;32m     65\u001b[0m \u001b[1;33m\u001b[0m\u001b[0m\n\u001b[0;32m     66\u001b[0m         \u001b[1;31m# below two are must and should be used only after calculation of Loss by optimizer\u001b[0m\u001b[1;33m\u001b[0m\u001b[1;33m\u001b[0m\u001b[1;33m\u001b[0m\u001b[0m\n\u001b[1;32m---> 67\u001b[1;33m         \u001b[0mloss\u001b[0m\u001b[1;33m.\u001b[0m\u001b[0mbackward\u001b[0m\u001b[1;33m(\u001b[0m\u001b[1;33m)\u001b[0m \u001b[1;31m# Start Back Propagation so that model can calculate gradients based on loss\u001b[0m\u001b[1;33m\u001b[0m\u001b[1;33m\u001b[0m\u001b[0m\n\u001b[0m\u001b[0;32m     68\u001b[0m         \u001b[0moptimizer\u001b[0m\u001b[1;33m.\u001b[0m\u001b[0mstep\u001b[0m\u001b[1;33m(\u001b[0m\u001b[1;33m)\u001b[0m \u001b[1;31m# update the weights based on gradient corresponding to each neuron\u001b[0m\u001b[1;33m\u001b[0m\u001b[1;33m\u001b[0m\u001b[0m\n\u001b[0;32m     69\u001b[0m \u001b[1;33m\u001b[0m\u001b[0m\n",
      "\u001b[1;32m~\\.conda\\envs\\pytorch\\lib\\site-packages\\torch\\tensor.py\u001b[0m in \u001b[0;36mbackward\u001b[1;34m(self, gradient, retain_graph, create_graph, inputs)\u001b[0m\n\u001b[0;32m    243\u001b[0m                 \u001b[0mcreate_graph\u001b[0m\u001b[1;33m=\u001b[0m\u001b[0mcreate_graph\u001b[0m\u001b[1;33m,\u001b[0m\u001b[1;33m\u001b[0m\u001b[1;33m\u001b[0m\u001b[0m\n\u001b[0;32m    244\u001b[0m                 inputs=inputs)\n\u001b[1;32m--> 245\u001b[1;33m         \u001b[0mtorch\u001b[0m\u001b[1;33m.\u001b[0m\u001b[0mautograd\u001b[0m\u001b[1;33m.\u001b[0m\u001b[0mbackward\u001b[0m\u001b[1;33m(\u001b[0m\u001b[0mself\u001b[0m\u001b[1;33m,\u001b[0m \u001b[0mgradient\u001b[0m\u001b[1;33m,\u001b[0m \u001b[0mretain_graph\u001b[0m\u001b[1;33m,\u001b[0m \u001b[0mcreate_graph\u001b[0m\u001b[1;33m,\u001b[0m \u001b[0minputs\u001b[0m\u001b[1;33m=\u001b[0m\u001b[0minputs\u001b[0m\u001b[1;33m)\u001b[0m\u001b[1;33m\u001b[0m\u001b[1;33m\u001b[0m\u001b[0m\n\u001b[0m\u001b[0;32m    246\u001b[0m \u001b[1;33m\u001b[0m\u001b[0m\n\u001b[0;32m    247\u001b[0m     \u001b[1;32mdef\u001b[0m \u001b[0mregister_hook\u001b[0m\u001b[1;33m(\u001b[0m\u001b[0mself\u001b[0m\u001b[1;33m,\u001b[0m \u001b[0mhook\u001b[0m\u001b[1;33m)\u001b[0m\u001b[1;33m:\u001b[0m\u001b[1;33m\u001b[0m\u001b[1;33m\u001b[0m\u001b[0m\n",
      "\u001b[1;32m~\\.conda\\envs\\pytorch\\lib\\site-packages\\torch\\autograd\\__init__.py\u001b[0m in \u001b[0;36mbackward\u001b[1;34m(tensors, grad_tensors, retain_graph, create_graph, grad_variables, inputs)\u001b[0m\n\u001b[0;32m    143\u001b[0m         \u001b[0mretain_graph\u001b[0m \u001b[1;33m=\u001b[0m \u001b[0mcreate_graph\u001b[0m\u001b[1;33m\u001b[0m\u001b[1;33m\u001b[0m\u001b[0m\n\u001b[0;32m    144\u001b[0m \u001b[1;33m\u001b[0m\u001b[0m\n\u001b[1;32m--> 145\u001b[1;33m     Variable._execution_engine.run_backward(\n\u001b[0m\u001b[0;32m    146\u001b[0m         \u001b[0mtensors\u001b[0m\u001b[1;33m,\u001b[0m \u001b[0mgrad_tensors_\u001b[0m\u001b[1;33m,\u001b[0m \u001b[0mretain_graph\u001b[0m\u001b[1;33m,\u001b[0m \u001b[0mcreate_graph\u001b[0m\u001b[1;33m,\u001b[0m \u001b[0minputs\u001b[0m\u001b[1;33m,\u001b[0m\u001b[1;33m\u001b[0m\u001b[1;33m\u001b[0m\u001b[0m\n\u001b[0;32m    147\u001b[0m         allow_unreachable=True, accumulate_grad=True)  # allow_unreachable flag\n",
      "\u001b[1;31mKeyboardInterrupt\u001b[0m: "
     ]
    }
   ],
   "source": [
    "if cuda:\n",
    "    model_class.to('cuda')\n",
    "optimizer = torch.optim.Adam(model_class.parameters(),lr=lr)\n",
    "\n",
    "EPOCH = 20\n",
    "for epoch in range(EPOCH):\n",
    "    train_loss, train_acc = train_network(model_class, train_loader, optimizer, loss_fn, epoch+1, tax = 'Class')\n",
    "    val_loss,val_acc = evaluate_network(model_class, test_loader, optimizer,loss_fn, tax = 'Class')\n",
    "    tqdm.write(f'''End of Epoch: {epoch+1}  |  Train Loss: {train_loss:.3f}  |  Val Loss: {val_loss:.3f}  |  Train Acc: {train_acc*100:.2f}%  |  Val Acc: {val_acc*100:.2f}%''')"
   ]
  },
  {
   "cell_type": "code",
   "execution_count": null,
   "id": "d05cb284",
   "metadata": {},
   "outputs": [],
   "source": []
  },
  {
   "cell_type": "code",
   "execution_count": null,
   "id": "a491656f",
   "metadata": {},
   "outputs": [],
   "source": [
    "\n",
    "out_class = 4\n",
    "model_class = Network(in_neuron, padding_idx, hidden_size = hidden_size, out_neuron = out_class)"
   ]
  },
  {
   "cell_type": "code",
   "execution_count": null,
   "id": "057aae14",
   "metadata": {},
   "outputs": [],
   "source": [
    "model_ = Network(in_neuron, padding_idx, hidden_size = hidden_size, out_neuron = out_class)"
   ]
  },
  {
   "cell_type": "code",
   "execution_count": null,
   "id": "297264c8",
   "metadata": {},
   "outputs": [],
   "source": [
    "model_.load_state_dict(model_class.state_dict())"
   ]
  },
  {
   "cell_type": "code",
   "execution_count": null,
   "id": "e910b195",
   "metadata": {},
   "outputs": [],
   "source": [
    "out_order = 16\n",
    "model_.dense = torch.nn.Linear(hidden_size * 2,out_order)"
   ]
  },
  {
   "cell_type": "code",
   "execution_count": null,
   "id": "5712a8b7",
   "metadata": {},
   "outputs": [],
   "source": [
    "model_"
   ]
  }
 ],
 "metadata": {
  "kernelspec": {
   "display_name": "Python 3",
   "language": "python",
   "name": "python3"
  },
  "language_info": {
   "codemirror_mode": {
    "name": "ipython",
    "version": 3
   },
   "file_extension": ".py",
   "mimetype": "text/x-python",
   "name": "python",
   "nbconvert_exporter": "python",
   "pygments_lexer": "ipython3",
   "version": "3.8.8"
  }
 },
 "nbformat": 4,
 "nbformat_minor": 5
}
